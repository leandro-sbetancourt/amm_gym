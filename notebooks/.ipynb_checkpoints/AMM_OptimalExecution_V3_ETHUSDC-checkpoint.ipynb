{
 "cells": [
  {
   "cell_type": "code",
   "execution_count": 1,
   "metadata": {},
   "outputs": [
    {
     "data": {
      "text/html": [
       "<style>.container { width:100% !important; }</style>"
      ],
      "text/plain": [
       "<IPython.core.display.HTML object>"
      ]
     },
     "metadata": {},
     "output_type": "display_data"
    }
   ],
   "source": [
    "import numpy as np, scipy.linalg as linlg\n",
    "import matplotlib.pyplot as plt\n",
    "from   IPython.display import display, HTML\n",
    "\n",
    "import numpy as np\n",
    "import matplotlib.pyplot as plt\n",
    "import pandas as pd\n",
    "from   IPython.display import display, HTML\n",
    "import pprint\n",
    "import datetime\n",
    "import matplotlib.dates as md\n",
    "from pathlib import Path\n",
    "import os\n",
    "import math\n",
    "import warnings\n",
    "from scipy.integrate import solve_ivp\n",
    "import scipy\n",
    "import statsmodels.api as sm\n",
    "from IPython.display import clear_output\n",
    "import matplotlib.ticker as ticker\n",
    "\n",
    "display(HTML(\"<style>.container { width:100% !important; }</style>\"))"
   ]
  },
  {
   "cell_type": "code",
   "execution_count": 2,
   "metadata": {},
   "outputs": [
    {
     "data": {
      "text/html": [
       "<style>.container { width:100% !important; }</style>"
      ],
      "text/plain": [
       "<IPython.core.display.HTML object>"
      ]
     },
     "metadata": {},
     "output_type": "display_data"
    }
   ],
   "source": [
    "pd.set_option('display.width', 1000)\n",
    "display(HTML(\"<style>.container { width:100% !important; }</style>\"))\n",
    "pd.set_option('mode.chained_assignment', None)\n",
    "import matplotlib.ticker as mtick\n",
    "fmt = '\\${x:,.2f}'\n",
    "tick = mtick.StrMethodFormatter(fmt)\n",
    "tick2 = mtick.StrMethodFormatter('\\${x:,.0f}')\n",
    "normal = mtick.StrMethodFormatter('{x:,.0f}')\n",
    "normal2 = mtick.StrMethodFormatter('{x:,.2f}')"
   ]
  },
  {
   "cell_type": "code",
   "execution_count": 3,
   "metadata": {},
   "outputs": [],
   "source": [
    "W = 5    # Figure width in inches, approximately A4-width - 2*1.25in margin\n",
    "\n",
    "plt.rcParams.update({\n",
    "    'figure.figsize': (W, W/(4/3)),     # 4:3 aspect ratio\n",
    "    'font.size' : 8,                   # Set font size to 11pt\n",
    "    'axes.labelsize': 8,               # -> axis labels\n",
    "    'legend.fontsize': 8,              # -> legends\n",
    "    'font.family': 'lmodern',\n",
    "    'text.usetex': True,\n",
    "    'text.latex.preamble': (            # LaTeX preamble\n",
    "        r'\\usepackage{lmodern}'\n",
    "        # ... more packages if needed\n",
    "    )\n",
    "})"
   ]
  },
  {
   "cell_type": "markdown",
   "metadata": {},
   "source": [
    "# Data download"
   ]
  },
  {
   "cell_type": "code",
   "execution_count": 4,
   "metadata": {},
   "outputs": [],
   "source": [
    "data_path = \"../allData\"\n",
    "poolAddress = '0x88e6a0c2ddd26feeb64f039a2c41296fcb3f5640'"
   ]
  },
  {
   "cell_type": "code",
   "execution_count": 5,
   "metadata": {},
   "outputs": [],
   "source": [
    "binancedatafns = ['ETHUSDC-trades-2021-07.csv',\n",
    "                 'ETHUSDC-trades-2021-08.csv',\n",
    "                 'ETHUSDC-trades-2021-09.csv',\n",
    "                 'ETHUSDC-trades-2021-10.csv',\n",
    "                 'ETHUSDC-trades-2021-11.csv',\n",
    "                 'ETHUSDC-trades-2021-12.csv',\n",
    "                 'ETHUSDC-trades-2022-01.csv',\n",
    "                 'ETHUSDC-trades-2022-02.csv',\n",
    "                 'ETHUSDC-trades-2022-03.csv',\n",
    "                 'ETHUSDC-trades-2022-04.csv']"
   ]
  },
  {
   "cell_type": "code",
   "execution_count": 6,
   "metadata": {},
   "outputs": [],
   "source": [
    "Swapdata = pd.read_pickle(os.path.join(data_path,f'{poolAddress}_swapdata.pkl'))\n",
    "LPdata = pd.read_pickle(os.path.join(data_path,f'{poolAddress}_LPdata.pkl'))\n",
    "tickdata = pd.read_pickle(os.path.join(data_path,f'{poolAddress}_tickdata.pkl'))\n",
    "Pooldata = pd.read_pickle(f'../allData/{poolAddress}_Pooldata.pkl')\n",
    "\n",
    "Swapdata['amount1'] = Swapdata['amount1'].astype(float)\n",
    "Swapdata['amount0'] = Swapdata['amount0'].astype(float)\n",
    "\n",
    "Swapdata = Swapdata[~Swapdata.index.duplicated()].sort_index()\n",
    "LPdata = LPdata[~LPdata.index.duplicated()].sort_index()\n",
    "Swapdata = Swapdata[Swapdata.executionPrice!=0].sort_index()"
   ]
  },
  {
   "cell_type": "code",
   "execution_count": 7,
   "metadata": {},
   "outputs": [],
   "source": [
    "d_tmp = {}\n",
    "\n",
    "for binancedatafn in binancedatafns:\n",
    "    tmpBinanceData = pd.read_csv( os.path.join(data_path,binancedatafn), index_col=0, header=None)\n",
    "    tmpBinanceData.columns = ['price','qty','quoteQty','time','isBuyerMaker','isBestMatch']\n",
    "    tmpBinanceData.index.name = 'trade Id'\n",
    "    tmpBinanceData['time'] = [datetime.datetime.fromtimestamp(i/1000) for i in tmpBinanceData.time.values]\n",
    "    tmpBinanceData['time'] = tmpBinanceData['time'] #+ pd.to_timedelta(1, unit='h')\n",
    "    tmpBinanceData = tmpBinanceData.set_index('time')\n",
    "    \n",
    "    d_tmp[binancedatafn] = tmpBinanceData"
   ]
  },
  {
   "cell_type": "code",
   "execution_count": 8,
   "metadata": {},
   "outputs": [],
   "source": [
    "BinanceData = pd.concat( (d_tmp[s] for s in d_tmp.keys()),axis=0).sort_index()\n",
    "\n",
    "if 'DAI' in binancedatafn:\n",
    "    Swapdata['poolPrice'] = Swapdata['poolPrice']/1e12"
   ]
  },
  {
   "cell_type": "markdown",
   "metadata": {},
   "source": [
    "# In-sample - Out-of-Sample\n",
    "### Data"
   ]
  },
  {
   "cell_type": "code",
   "execution_count": 9,
   "metadata": {},
   "outputs": [],
   "source": [
    "from_date_is = '2022-03-15 12:00'\n",
    "from_date_os = '2022-03-16 12:00'\n",
    "to_date_os   = '2022-03-16 15:00'"
   ]
  },
  {
   "cell_type": "code",
   "execution_count": 10,
   "metadata": {},
   "outputs": [
    {
     "data": {
      "image/png": "[encoded data removed]",
      "text/plain": [
       "<Figure size 360x270 with 6 Axes>"
      ]
     },
     "metadata": {
      "needs_background": "light"
     },
     "output_type": "display_data"
    }
   ],
   "source": [
    "is_swapdata = Swapdata[((Swapdata.timestamp<from_date_os) & (Swapdata.timestamp>=from_date_is))]\n",
    "is_swapdata['poolPricePrev'] = is_swapdata['poolPrice'].shift(1)\n",
    "\n",
    "os_swapdata = Swapdata[((Swapdata.timestamp<to_date_os) & (Swapdata.timestamp>=from_date_os))]\n",
    "os_swapdata['poolPricePrev'] = os_swapdata['poolPrice'].shift(1)\n",
    "\n",
    "is_BinanceData = BinanceData[((BinanceData.index<from_date_os) & (BinanceData.index>=from_date_is))]\n",
    "os_BinanceData = BinanceData[((BinanceData.index<to_date_os) & (BinanceData.index>=from_date_os))]\n",
    "\n",
    "fig, axes = plt.subplots(3, 2, gridspec_kw={'height_ratios': [2.5, 1, 1], 'width_ratios' : [2, 1]})\n",
    "ax1 = axes[0,0]; ax2 = axes[0,1]; ax1.sharey(ax2)\n",
    "ax3 = axes[2,0]; ax4 = axes[2,1]; ax3.sharey(ax4)\n",
    "ax5 = axes[1,0]; ax6 = axes[1,1]; ax5.sharey(ax6)\n",
    "ax1.sharex(ax3); ax2.sharex(ax4); ax6.sharex(ax4); \n",
    "ax5.sharex(ax1)\n",
    "\n",
    "toplotL = Pooldata[ ((Pooldata.timestamp >= from_date_is)&(Pooldata.timestamp < from_date_os))]\n",
    "# toplotL = toplotL[toplotL.inrange_L*1e12>=2.2*10**7]\n",
    "\n",
    "ax5.plot(toplotL.timestamp,\n",
    "         toplotL.tick_L*1e12,\n",
    "         color = 'k')\n",
    "ax6.plot(Pooldata[ ((Pooldata.timestamp >= from_date_os)&(Pooldata.timestamp < to_date_os))].timestamp,\n",
    "         Pooldata[ ((Pooldata.timestamp >= from_date_os)&(Pooldata.timestamp < to_date_os))].tick_L*1e12,\n",
    "         color = 'k')\n",
    "\n",
    "# (Pooldata[ ((Pooldata.timestamp >= from_date_is)&(Pooldata.timestamp < from_date_os))].inrange_L*1e12).plot()\n",
    "# (Pooldata[ ((Pooldata.timestamp >= from_date_is)&(Pooldata.timestamp < from_date_os))].tick_L*1e12).plot()\n",
    "\n",
    "ax1.plot(is_BinanceData.index, is_BinanceData.price, color= 'grey')\n",
    "ax1.plot(is_swapdata.timestamp, is_swapdata.poolPricePrev, color='k')\n",
    "ax2.plot(os_BinanceData.index, os_BinanceData.price, color= 'grey')\n",
    "ax2.plot(os_swapdata.timestamp, os_swapdata.poolPricePrev, color='k')\n",
    "\n",
    "ax1.legend(['Oracle', 'AMM'], loc=\"lower center\")\n",
    "ax5.legend(['Depth $\\kappa$'], loc=\"lower center\")\n",
    "\n",
    "ax3.bar(is_swapdata.timestamp, is_swapdata.amountUSD.astype(float), width=0.004, color='k')\n",
    "ax4.bar(os_swapdata.timestamp, os_swapdata.amountUSD.astype(float), width=0.002, color='k')\n",
    "\n",
    "# ax2.set_ylabel('ETH/USDC')\n",
    "# ax4.set_ylabel('Transaction size')\n",
    "\n",
    "for ax in (ax1, ax2):\n",
    "    ax.xaxis.set_major_formatter(md.DateFormatter('%H:%M'))\n",
    "    ax.yaxis.set_major_formatter(tick2)\n",
    "    ax.yaxis.tick_right()\n",
    "    ax.yaxis.set_label_position(\"right\")\n",
    "    ax.grid(axis='y', color='gainsboro', linestyle='-', linewidth=0.5)\n",
    "    ax.set_axisbelow(True)\n",
    "    \n",
    "for ax in (ax3, ax4):\n",
    "    ax.xaxis.set_major_formatter(md.DateFormatter('%H:%M'))\n",
    "    ax.yaxis.set_major_formatter(tick2)\n",
    "    ax.yaxis.tick_right()\n",
    "    ax.yaxis.set_label_position(\"right\")\n",
    "    ax.grid(axis='y', color='gainsboro', linestyle='-', linewidth=0.5)\n",
    "    ax.set_axisbelow(True)\n",
    "\n",
    "for ax in (ax5, ax6):\n",
    "    ax.xaxis.set_major_formatter(md.DateFormatter('%H:%M'))\n",
    "    ax.yaxis.tick_right()\n",
    "    ax.yaxis.set_label_position(\"right\")\n",
    "    ax.grid(axis='y', color='gainsboro', linestyle='-', linewidth=0.5)\n",
    "    ax.set_axisbelow(True)\n",
    "\n",
    "ax3.set_ylim(0,2500000)\n",
    "ax3.yaxis.set_major_formatter(ticker.FuncFormatter(lambda x, pos: '\\${:,.0f}'.format(x/1000000) + r'Mn'))\n",
    "\n",
    "ax1.set_xticks(ax1.get_xticks()[::2])\n",
    "ax6.set_xticks(ax6.get_xticks()[::3])\n",
    "\n",
    "# axes[1,0].set_xticks(axes[1,0].get_xticks()[::2])\n",
    "# axes[2,0].set_xticks(axes[2,0].get_xticks()[::2])\n",
    "\n",
    "ax1.set_title(f'{from_date_is} $\\longrightarrow$ {from_date_os}')\n",
    "ax2.set_title(f'12:00 $\\longrightarrow$ 15:00')\n",
    "\n",
    "plt.tight_layout()\n",
    "plt.savefig('backtest1_USDC.pdf')\n",
    "plt.show()"
   ]
  },
  {
   "cell_type": "code",
   "execution_count": 14,
   "metadata": {},
   "outputs": [],
   "source": [
    "os_swapdata.amountUSD.astype(float).sum()\n",
    "is_swapdata.amount1.abs().sum()\n",
    "\n",
    "dt = is_swapdata.timestamp.diff(1).mean().seconds\n",
    "ytilde0  = (is_swapdata.set_index('timestamp')[['amount1']].abs().sum().values[0]*0.5)/12 #bi-hourly !!"
   ]
  },
  {
   "cell_type": "code",
   "execution_count": 15,
   "metadata": {},
   "outputs": [
    {
     "name": "stdout",
     "output_type": "stream",
     "text": [
      "trading frequency :  14  seconds\n",
      "total USD transaction amount :  625850669.7641733\n",
      "total ETH transaction amount :  238039.69977329383\n",
      "Initial inventory :  9918.320823887243\n"
     ]
    }
   ],
   "source": [
    "print('trading frequency : ', dt, ' seconds')\n",
    "print('total USD transaction amount : ', is_swapdata.amountUSD.astype(float).sum())\n",
    "print('total ETH transaction amount : ', is_swapdata.amount1.astype(float).abs().sum())\n",
    "print('Initial inventory : ', ytilde0)"
   ]
  },
  {
   "cell_type": "code",
   "execution_count": 16,
   "metadata": {},
   "outputs": [],
   "source": [
    "is_all_data = pd.concat((is_swapdata[['poolPricePrev', 'poolPrice', 'timestamp']].groupby('timestamp').last(), is_BinanceData.reset_index().groupby('time').last()[['price']]), axis=1).fillna(method='ffill').dropna()\n",
    "os_all_data = pd.concat((os_swapdata[['poolPricePrev', 'poolPrice', 'timestamp']].groupby('timestamp').last(), os_BinanceData.reset_index().groupby('time').last()[['price']]), axis=1).fillna(method='ffill').dropna()"
   ]
  },
  {
   "cell_type": "markdown",
   "metadata": {},
   "source": [
    "### Dynamics parameters"
   ]
  },
  {
   "cell_type": "markdown",
   "metadata": {},
   "source": [
    "#### KAPPA 0"
   ]
  },
  {
   "cell_type": "code",
   "execution_count": 17,
   "metadata": {},
   "outputs": [
    {
     "name": "stdout",
     "output_type": "stream",
     "text": [
      "Kappa 0 =  20735659.143269908\n"
     ]
    }
   ],
   "source": [
    "kappa0 = Pooldata[Pooldata.timestamp >= from_date_os].iloc[0].tick_L*1e12\n",
    "print('Kappa 0 = ', kappa0)"
   ]
  },
  {
   "cell_type": "markdown",
   "metadata": {},
   "source": [
    "#### beta, sigma, gamma, Z0, S0, y0"
   ]
  },
  {
   "cell_type": "code",
   "execution_count": 18,
   "metadata": {},
   "outputs": [],
   "source": [
    "# is_all_datatest"
   ]
  },
  {
   "cell_type": "code",
   "execution_count": 19,
   "metadata": {},
   "outputs": [
    {
     "name": "stdout",
     "output_type": "stream",
     "text": [
      "beta =  657.996429127187\n"
     ]
    }
   ],
   "source": [
    "is_all_datatest = pd.concat((is_swapdata[['poolPricePrev', 'timestamp']].groupby('timestamp').last(), \n",
    "                       is_BinanceData.reset_index().groupby('time').last()[['price']]), axis=1\n",
    "                     )\n",
    "is_all_datatest['poolPricePrev'] = is_all_datatest['poolPricePrev'].fillna(method='ffill')\n",
    "# is_all_datatest['price'] = is_all_datatest['price'].fillna(method='ffill')\n",
    "\n",
    "is_all_datatest = is_all_datatest.dropna()\n",
    "# is_all_datatest.plot()\n",
    "\n",
    "Z   = is_all_datatest['poolPricePrev']\n",
    "S   = is_all_datatest['price']\n",
    "\n",
    "dts = np.array([float(s)/(1000000000*60*60*24) for s in np.diff(is_all_datatest.index)])\n",
    "dts = np.roll(dts, -1)\n",
    "\n",
    "Y   = np.log(Z).diff(1).shift(-1).values[:-1]\n",
    "X   = ((S - Z) / Z).values[:-1]\n",
    "X   = X * dts #((np.diff(S.index)/1000000000).astype(float)/(60 * 60 * 24))\n",
    "\n",
    "model   = sm.OLS(Y, X )\n",
    "results = model.fit()\n",
    "\n",
    "print('beta = ', results.params[0])"
   ]
  },
  {
   "cell_type": "code",
   "execution_count": 20,
   "metadata": {},
   "outputs": [],
   "source": [
    "is_swapdata_ = is_swapdata.groupby('timestamp').first()\n",
    "dt      = np.mean(dts)\n",
    "gamma = results.resid.std()/np.sqrt(dt)\n",
    "beta  = results.params[0]\n",
    "sigma = np.log(S).diff(1).std()/np.sqrt(dt)"
   ]
  },
  {
   "cell_type": "code",
   "execution_count": 21,
   "metadata": {},
   "outputs": [],
   "source": [
    "Z0 = os_all_data.iloc[0]['poolPricePrev']\n",
    "S0 = os_all_data.iloc[0]['price']\n",
    "\n",
    "y0 = (kappa0**2 /Z0)**0.5\n",
    "x0 = kappa0**2 /y0"
   ]
  },
  {
   "cell_type": "markdown",
   "metadata": {},
   "source": [
    "#### eta: should be with dynamic kappa !"
   ]
  },
  {
   "cell_type": "code",
   "execution_count": 22,
   "metadata": {},
   "outputs": [
    {
     "name": "stdout",
     "output_type": "stream",
     "text": [
      "Price parameters: sigma = 0.045, beta = 658.0, gamma = 0.034, Z0 = 2690.77, S0 = 2689.2\n",
      "Pool parameters: kappa0 = 20735659.14, x0 = 1075613972.45, y0 = 399741.52\n"
     ]
    }
   ],
   "source": [
    "print(f'Price parameters: sigma = {round(sigma, 3)}, beta = {round(beta, 2)}, gamma = {round(gamma, 3)}, Z0 = {round(Z0, 2)}, S0 = {round(S0, 2)}')\n",
    "print(f'Pool parameters: kappa0 = {round(kappa0, 2)}, x0 = {round(x0, 2)}, y0 = {round(y0, 2)}')"
   ]
  },
  {
   "cell_type": "markdown",
   "metadata": {},
   "source": [
    "# Optimal pseudo-closed form strategy: functions"
   ]
  },
  {
   "cell_type": "code",
   "execution_count": 23,
   "metadata": {},
   "outputs": [],
   "source": [
    "def solveADF(eta, phi,  alpha, phisec, gamma, beta, T, dt, ts):\n",
    "    At = lambda t, s: phi - (2/(phisec*eta))*s**2\n",
    "    sol = solve_ivp(At, [T, 0], [-alpha], t_eval=ts[::-1])\n",
    "    A = sol.y[0]\n",
    "    A_interp = scipy.interpolate.interp1d(ts, A[::-1])\n",
    "    \n",
    "    Dt = lambda t, s:  beta + beta*s - (2 / (phisec*eta))*s*A_interp(t)\n",
    "    sol = solve_ivp(Dt, [T, 0], [0], t_eval=ts[::-1])\n",
    "    D = sol.y[0]\n",
    "    D_interp = scipy.interpolate.interp1d(ts, D[::-1])\n",
    "    \n",
    "    F = -D\n",
    "    F_interp = scipy.interpolate.interp1d(ts, -D[::-1])\n",
    "    \n",
    "    return A[::-1], D[::-1], F[::-1], A_interp, D_interp, F_interp"
   ]
  },
  {
   "cell_type": "markdown",
   "metadata": {},
   "source": [
    "# Backtest strategy"
   ]
  },
  {
   "cell_type": "markdown",
   "metadata": {},
   "source": [
    "### Resample data to frequency of AMM"
   ]
  },
  {
   "cell_type": "code",
   "execution_count": 24,
   "metadata": {},
   "outputs": [],
   "source": [
    "os_data = os_all_data.resample('15S').last().fillna(method='ffill')"
   ]
  },
  {
   "cell_type": "markdown",
   "metadata": {},
   "source": [
    "### Trading parameters"
   ]
  },
  {
   "cell_type": "code",
   "execution_count": 25,
   "metadata": {},
   "outputs": [],
   "source": [
    "# Time\n",
    "T    = 1/12 #2 hours to trade everything\n",
    "nb_t = len(os_data) #int(0.5*24*60)\n",
    "dt   = T/nb_t\n",
    "ts   = np.linspace(0, T, nb_t)"
   ]
  },
  {
   "cell_type": "code",
   "execution_count": 26,
   "metadata": {},
   "outputs": [],
   "source": [
    "# isPooldata = Pooldata[((Pooldata.timestamp<from_date_os) & (Pooldata.timestamp>=from_date_is))]\n",
    "# isPooldata['poolPricePrev'] = isPooldata['poolPrice'].shift(1)\n",
    "# isPooldata"
   ]
  },
  {
   "cell_type": "code",
   "execution_count": 27,
   "metadata": {},
   "outputs": [],
   "source": [
    "# # get eta\n",
    "# DT = 15/(60*60*24)\n",
    "\n",
    "# fee_ = 0.0005\n",
    "\n",
    "# isPooldata['amount0_net'] = 0\n",
    "# isPooldata['amount1_net'] = 0\n",
    "# isPooldata['executionCost'] = 0\n",
    "\n",
    "# isPooldata.loc[ isPooldata[isPooldata.amount1>0].index, 'amount0_net'] = (1+fee_)*isPooldata.loc[ isPooldata[isPooldata.amount1>0].index,'amount0']\n",
    "# isPooldata.loc[ isPooldata[isPooldata.amount1<=0].index, 'amount0_net'] = isPooldata.loc[ isPooldata[isPooldata.amount1<=0].index,'amount0']\n",
    "\n",
    "# isPooldata.loc[ isPooldata[isPooldata.amount1<=0].index, 'amount1_net'] = (1+fee_)*isPooldata.loc[ isPooldata[isPooldata.amount1<=0].index,'amount1']\n",
    "# isPooldata.loc[ isPooldata[isPooldata.amount1>0].index, 'amount1_net'] = isPooldata.loc[ isPooldata[isPooldata.amount1>0].index,'amount1']\n",
    "\n",
    "# isPooldata.loc[ isPooldata[isPooldata.amount1>0].index, 'executionCost'] = isPooldata.loc[ isPooldata[isPooldata.amount1>0].index,'poolPricePrev'].abs() + (1+fee_)*isPooldata.loc[ isPooldata[isPooldata.amount1>0].index,'amount0'] / isPooldata.loc[ isPooldata[isPooldata.amount1>0].index,'amount1']\n",
    "# isPooldata.loc[ isPooldata[isPooldata.amount1<0].index, 'executionCost'] = isPooldata.loc[ isPooldata[isPooldata.amount1<0].index,'poolPricePrev'].abs() + isPooldata.loc[ isPooldata[isPooldata.amount1<0].index,'amount0'] / ((1+fee_)*isPooldata.loc[ isPooldata[isPooldata.amount1<0].index,'amount1'])\n",
    "\n",
    "# yy_ols = isPooldata.executionCost #isPooldata.amount0_net.astype(float) + isPooldata.poolPricePrev*isPooldata.amount1_net.astype(float)\n",
    "# xx_ols = (isPooldata.poolPricePrev.astype(float)**1.5 / kappa0)/DT\n",
    "\n",
    "# idxcommun = xx_ols.dropna().index.intersection(yy_ols.dropna().index)\n",
    "# model   = sm.OLS(yy_ols.loc[idxcommun].astype(float).values, xx_ols.loc[idxcommun].astype(float).values)\n",
    "# results = model.fit()\n",
    "\n",
    "# results.summary()"
   ]
  },
  {
   "cell_type": "code",
   "execution_count": 28,
   "metadata": {},
   "outputs": [],
   "source": [
    "# results.params"
   ]
  },
  {
   "cell_type": "code",
   "execution_count": 29,
   "metadata": {},
   "outputs": [],
   "source": [
    "alpha   = 10\n",
    "\n",
    "phi1    = 0.005\n",
    "eta1    = dt"
   ]
  },
  {
   "cell_type": "code",
   "execution_count": 30,
   "metadata": {},
   "outputs": [
    {
     "name": "stdout",
     "output_type": "stream",
     "text": [
      "Price parameters: sigma = 0.04457, beta = 658.0, gamma = 0.03367, Z0 = 2690.77, S0 = 2689.2\n",
      "Pool parameters: kappa0 = 20735659.14, x0 = 1075613972.45, y0 = 399741.52\n",
      "Algorithm parameters: T = 0.08, dt = 10.0 sec\n",
      "eta1 = 0.000116, phi1 = 0.005\n",
      "Initial inventory :  9918.320823887243\n"
     ]
    }
   ],
   "source": [
    "print(f'Price parameters: sigma = {round(sigma, 5)}, beta = {round(beta, 2)}, gamma = {round(gamma, 5)}, Z0 = {round(Z0, 2)}, S0 = {round(S0, 2)}')\n",
    "print(f'Pool parameters: kappa0 = {round(kappa0, 2)}, x0 = {round(x0, 2)}, y0 = {round(y0, 2)}')\n",
    "print(f'Algorithm parameters: T = {round(T, 2)}, dt = {round(dt*60*60*24, 5)} sec')\n",
    "print(f'eta1 = {round(eta1, 6)}, phi1 = {round(phi1, 6)}')\n",
    "# print(f'eta2 = {round(eta2, 6)}, phi2 = {round(phi2, 2)}')\n",
    "\n",
    "print('Initial inventory : ', ytilde0)"
   ]
  },
  {
   "cell_type": "markdown",
   "metadata": {},
   "source": [
    "### Compare pseudo closed form & integrated form"
   ]
  },
  {
   "cell_type": "code",
   "execution_count": 31,
   "metadata": {},
   "outputs": [
    {
     "data": {
      "image/png": "[encoded data removed]",
      "text/plain": [
       "<Figure size 360x270 with 3 Axes>"
      ]
     },
     "metadata": {
      "needs_background": "light"
     },
     "output_type": "display_data"
    }
   ],
   "source": [
    "Ac1,Dc1,Fc1,_,_,_ = solveADF(eta1, phi1, alpha, 2*Z0**1.5 / (kappa0), gamma, beta, T, dt, ts)\n",
    "\n",
    "fig, axes = plt.subplots(1, 3)\n",
    "\n",
    "axes[0].plot(ts, Ac1);\n",
    "axes[1].plot(ts, Dc1); \n",
    "axes[2].plot(ts, Fc1);\n",
    "\n",
    "axes[0].legend(['A1 closed form', 'A2 closed form'])\n",
    "axes[1].legend(['D1 closed form', 'D2 closed form'])\n",
    "axes[2].legend(['F1 closed form', 'F2 closed form'])\n",
    "\n",
    "plt.tight_layout()\n",
    "plt.show()"
   ]
  },
  {
   "cell_type": "markdown",
   "metadata": {},
   "source": [
    "### backtest"
   ]
  },
  {
   "cell_type": "code",
   "execution_count": 32,
   "metadata": {
    "scrolled": true
   },
   "outputs": [
    {
     "data": {
      "text/plain": [
       "[<matplotlib.lines.Line2D at 0x7fca3c05a970>]"
      ]
     },
     "execution_count": 32,
     "metadata": {},
     "output_type": "execute_result"
    },
    {
     "data": {
      "image/png": "[encoded data removed]",
      "text/plain": [
       "<Figure size 360x270 with 1 Axes>"
      ]
     },
     "metadata": {
      "needs_background": "light"
     },
     "output_type": "display_data"
    }
   ],
   "source": [
    "v1      = np.empty(nb_t)\n",
    "ytilde1 = np.empty(nb_t)\n",
    "xtilde1 = np.empty(nb_t)\n",
    "pnl1    = np.empty(nb_t)\n",
    "tradingCosts1 = np.zeros(nb_t)\n",
    "\n",
    "# v2      = np.empty(nb_t)\n",
    "# ytilde2 = np.empty(nb_t)\n",
    "# xtilde2 = np.empty(nb_t)\n",
    "# pnl2    = np.empty(nb_t)\n",
    "# tradingCosts2 = np.zeros(nb_t)\n",
    "phisecs= np.empty(nb_t)\n",
    "\n",
    "ytilde1[0]   = ytilde0\n",
    "# ytilde2[0]   = ytilde0\n",
    "\n",
    "xtilde1[0]   = 0.\n",
    "# xtilde2[0]   = 0.\n",
    "\n",
    "pnl1[0]      = 0.\n",
    "# pnl2[0]      = 0.\n",
    "\n",
    "Z = os_data['poolPrice']\n",
    "S = os_data['price']\n",
    "\n",
    "phisec0 = 2*Z0**1.5 / (kappa0)\n",
    "\n",
    "A1, D1, F1, A_interp1, D_interp1, F_interp1 = solveADF(eta1, phi1,  alpha, phisec0, gamma, beta, T, dt, ts)\n",
    "\n",
    "for it in range(nb_t-1):\n",
    "    t = ts[it]\n",
    "    phisec       = 2*Z[it]**1.5 / kappa0 # should be changed to real kappa\n",
    "    phisecs[it]  = phisec\n",
    "    \n",
    "#     A1, D1, F1, A_interp1, D_interp1, F_interp1 = solveADF(eta1, phi1,  alpha, phisec, gamma, beta, T, dt, ts)\n",
    "\n",
    "    v1[it]        = -(2*A_interp1(t)*ytilde1[it] + D_interp1(t)*Z[it] + F_interp1(t)*S[it])/(eta1*phisec0)\n",
    "    \n",
    "#     print('***it: ', it, 'speed = ', v1[it])\n",
    "#     if ((v1[it] < 0) & (ytilde1[it] > 0)):\n",
    "#         print('it: ', it, 'speed = ', v1[it])\n",
    "#         v1[it] = 0\n",
    "        \n",
    "    ytilde1[it+1] = ytilde1[it] - v1[it]*dt\n",
    "    \n",
    "    tradingCosts1[it+1] = (ytilde1[it] - v1[it]*dt)\n",
    "    \n",
    "#     if it%100==0: \n",
    "#         print('Time : ', round(ts[it], 2),\n",
    "#               ',  Implied price: ', round(Z[it], 2), \n",
    "#               ',  Exec price: ', round(Z[it] - 0.5*v[it]*phisec*dt, 2), \n",
    "# #               ',  Real exec price : ', round(((kappa0 / y[it]) - (kappa0 / (y[it] + v[it]*dt)))/(v[it]*dt) , 2),\n",
    "#               ',  Traded quantity: ', round(-v[it]*dt, 4), \n",
    "#               ',  Spread Z-S: ', round(Z[it]-S[it], 4), \n",
    "#               ',  Inventory: ', round(ytilde[it], 2),\n",
    "#               ',  convexity: ', round(phisec , 2),       \n",
    "#               ',  delta cash 1: ', round(v[it]*Z[it]*dt, 2),\n",
    "#               ',  delta cash 2: ', round(-0.5*dt*phisec*dt*v[it]**2, 2))\n",
    "    \n",
    "    xtilde1[it+1] = xtilde1[it]   + v1[it]*Z[it]*dt - .5*dt*phisec*dt*v1[it]**2\n",
    "    pnl1[it+1]    = xtilde1[it+1] + Z[it+1] * ytilde1[it+1] - Z[0] * ytilde1[0]\n",
    "\n",
    "plt.plot(ytilde1)\n",
    "# plt.plot(ytilde2)"
   ]
  },
  {
   "cell_type": "code",
   "execution_count": 30,
   "metadata": {},
   "outputs": [],
   "source": [
    "# ytilde1"
   ]
  },
  {
   "cell_type": "code",
   "execution_count": 31,
   "metadata": {},
   "outputs": [],
   "source": [
    "# dfCurves = {}\n",
    "# allphis = np.linspace(0,0.5,30)\n",
    "\n",
    "# DT = 15 / (60*60*24)\n",
    "\n",
    "# for phi in allphis:\n",
    "    \n",
    "#     print('Computing for phi = ', phi)\n",
    "#     v1      = np.empty(nb_t)\n",
    "#     ytilde1 = np.empty(nb_t)\n",
    "#     xtilde1 = np.empty(nb_t)\n",
    "#     pnl1    = np.empty(nb_t)\n",
    "#     tradingCosts1 = np.zeros(nb_t)\n",
    "\n",
    "#     phisecs= np.empty(nb_t)\n",
    "\n",
    "#     ytilde1[0]   = ytilde0\n",
    "#     xtilde1[0]   = 0.\n",
    "#     pnl1[0]      = 0.\n",
    "\n",
    "#     Z = os_data['poolPrice']\n",
    "#     S = os_data['price']\n",
    "\n",
    "#     phisec0 = 2*Z0**1.5 / (kappa0)\n",
    "    \n",
    "#     A1, D1, F1, A_interp1, D_interp1, F_interp1 = solveADF(DT, phi,  alpha, phisec0, gamma, beta, T, dt, ts)\n",
    "    \n",
    "#     for it in range(nb_t-1):\n",
    "#         t = ts[it]\n",
    "#         phisec       = 2*Z[it]**1.5 / kappa0 # should be changed to real kappa\n",
    "#         phisecs[it]  = phisec\n",
    "#         v1[it]        = -(2*A_interp1(t)*ytilde1[it] + D_interp1(t)*Z[it] + F_interp1(t)*S[it])/(eta1*phisec0)\n",
    "#         ytilde1[it+1] = ytilde1[it] - v1[it]*dt\n",
    "#         tradingCosts1[it+1] = (ytilde1[it] - v1[it]*dt)\n",
    "#         xtilde1[it+1] = xtilde1[it]   + v1[it]*Z[it]*dt - .5*dt*phisec*dt*v1[it]**2\n",
    "#         pnl1[it+1]    = xtilde1[it+1] + Z[it+1] * ytilde1[it+1] - Z[0] * ytilde1[0]\n",
    "    \n",
    "#     dfCurves[phi] =ytilde1 \n",
    "    \n",
    "# plt.plot(pd.concat((pd.Series(dfCurve) for dfCurve in dfCurves.values()), axis=1))\n",
    "# plt.legend(allphis)"
   ]
  },
  {
   "cell_type": "code",
   "execution_count": null,
   "metadata": {},
   "outputs": [],
   "source": []
  },
  {
   "cell_type": "code",
   "execution_count": 32,
   "metadata": {},
   "outputs": [],
   "source": [
    "# plt.rcParams['figure.figsize'] = (15., 15. / 16 * 7)\n",
    "\n",
    "# fig, ((ax1, ax2), (ax3, ax4)) = plt.subplots(2, 2)\n",
    "\n",
    "# ax1.plot([-2*A_interp1(t)*(ytilde1[it]/10)/(eta1*phisec0) for it in range(nb_t)])\n",
    "# ax2.plot([D_interp1(t)*(S[it] - Z[it])/(eta1*phisec0) for it in range(nb_t)])\n",
    "\n",
    "# ax3.plot([-2*A_interp2(t)*(ytilde2[it]/10)/(eta2*phisec0) for it in range(nb_t)])\n",
    "# ax4.plot([D_interp2(t)*(S[it] - Z[it])/(eta2*phisec0) for it in range(nb_t)])"
   ]
  },
  {
   "cell_type": "code",
   "execution_count": 33,
   "metadata": {},
   "outputs": [
    {
     "data": {
      "text/plain": [
       "0.006731074240962954"
      ]
     },
     "execution_count": 33,
     "metadata": {},
     "output_type": "execute_result"
    }
   ],
   "source": [
    "Z[0]**1.5 / kappa0"
   ]
  },
  {
   "cell_type": "code",
   "execution_count": 33,
   "metadata": {},
   "outputs": [],
   "source": [
    "# plt.plot(-v2)"
   ]
  },
  {
   "cell_type": "code",
   "execution_count": 34,
   "metadata": {
    "scrolled": true
   },
   "outputs": [
    {
     "name": "stdout",
     "output_type": "stream",
     "text": [
      "Time :  0.0 ,  Implied price:  2690.72 ,  Exec price:  2623.96 ,  Traded quantity:  -9918.3208 ,  Spread Z-S:  0.2878 ,  Inventory:  9918.32 ,  convexity:  0.01 ,  delta cash 1:  26687402.32 ,  delta cash 2:  -662156.56\n",
      "Time :  0.0 ,  Implied price:  2690.72 ,  Exec price:  2690.63 ,  Traded quantity:  -13.78 ,  Remaining quantity:  9918.32 ,  convexity:  0.01 ,  delta cash 1:  37065.84 ,  delta cash 2:  -1.28\n",
      "Time :  0.01 ,  Implied price:  2687.68 ,  Exec price:  2687.59 ,  Traded quantity:  -13.78 ,  Remaining quantity:  9229.55 ,  convexity:  0.01 ,  delta cash 1:  37024.02 ,  delta cash 2:  -1.28\n",
      "Time :  0.01 ,  Implied price:  2680.1 ,  Exec price:  2680.01 ,  Traded quantity:  -13.78 ,  Remaining quantity:  8540.78 ,  convexity:  0.01 ,  delta cash 1:  36919.61 ,  delta cash 2:  -1.27\n",
      "Time :  0.02 ,  Implied price:  2678.35 ,  Exec price:  2678.26 ,  Traded quantity:  -13.78 ,  Remaining quantity:  7852.0 ,  convexity:  0.01 ,  delta cash 1:  36895.44 ,  delta cash 2:  -1.27\n",
      "Time :  0.02 ,  Implied price:  2670.5 ,  Exec price:  2670.4 ,  Traded quantity:  -13.78 ,  Remaining quantity:  7163.23 ,  convexity:  0.01 ,  delta cash 1:  36787.26 ,  delta cash 2:  -1.26\n",
      "Time :  0.03 ,  Implied price:  2674.15 ,  Exec price:  2674.06 ,  Traded quantity:  -13.78 ,  Remaining quantity:  6474.46 ,  convexity:  0.01 ,  delta cash 1:  36837.61 ,  delta cash 2:  -1.27\n",
      "Time :  0.03 ,  Implied price:  2667.24 ,  Exec price:  2667.14 ,  Traded quantity:  -13.78 ,  Remaining quantity:  5785.69 ,  convexity:  0.01 ,  delta cash 1:  36742.37 ,  delta cash 2:  -1.26\n",
      "Time :  0.04 ,  Implied price:  2673.78 ,  Exec price:  2673.68 ,  Traded quantity:  -13.78 ,  Remaining quantity:  5096.91 ,  convexity:  0.01 ,  delta cash 1:  36832.47 ,  delta cash 2:  -1.27\n",
      "Time :  0.05 ,  Implied price:  2687.09 ,  Exec price:  2686.99 ,  Traded quantity:  -13.78 ,  Remaining quantity:  4408.14 ,  convexity:  0.01 ,  delta cash 1:  37015.8 ,  delta cash 2:  -1.27\n",
      "Time :  0.05 ,  Implied price:  2687.87 ,  Exec price:  2687.78 ,  Traded quantity:  -13.78 ,  Remaining quantity:  3719.37 ,  convexity:  0.01 ,  delta cash 1:  37026.58 ,  delta cash 2:  -1.28\n",
      "Time :  0.06 ,  Implied price:  2676.59 ,  Exec price:  2676.49 ,  Traded quantity:  -13.78 ,  Remaining quantity:  3030.6 ,  convexity:  0.01 ,  delta cash 1:  36871.18 ,  delta cash 2:  -1.27\n",
      "Time :  0.06 ,  Implied price:  2707.65 ,  Exec price:  2707.56 ,  Traded quantity:  -13.78 ,  Remaining quantity:  2341.83 ,  convexity:  0.01 ,  delta cash 1:  37299.09 ,  delta cash 2:  -1.29\n",
      "Time :  0.07 ,  Implied price:  2708.33 ,  Exec price:  2708.24 ,  Traded quantity:  -13.78 ,  Remaining quantity:  1653.05 ,  convexity:  0.01 ,  delta cash 1:  37308.44 ,  delta cash 2:  -1.29\n",
      "Time :  0.08 ,  Implied price:  2699.4 ,  Exec price:  2699.3 ,  Traded quantity:  -13.78 ,  Remaining quantity:  964.28 ,  convexity:  0.01 ,  delta cash 1:  37185.4 ,  delta cash 2:  -1.28\n",
      "Time :  0.08 ,  Implied price:  2710.25 ,  Exec price:  2710.16 ,  Traded quantity:  -13.78 ,  Remaining quantity:  275.51 ,  convexity:  0.01 ,  delta cash 1:  37334.96 ,  delta cash 2:  -1.29\n",
      "One trade cost is:  669927.5508434575\n"
     ]
    }
   ],
   "source": [
    "# other strategies\n",
    "frq = '15S'\n",
    "\n",
    "v_oneGO = np.empty(nb_t)\n",
    "\n",
    "v_VWAP = os_swapdata.set_index('timestamp').sort_index()[['amountUSD']].astype(float).resample(frq).sum().fillna(0).reindex(os_data.index).fillna(0).amountUSD.values\n",
    "v_VWAP = (v_VWAP/v_VWAP.sum())*ytilde0/dt\n",
    "\n",
    "v_VWAP = np.ones(nb_t)*(ytilde0/nb_t)/dt\n",
    "\n",
    "ytilde_oneGO = np.empty(nb_t)\n",
    "ytilde_VWAP = np.empty(nb_t)\n",
    "\n",
    "xtilde_oneGO = np.empty(nb_t)\n",
    "xtilde_VWAP = np.empty(nb_t)\n",
    "\n",
    "pnl_oneGO    = np.empty(nb_t)\n",
    "pnl_VWAP    = np.empty(nb_t)\n",
    "\n",
    "ytilde_oneGO[0]  = ytilde0\n",
    "ytilde_VWAP[0]   = ytilde0\n",
    "\n",
    "xtilde_oneGO[0]  = 0.\n",
    "xtilde_VWAP[0]   = 0.\n",
    "\n",
    "pnl_oneGO[0]     = 0.\n",
    "pnl_VWAP[0]      = 0.\n",
    "\n",
    "Z = os_data['poolPrice']\n",
    "S = os_data['price']\n",
    "\n",
    "for it in range(nb_t-1):\n",
    "    phisec = 2*Z[it]**1.5 / kappa0\n",
    "    \n",
    "    # One trade\n",
    "    if it == 0:        \n",
    "        v_oneGO[it]        = ytilde0/dt\n",
    "        ytilde_oneGO[it+1] = ytilde_oneGO[it] - v_oneGO[it]*dt\n",
    "        \n",
    "        print('Time : ', round(ts[it], 2),\n",
    "              ',  Implied price: ', round(Z[it], 2), \n",
    "              ',  Exec price: ', round(Z[it] - 0.5*phisec*dt*v_oneGO[it], 2), \n",
    "              ',  Traded quantity: ', round(-v_oneGO[it]*dt, 4), \n",
    "              ',  Spread Z-S: ', round(Z[it]-S[it], 4), \n",
    "              ',  Inventory: ', round(ytilde_oneGO[it], 2),\n",
    "              ',  convexity: ', round(phisec , 2),       \n",
    "              ',  delta cash 1: ', round(v_oneGO[it]*Z[it]*dt, 2),\n",
    "              ',  delta cash 2: ', round(-0.5*dt*phisec*dt*v_oneGO[it]**2, 2))\n",
    "        \n",
    "        xtilde_oneGO[it+1] = xtilde_oneGO[it] + v_oneGO[it]*Z[it]*dt - .5*dt*phisec*dt*v_oneGO[it]**2\n",
    "        pnl_oneGO[it+1]    = xtilde_oneGO[it+1] + Z[it+1] * ytilde_oneGO[it+1] - Z[0] * ytilde_oneGO[0]\n",
    "    else:\n",
    "        v_oneGO[it]        = 0\n",
    "        ytilde_oneGO[it+1] = ytilde_oneGO[it] - v_oneGO[it]*dt\n",
    "        xtilde_oneGO[it+1] = xtilde_oneGO[it] + v_oneGO[it]*Z[it]*dt - .5*dt*phisec*dt*v_oneGO[it]**2\n",
    "        pnl_oneGO[it+1]    = xtilde_oneGO[it+1] + Z[it+1] * ytilde_oneGO[it+1] - Z[0] * ytilde_oneGO[0]\n",
    "    \n",
    "    # VWAP: distribute over volumes\n",
    "    ytilde_VWAP[it+1] = ytilde_VWAP[it] - v_VWAP[it]*dt\n",
    "    \n",
    "    if it%50==0: \n",
    "        print('Time : ', round(ts[it], 2),\n",
    "          ',  Implied price: ', round(Z[it], 2), \n",
    "          ',  Exec price: ', round(Z[it] - 0.5*v_VWAP[it]*phisec0*dt, 2), \n",
    "#           ',  Real exec price : ', round( ((kappa / y[it]) - (kappa / (y[it] + v_VWAP[it]*dt)))/(v_VWAP[it]*dt) , 2),\n",
    "          ',  Traded quantity: ', round(-v_VWAP[it]*dt, 2), \n",
    "          ',  Remaining quantity: ', round(ytilde_VWAP[it], 2),\n",
    "          ',  convexity: ', round(phisec0, 2),          \n",
    "          ',  delta cash 1: ', round(v_VWAP[it]*Z[it]*dt, 2),\n",
    "          ',  delta cash 2: ', round(-0.5*dt*phisec*dt*v_VWAP[it]**2, 2))\n",
    "\n",
    "    xtilde_VWAP[it+1] = xtilde_VWAP[it] + v_VWAP[it]*Z[it]*dt - .5*dt*phisec*dt*v_VWAP[it]**2\n",
    "    pnl_VWAP[it+1]    = xtilde_VWAP[it+1] + Z[it+1] * ytilde_VWAP[it+1] - Z[0] * ytilde_VWAP[0]\n",
    "    \n",
    "print('One trade cost is: ', .5*dt*phisec*v_oneGO[0]*ytilde0)"
   ]
  },
  {
   "cell_type": "code",
   "execution_count": 35,
   "metadata": {},
   "outputs": [
    {
     "data": {
      "text/plain": [
       "[<matplotlib.lines.Line2D at 0x20d8e017070>]"
      ]
     },
     "execution_count": 35,
     "metadata": {},
     "output_type": "execute_result"
    },
    {
     "data": {
      "image/png": "[encoded data removed]",
      "text/plain": [
       "<Figure size 360x270 with 1 Axes>"
      ]
     },
     "metadata": {
      "needs_background": "light"
     },
     "output_type": "display_data"
    }
   ],
   "source": [
    "plt.plot(pnl1)\n",
    "plt.plot(pnl_VWAP)"
   ]
  },
  {
   "cell_type": "code",
   "execution_count": 36,
   "metadata": {},
   "outputs": [],
   "source": [
    "W = 3    # Figure width in inches, approximately A4-width - 2*1.25in margin\n",
    "\n",
    "plt.rcParams.update({\n",
    "    'figure.figsize': (W, W/(4/3)),     # 4:3 aspect ratio\n",
    "    'font.size' : 8,                   # Set font size to 11pt\n",
    "    'axes.labelsize': 8,               # -> axis labels\n",
    "    'legend.fontsize': 8,              # -> legends\n",
    "    'font.family': 'lmodern',\n",
    "    'text.usetex': True,\n",
    "    'text.latex.preamble': (            # LaTeX preamble\n",
    "        r'\\usepackage{lmodern}'\n",
    "        # ... more packages if needed\n",
    "    )\n",
    "})"
   ]
  },
  {
   "cell_type": "code",
   "execution_count": 37,
   "metadata": {},
   "outputs": [
    {
     "name": "stderr",
     "output_type": "stream",
     "text": [
      "C:\\Users\\fayca\\AppData\\Local\\Temp\\ipykernel_24952\\2872917458.py:34: UserWarning: This figure was using constrained_layout, but that is incompatible with subplots_adjust and/or tight_layout; disabling constrained_layout.\n",
      "  plt.tight_layout()\n"
     ]
    },
    {
     "data": {
      "image/png": "[encoded data removed]",
      "text/plain": [
       "<Figure size 216x162 with 2 Axes>"
      ]
     },
     "metadata": {
      "needs_background": "light"
     },
     "output_type": "display_data"
    }
   ],
   "source": [
    "# plt.rcParams['figure.figsize'] = (12., 15. / 16 * 12)\n",
    "\n",
    "fig, axes = plt.subplots(2, 1, gridspec_kw={'height_ratios': [1, 1]}, sharex=True, constrained_layout=True)\n",
    "ax1 = axes[0]; ax3 = axes[1]\n",
    "\n",
    "# ax3.sharex(ax1); ax4.sharex(ax1);\n",
    "\n",
    "ax1.plot(os_BinanceData.index, os_BinanceData.price, color= 'grey')\n",
    "ax1.plot(os_swapdata.timestamp, os_swapdata.poolPrice, color='k')\n",
    "\n",
    "ax3.plot(os_data.index, ytilde1, color='darkblue')\n",
    "ax3.plot(os_data.index, ytilde_oneGO, color='lightcoral')\n",
    "ax3.plot(os_data.index, ytilde_VWAP, color='tan')\n",
    "\n",
    "ax1.legend(['AMM', 'Oracle'], loc=\"upper center\", framealpha=0.5)\n",
    "ax3.legend(['Strategy',  'One trade', 'TWAP'], loc='upper right', framealpha=0.3, ncol=1)\n",
    "\n",
    "# ax1.set_ylabel('Price', fontsize=14)\n",
    "ax3.set_ylabel('Inventory')\n",
    "\n",
    "for ax in (ax1, ax3):\n",
    "    ax.xaxis.set_major_formatter(md.DateFormatter('%H:%M'))\n",
    "    ax.yaxis.set_major_formatter(tick2)\n",
    "    ax.yaxis.tick_right()\n",
    "    ax.yaxis.set_label_position(\"right\")\n",
    "#     ax.yaxis.label.set_color(colors['grey'])\n",
    "    ax.grid(axis='y', color='gainsboro', linestyle='-', linewidth=0.5)\n",
    "    ax.set_axisbelow(True)\n",
    "\n",
    "ax3.yaxis.set_major_formatter(normal)\n",
    "# ax1.set_title(f'Execution strategies between: {from_date_os} and {to_date_os}')\n",
    "ax3.set_xticks(ax3.get_xticks()[::2])\n",
    "\n",
    "plt.tight_layout()\n",
    "plt.savefig('backtest_USDC.pdf', bbox_inches='tight')\n",
    "plt.show()"
   ]
  },
  {
   "cell_type": "code",
   "execution_count": 38,
   "metadata": {},
   "outputs": [
    {
     "data": {
      "text/plain": [
       "<matplotlib.legend.Legend at 0x20d8e0594f0>"
      ]
     },
     "execution_count": 38,
     "metadata": {},
     "output_type": "execute_result"
    },
    {
     "data": {
      "image/png": "[encoded data removed]",
      "text/plain": [
       "<Figure size 216x162 with 1 Axes>"
      ]
     },
     "metadata": {
      "needs_background": "light"
     },
     "output_type": "display_data"
    }
   ],
   "source": [
    "optimalcosts1 = np.cumsum(0.5*np.abs(v1)*phisecs*dt/Z)[:-1]\n",
    "oneGOcosts = np.cumsum(0.5*np.abs(v_oneGO)*phisecs*dt/Z)[:-1]\n",
    "VWAPcosts = np.cumsum(0.5*np.abs(v_VWAP)*phisecs*dt/Z)[:-1]\n",
    "\n",
    "plt.plot(optimalcosts1*100)\n",
    "plt.plot(oneGOcosts*100)\n",
    "plt.plot(VWAPcosts*100)\n",
    "\n",
    "plt.legend(['optimal', 'one trade', 'TWAP'])"
   ]
  },
  {
   "cell_type": "code",
   "execution_count": 39,
   "metadata": {},
   "outputs": [
    {
     "name": "stderr",
     "output_type": "stream",
     "text": [
      "C:\\Users\\fayca\\AppData\\Local\\Temp\\ipykernel_24952\\3462803705.py:27: UserWarning: This figure was using constrained_layout, but that is incompatible with subplots_adjust and/or tight_layout; disabling constrained_layout.\n",
      "  plt.tight_layout()\n"
     ]
    },
    {
     "data": {
      "image/png": "[encoded data removed]",
      "text/plain": [
       "<Figure size 216x162 with 2 Axes>"
      ]
     },
     "metadata": {
      "needs_background": "light"
     },
     "output_type": "display_data"
    }
   ],
   "source": [
    "frq = \"15S\"\n",
    "\n",
    "fig, axes = plt.subplots(2, 1, gridspec_kw={'height_ratios': [1, 1]}, sharex=True, constrained_layout=True)\n",
    "ax1 = axes[0]; ax2 = axes[1];\n",
    "\n",
    "ax1.plot(os_data.index, os_data.price - os_data.poolPricePrev, color= 'k')\n",
    "ax2.plot(os_data.index[:-1], - v1[:-1], color= 'k')\n",
    "\n",
    "ax1.legend(['$S_t - Z_t$'], loc=\"upper right\", framealpha=0.5)\n",
    "ax2.legend([r'$- \\nu_t$'], loc=\"lower right\", framealpha=0.5)\n",
    "\n",
    "for ax in (ax1, ax2):\n",
    "    ax.xaxis.set_major_formatter(md.DateFormatter('%H:%M'))\n",
    "    ax.yaxis.set_major_formatter(tick2)\n",
    "    ax.yaxis.tick_right()\n",
    "    ax.yaxis.set_label_position(\"right\")\n",
    "    ax.grid(axis='y', color='gainsboro', linestyle='-', linewidth=0.5)\n",
    "\n",
    "ax2.yaxis.set_major_formatter(normal)\n",
    "ax2.set_xticks(ax2.get_xticks()[::2])\n",
    "\n",
    "# ax1.set_title(f'Spread and trading speed')\n",
    "\n",
    "#\n",
    "plt.savefig('backtest_USDC_speed.pdf', bbox_inches='tight')\n",
    "\n",
    "plt.tight_layout()"
   ]
  },
  {
   "cell_type": "markdown",
   "metadata": {},
   "source": [
    "# Rolling execution"
   ]
  },
  {
   "cell_type": "code",
   "execution_count": 40,
   "metadata": {},
   "outputs": [],
   "source": [
    "# Time\n",
    "T    = 2/24 #2 hours to trade everything\n",
    "\n",
    "# Penalties\n",
    "alpha  = 10"
   ]
  },
  {
   "cell_type": "code",
   "execution_count": 41,
   "metadata": {
    "scrolled": true
   },
   "outputs": [
    {
     "name": "stdout",
     "output_type": "stream",
     "text": [
      "optimal PNL:  27185.09 ,  288519\n",
      "TWAP PNL:  3998.65 ,  217002\n",
      "ONE TRADE PNL:  -956298.62 ,  1963014\n",
      "**** Estimation period:  2022-04-30 02:00  ->  2022-05-01 02:00\n",
      "**** Execution period:  2022-05-01 02:00  ->  2022-05-01 04:00\n",
      "Ytilde0 =  9697\n",
      "beta =  264.8688949924199\n",
      "I failed:  single positional indexer is out-of-bounds\n",
      "**** Estimation period:  2022-04-30 04:00  ->  2022-05-01 04:00\n",
      "**** Execution period:  2022-05-01 04:00  ->  2022-05-01 06:00\n",
      "Ytilde0 =  9467\n",
      "beta =  266.5322731258705\n",
      "I failed:  single positional indexer is out-of-bounds\n",
      "**** Estimation period:  2022-04-30 06:00  ->  2022-05-01 06:00\n",
      "**** Execution period:  2022-05-01 06:00  ->  2022-05-01 08:00\n",
      "Ytilde0 =  9369\n",
      "beta =  274.01377146458196\n",
      "I failed:  single positional indexer is out-of-bounds\n",
      "**** Estimation period:  2022-04-30 08:00  ->  2022-05-01 08:00\n",
      "**** Execution period:  2022-05-01 08:00  ->  2022-05-01 10:00\n",
      "Ytilde0 =  9686\n",
      "beta =  285.48714372051813\n",
      "I failed:  single positional indexer is out-of-bounds\n",
      "**** Estimation period:  2022-04-30 10:00  ->  2022-05-01 10:00\n",
      "**** Execution period:  2022-05-01 10:00  ->  2022-05-01 12:00\n",
      "Ytilde0 =  10210\n",
      "beta =  311.10737843669\n",
      "I failed:  single positional indexer is out-of-bounds\n",
      "**** Estimation period:  2022-04-30 12:00  ->  2022-05-01 12:00\n",
      "**** Execution period:  2022-05-01 12:00  ->  2022-05-01 14:00\n",
      "Ytilde0 =  9602\n",
      "beta =  338.8820105486746\n",
      "I failed:  single positional indexer is out-of-bounds\n",
      "**** Estimation period:  2022-04-30 14:00  ->  2022-05-01 14:00\n",
      "**** Execution period:  2022-05-01 14:00  ->  2022-05-01 16:00\n",
      "Ytilde0 =  9796\n",
      "beta =  348.5314390846944\n",
      "I failed:  single positional indexer is out-of-bounds\n",
      "**** Estimation period:  2022-04-30 16:00  ->  2022-05-01 16:00\n",
      "**** Execution period:  2022-05-01 16:00  ->  2022-05-01 18:00\n",
      "Ytilde0 =  9366\n",
      "beta =  320.39990671056205\n",
      "I failed:  single positional indexer is out-of-bounds\n",
      "**** Estimation period:  2022-04-30 18:00  ->  2022-05-01 18:00\n",
      "**** Execution period:  2022-05-01 18:00  ->  2022-05-01 20:00\n",
      "Ytilde0 =  9342\n",
      "beta =  363.40417465353784\n",
      "I failed:  single positional indexer is out-of-bounds\n",
      "**** Estimation period:  2022-04-30 20:00  ->  2022-05-01 20:00\n",
      "**** Execution period:  2022-05-01 20:00  ->  2022-05-01 22:00\n",
      "Ytilde0 =  9393\n",
      "beta =  349.98635023581573\n",
      "I failed:  single positional indexer is out-of-bounds\n",
      "**** Estimation period:  2022-04-30 22:00  ->  2022-05-01 22:00\n",
      "**** Execution period:  2022-05-01 22:00  ->  2022-05-02 00:00\n",
      "Ytilde0 =  9775\n",
      "beta =  430.5777164747175\n",
      "I failed:  single positional indexer is out-of-bounds\n",
      "**** Estimation period:  2022-05-01 00:00  ->  2022-05-02 00:00\n",
      "**** Execution period:  2022-05-02 00:00  ->  2022-05-02 02:00\n",
      "Ytilde0 =  10327\n",
      "beta =  634.2353661250675\n",
      "I failed:  single positional indexer is out-of-bounds\n",
      "**** Estimation period:  2022-05-01 02:00  ->  2022-05-02 02:00\n",
      "**** Execution period:  2022-05-02 02:00  ->  2022-05-02 04:00\n",
      "Ytilde0 =  8808\n",
      "I failed:  zero-size array to reduction operation maximum which has no identity\n",
      "**** Estimation period:  2022-05-01 04:00  ->  2022-05-02 04:00\n",
      "**** Execution period:  2022-05-02 04:00  ->  2022-05-02 06:00\n",
      "Ytilde0 =  9245\n",
      "I failed:  zero-size array to reduction operation maximum which has no identity\n",
      "**** Estimation period:  2022-05-01 06:00  ->  2022-05-02 06:00\n",
      "**** Execution period:  2022-05-02 06:00  ->  2022-05-02 08:00\n",
      "Ytilde0 =  9181\n",
      "I failed:  zero-size array to reduction operation maximum which has no identity\n",
      "**** Estimation period:  2022-05-01 08:00  ->  2022-05-02 08:00\n",
      "**** Execution period:  2022-05-02 08:00  ->  2022-05-02 10:00\n",
      "Ytilde0 =  8769\n",
      "I failed:  zero-size array to reduction operation maximum which has no identity\n",
      "**** Estimation period:  2022-05-01 10:00  ->  2022-05-02 10:00\n",
      "**** Execution period:  2022-05-02 10:00  ->  2022-05-02 12:00\n",
      "Ytilde0 =  8156\n",
      "I failed:  zero-size array to reduction operation maximum which has no identity\n",
      "**** Estimation period:  2022-05-01 12:00  ->  2022-05-02 12:00\n",
      "**** Execution period:  2022-05-02 12:00  ->  2022-05-02 14:00\n",
      "Ytilde0 =  8295\n",
      "I failed:  zero-size array to reduction operation maximum which has no identity\n",
      "**** Estimation period:  2022-05-01 14:00  ->  2022-05-02 14:00\n",
      "**** Execution period:  2022-05-02 14:00  ->  2022-05-02 16:00\n",
      "Ytilde0 =  8427\n",
      "I failed:  zero-size array to reduction operation maximum which has no identity\n",
      "**** Estimation period:  2022-05-01 16:00  ->  2022-05-02 16:00\n",
      "**** Execution period:  2022-05-02 16:00  ->  2022-05-02 18:00\n",
      "Ytilde0 =  9951\n",
      "I failed:  zero-size array to reduction operation maximum which has no identity\n",
      "**** Estimation period:  2022-05-01 18:00  ->  2022-05-02 18:00\n",
      "**** Execution period:  2022-05-02 18:00  ->  2022-05-02 20:00\n",
      "Ytilde0 =  10264\n",
      "I failed:  zero-size array to reduction operation maximum which has no identity\n",
      "**** Estimation period:  2022-05-01 20:00  ->  2022-05-02 20:00\n",
      "**** Execution period:  2022-05-02 20:00  ->  2022-05-02 22:00\n",
      "Ytilde0 =  10937\n",
      "I failed:  zero-size array to reduction operation maximum which has no identity\n",
      "**** Estimation period:  2022-05-01 22:00  ->  2022-05-02 22:00\n",
      "**** Execution period:  2022-05-02 22:00  ->  2022-05-03 00:00\n",
      "Ytilde0 =  11155\n",
      "I failed:  zero-size array to reduction operation maximum which has no identity\n",
      "**** Estimation period:  2022-05-02 00:00  ->  2022-05-03 00:00\n",
      "**** Execution period:  2022-05-03 00:00  ->  2022-05-03 02:00\n",
      "Ytilde0 =  10695\n",
      "I failed:  zero-size array to reduction operation maximum which has no identity\n",
      "**** Estimation period:  2022-05-02 02:00  ->  2022-05-03 02:00\n",
      "**** Execution period:  2022-05-03 02:00  ->  2022-05-03 04:00\n",
      "Ytilde0 =  13695\n",
      "I failed:  zero-size array to reduction operation maximum which has no identity\n",
      "**** Estimation period:  2022-05-02 04:00  ->  2022-05-03 04:00\n",
      "**** Execution period:  2022-05-03 04:00  ->  2022-05-03 06:00\n",
      "Ytilde0 =  14051\n",
      "I failed:  zero-size array to reduction operation maximum which has no identity\n",
      "**** Estimation period:  2022-05-02 06:00  ->  2022-05-03 06:00\n",
      "**** Execution period:  2022-05-03 06:00  ->  2022-05-03 08:00\n",
      "Ytilde0 =  13952\n",
      "I failed:  zero-size array to reduction operation maximum which has no identity\n",
      "**** Estimation period:  2022-05-02 08:00  ->  2022-05-03 08:00\n",
      "**** Execution period:  2022-05-03 08:00  ->  2022-05-03 10:00\n",
      "Ytilde0 =  14173\n",
      "I failed:  zero-size array to reduction operation maximum which has no identity\n",
      "**** Estimation period:  2022-05-02 10:00  ->  2022-05-03 10:00\n",
      "**** Execution period:  2022-05-03 10:00  ->  2022-05-03 12:00\n",
      "Ytilde0 =  14223\n",
      "I failed:  zero-size array to reduction operation maximum which has no identity\n"
     ]
    }
   ],
   "source": [
    "all_results = {}\n",
    "from_date_is = '2021-07-01 00:00'\n",
    "from_date_os = '2021-07-02 00:00'\n",
    "to_date_os   = '2021-07-02 02:00'\n",
    "# trading_frq        = '15S'\n",
    "\n",
    "pnl1s = []\n",
    "pnl_VWAPs = []\n",
    "pnl_oneGOs = []\n",
    "finaldates = []\n",
    "allparams = []\n",
    "\n",
    "while datetime.datetime.strptime(to_date_os, '%Y-%m-%d %H:%M')<Swapdata.timestamp.iloc[-1]:\n",
    "#     clear_output()\n",
    "    print('**** Estimation period: ', from_date_is, ' -> ', from_date_os)\n",
    "    print('**** Execution period: ', from_date_os, ' -> ', to_date_os)\n",
    "    \n",
    "    try:\n",
    "        is_swapdata = Swapdata[((Swapdata.timestamp<from_date_os) & (Swapdata.timestamp>=from_date_is))]\n",
    "        is_swapdata['poolPricePrev'] = is_swapdata['poolPrice'].shift(1)\n",
    "\n",
    "        os_swapdata = Swapdata[((Swapdata.timestamp<to_date_os) & (Swapdata.timestamp>=from_date_os))]\n",
    "        os_swapdata['poolPricePrev'] = os_swapdata['poolPrice'].shift(1)\n",
    "\n",
    "        is_BinanceData = BinanceData[((BinanceData.index<from_date_os) & (BinanceData.index>=from_date_is))]\n",
    "        os_BinanceData = BinanceData[((BinanceData.index<to_date_os) & (BinanceData.index>=from_date_os))]\n",
    "\n",
    "        ########\n",
    "        # 25% of volume\n",
    "        ########\n",
    "        dt = is_swapdata.timestamp.diff(1).mean().seconds\n",
    "        ytilde0  = (is_swapdata.set_index('timestamp')[['amount1']].abs().sum().values[0]*0.5)/12 #hourly !!\n",
    "        print('Ytilde0 = ', round(ytilde0))\n",
    "\n",
    "        is_all_data = pd.concat((is_swapdata[['poolPricePrev', 'poolPrice', 'timestamp']].groupby('timestamp').last(), \n",
    "                                 is_BinanceData.reset_index().groupby('time').last()[['price']]), axis=1\n",
    "                               ).fillna(method='ffill').dropna()\n",
    "        os_all_data = pd.concat((os_swapdata[['poolPricePrev', 'poolPrice', 'timestamp']].groupby('timestamp').last(), \n",
    "                                 os_BinanceData.reset_index().groupby('time').last()[['price']]), axis=1\n",
    "                               ).fillna(method='ffill').dropna()\n",
    "\n",
    "        ########\n",
    "        # KAPPA\n",
    "        ########\n",
    "        kappa0 = Pooldata[Pooldata.timestamp >= from_date_os].iloc[0].inrange_L*1e12\n",
    "\n",
    "        ########\n",
    "        # Dynamics\n",
    "        ########        \n",
    "        is_all_datatest = pd.concat((is_swapdata[['poolPricePrev', 'poolPrice', 'timestamp']].groupby('timestamp').last(), \n",
    "                       is_BinanceData.reset_index().groupby('time').last()[['price']]), axis=1\n",
    "                     )\n",
    "        is_all_datatest['poolPricePrev'] = is_all_datatest['poolPricePrev'].fillna(method='ffill')\n",
    "        is_all_datatest['poolPrice'] = is_all_datatest['poolPrice'].fillna(method='ffill')\n",
    "        is_all_datatest = is_all_datatest.dropna()\n",
    "        \n",
    "        Z   = is_all_datatest['poolPrice']\n",
    "        S   = is_all_datatest['price']\n",
    "        dts = np.array([float(s)/(1000000000*60*60*24) for s in np.diff(is_all_datatest.index)])\n",
    "        dts = np.roll(dts, -1)\n",
    "        Y   = np.log(Z).diff(1).shift(-1).values[:-1]\n",
    "        X   = ((S - Z) / Z).values[:-1]\n",
    "        X   = X * dts \n",
    "        model   = sm.OLS(Y, X )\n",
    "        results = model.fit()\n",
    "\n",
    "        print('beta = ', results.params[0])\n",
    "        dt      = np.mean(dts)\n",
    "        gamma = results.resid.std()/np.sqrt(dt)\n",
    "        beta  = results.params[0]\n",
    "        sigma = np.log(S).diff(1).std()/np.sqrt(dt)\n",
    "        \n",
    "        ########\n",
    "        # Exec Algorithm parameters \n",
    "        ########\n",
    "        trading_freq = str(int(np.mean(is_swapdata.timestamp.diff(1)/np.timedelta64(1,'s')))) + 'S'\n",
    "        os_data = os_all_data.resample(trading_freq).last().fillna(method='ffill')\n",
    "        \n",
    "        Z0 = os_all_data.iloc[0]['poolPricePrev']\n",
    "        S0 = os_all_data.iloc[0]['price']\n",
    "\n",
    "        nb_t = len(os_data) #int(0.5*24*60)\n",
    "        dt   = T/nb_t\n",
    "        ts   = np.linspace(0, T, nb_t)\n",
    "        \n",
    "        alpha   = 10\n",
    "        phi1    = 0.005\n",
    "        eta1    = dt\n",
    "\n",
    "        ########\n",
    "        # Backtesting\n",
    "        ########\n",
    "        v1      = np.empty(nb_t)\n",
    "        ytilde1 = np.empty(nb_t)\n",
    "        xtilde1 = np.empty(nb_t)\n",
    "        pnl1    = np.empty(nb_t)\n",
    "        tradingCosts1 = np.zeros(nb_t)\n",
    "\n",
    "        v_oneGO = np.empty(nb_t)\n",
    "        ytilde_oneGO = np.empty(nb_t)\n",
    "        ytilde_VWAP = np.empty(nb_t)\n",
    "        xtilde_oneGO = np.empty(nb_t)\n",
    "        xtilde_VWAP = np.empty(nb_t)\n",
    "        pnl_oneGO    = np.empty(nb_t)\n",
    "        pnl_VWAP    = np.empty(nb_t)\n",
    "\n",
    "        ytilde_oneGO[0]  = ytilde0\n",
    "        ytilde_VWAP[0]   = ytilde0\n",
    "        xtilde_oneGO[0]  = 0.\n",
    "        xtilde_VWAP[0]   = 0.\n",
    "        pnl_oneGO[0]     = 0.\n",
    "        pnl_VWAP[0]      = 0.\n",
    "\n",
    "        ytilde1[0]   = ytilde0\n",
    "        xtilde1[0]   = 0.\n",
    "        pnl1[0]      = 0.\n",
    "            \n",
    "        phisecs= np.empty(nb_t)\n",
    "\n",
    "        v_VWAP = np.ones(nb_t)*(ytilde0/nb_t)/dt\n",
    "\n",
    "        Z = os_data['poolPrice']\n",
    "        S = os_data['price']\n",
    "\n",
    "        phisec0 = 2*Z0**1.5 / (kappa0)\n",
    "\n",
    "        A1, D1, F1, A_interp1, D_interp1, F_interp1 = solveADF(eta1, phi1,  alpha, phisec0, gamma, beta, T, dt, ts)\n",
    "\n",
    "        for it in range(nb_t-1):\n",
    "            t = ts[it]\n",
    "            phisec = 2*Z[it]**1.5 / kappa0\n",
    "            phisecs[it]  = phisec\n",
    "\n",
    "            # optimal strategies\n",
    "            v1[it]        = -(2*A_interp1(t)*ytilde1[it] + D_interp1(t)*Z[it] + F_interp1(t)*S[it])/(eta1*phisec0)\n",
    "            ytilde1[it+1] = ytilde1[it] - v1[it]*dt\n",
    "            tradingCosts1[it+1] = (ytilde1[it] - v1[it]*dt)\n",
    "            xtilde1[it+1] = xtilde1[it]   + v1[it]*Z[it]*dt - .5*dt*phisec*dt*v1[it]**2\n",
    "            pnl1[it+1]    = xtilde1[it+1] + Z[it+1] * ytilde1[it+1] - Z[0] * ytilde1[0]\n",
    "\n",
    "            # one trade strat\n",
    "            if it == 0:        \n",
    "                v_oneGO[it]        = ytilde0/dt\n",
    "                ytilde_oneGO[it+1] = ytilde_oneGO[it] - v_oneGO[it]*dt\n",
    "                xtilde_oneGO[it+1] = xtilde_oneGO[it] + v_oneGO[it]*Z[it]*dt - .5*dt*phisec*dt*v_oneGO[it]**2\n",
    "                pnl_oneGO[it+1]    = xtilde_oneGO[it+1] + Z[it+1] * ytilde_oneGO[it+1] - Z[0] * ytilde_oneGO[0]\n",
    "            else:\n",
    "                v_oneGO[it]        = 0\n",
    "                ytilde_oneGO[it+1] = ytilde_oneGO[it] - v_oneGO[it]*dt\n",
    "                xtilde_oneGO[it+1] = xtilde_oneGO[it] + v_oneGO[it]*Z[it]*dt - .5*dt*phisec*dt*v_oneGO[it]**2\n",
    "                pnl_oneGO[it+1]    = xtilde_oneGO[it+1] + Z[it+1] * ytilde_oneGO[it+1] - Z[0] * ytilde_oneGO[0]\n",
    "\n",
    "            # VWAP\n",
    "            ytilde_VWAP[it+1] = ytilde_VWAP[it] - v_VWAP[it]*dt\n",
    "            xtilde_VWAP[it+1] = xtilde_VWAP[it] + v_VWAP[it]*Z[it]*dt - .5*dt*phisec*dt*v_VWAP[it]**2\n",
    "            pnl_VWAP[it+1]    = xtilde_VWAP[it+1] + Z[it+1] * ytilde_VWAP[it+1] - Z[0] * ytilde_VWAP[0]\n",
    "\n",
    "        \n",
    "        optimalcosts1 = np.cumsum(0.5*v1*phisecs*dt/Z)[:-1]\n",
    "        oneGOcosts = np.cumsum(0.5*v_oneGO*phisecs*dt/Z)[:-1]\n",
    "        VWAPcosts = np.cumsum(0.5*v_VWAP*phisecs*dt/Z)[:-1]\n",
    "                \n",
    "        turnover = np.sum(np.abs(Z*v1*dt))\n",
    "        turnoverVWAP = np.sum(np.abs(Z*v_oneGO*dt))\n",
    "        turnoveroneGO = np.sum(np.abs(Z*v_VWAP*dt))\n",
    "        \n",
    "        all_results[from_date_os+to_date_os] = [pnl1[-1], pnl_VWAP[-1], pnl_oneGO[-1], \n",
    "                                                optimalcosts1[-1],  VWAPcosts[-1], oneGOcosts[-1],\n",
    "                                                turnover, turnoverVWAP, turnoveroneGO,\n",
    "                                                dt, gamma, beta, sigma, nb_t]\n",
    "        \n",
    "        pnl1s += [pnl1[-1]]\n",
    "        pnl_VWAPs += [pnl_VWAP[-1]]\n",
    "        pnl_oneGOs += [pnl_oneGO[-1]]\n",
    "\n",
    "        finaldates += [to_date_os]\n",
    "        allparams += [(dt, gamma, beta, sigma, kappa0)]\n",
    "        \n",
    "        clear_output(wait=True)\n",
    "        print('optimal PNL: ', round(np.nanmean(pnl1s),2), ', ', round(np.nanstd(pnl1s)))\n",
    "        print('TWAP PNL: ', round(np.nanmean(pnl_VWAPs),2), ', ', round(np.nanstd(pnl_VWAPs)))\n",
    "        print('ONE TRADE PNL: ', round(np.nanmean(pnl_oneGOs),2), ', ', round(np.nanstd(pnl_oneGOs)))\n",
    "        \n",
    "#         print('optimal PNL: ', round(pnl1[-1],2) )\n",
    "#         print('TWAP PNL: ', round(pnl_VWAP[-1],2) )\n",
    "#         print('ONE TRADE PNL: ', round(pnl_oneGO[-1],2) )\n",
    "\n",
    "#         print('One trade cost is: ', .5*dt*phisec*v_oneGO[0]*ytilde0)\n",
    "        \n",
    "#         print('ytilde 0 = ', ytilde0)\n",
    "#         print('Kappa 0 = ', kappa0)\n",
    "#         print('phisec 0 = ', 2*Z0**1.5 / (kappa0))\n",
    "#         print('trading freq = ', trading_freq)\n",
    "    except Exception as e:\n",
    "        print('I failed: ', str(e))\n",
    "    \n",
    "    from_date_is = datetime.datetime.strftime(datetime.datetime.strptime(from_date_is, '%Y-%m-%d %H:%M')+datetime.timedelta(hours = 2), '%Y-%m-%d %H:%M')\n",
    "    from_date_os = datetime.datetime.strftime(datetime.datetime.strptime(from_date_os, '%Y-%m-%d %H:%M')+datetime.timedelta(hours = 2), '%Y-%m-%d %H:%M')\n",
    "    to_date_os = datetime.datetime.strftime(datetime.datetime.strptime(to_date_os, '%Y-%m-%d %H:%M')+datetime.timedelta(hours = 2), '%Y-%m-%d %H:%M')"
   ]
  },
  {
   "cell_type": "code",
   "execution_count": 42,
   "metadata": {},
   "outputs": [],
   "source": [
    "# pd.DataFrame([s[2] for s in allparams ], index=finaldates).sort_values(by=0).head(50)\n",
    "\n",
    "# optimal PNL:  6432.39 ,  160213\n",
    "# TWAP PNL:  1485.94 ,  211443\n",
    "# pd.DataFrame(optimalPNLs1, index=finaldates).iloc[700:].std()"
   ]
  },
  {
   "cell_type": "code",
   "execution_count": 43,
   "metadata": {},
   "outputs": [],
   "source": [
    "# pd.DataFrame(optimalPNLs1, index=finaldates).iloc[2000:].expanding(min_periods=1).mean().plot(figsize=(8,8))\n",
    "# (Pooldata.inrange_L*1e12).plot()"
   ]
  },
  {
   "cell_type": "code",
   "execution_count": 44,
   "metadata": {},
   "outputs": [],
   "source": [
    "# pd.DataFrame([s[2] for s in allparams], index=finaldates).plot(figsize=(8,6))"
   ]
  },
  {
   "cell_type": "code",
   "execution_count": 45,
   "metadata": {},
   "outputs": [],
   "source": [
    "# dfff = pd.DataFrame(optimalPNLs1, index=finaldates)\n",
    "# dfff[dfff>-2*1e6].std()\n",
    "# dfff.plot(figsize=(8,6))"
   ]
  },
  {
   "cell_type": "code",
   "execution_count": 46,
   "metadata": {},
   "outputs": [
    {
     "name": "stdout",
     "output_type": "stream",
     "text": [
      "3635\n",
      "27185.088875674275 3998.6530961363464 -956298.6175850091\n",
      "288518.78063666227 217001.94220268645 1963014.296100062\n",
      "0.09422294387798978 0.018426807868850696 -0.48715825426482934\n"
     ]
    }
   ],
   "source": [
    "optimalPNLs1 = np.array([all_results[s][0] for s in all_results.keys()])\n",
    "vwapPNLs = np.array([all_results[s][1] for s in all_results.keys()])\n",
    "onegoPNLs = np.array([all_results[s][2] for s in all_results.keys()])\n",
    "\n",
    "print(len(optimalPNLs1))\n",
    "print(np.nanmean(optimalPNLs1), np.nanmean(vwapPNLs), np.nanmean(onegoPNLs))\n",
    "print(np.nanstd(optimalPNLs1),  np.nanstd(vwapPNLs), np.nanstd(onegoPNLs))\n",
    "print(np.nanmean(optimalPNLs1)/np.nanstd(optimalPNLs1), \n",
    "      np.nanmean(vwapPNLs)/np.nanstd(vwapPNLs), \n",
    "      np.nanmean(onegoPNLs)/np.nanstd(onegoPNLs))"
   ]
  },
  {
   "cell_type": "code",
   "execution_count": 47,
   "metadata": {},
   "outputs": [
    {
     "name": "stdout",
     "output_type": "stream",
     "text": [
      "3635\n",
      "****** Optimal strategy : \n",
      "average pnl: 27185.088875674275\n",
      "std pnl: 288518.78063666227\n",
      "average 0,01% fee 9656.25933686012\n",
      "average nb of trades 439.24731774415403\n",
      "****** TWAP strategy : \n",
      "average pnl: 3998.6530961363464\n",
      "std pnl: 217001.94220268645\n",
      "average 0,01% fee 2670.914228829985\n",
      "average nb of trades 439.24731774415403\n",
      "****** oneGO strategy : \n",
      "average pnl: -956298.6175850091\n",
      "std pnl: 1963014.296100062\n",
      "average 0,01% fee 2533.084714204826\n"
     ]
    }
   ],
   "source": [
    "print(len(optimalPNLs1))\n",
    "print('****** Optimal strategy : ')\n",
    "print('average pnl:', np.nanmean(optimalPNLs1))\n",
    "print('std pnl:', np.nanstd(optimalPNLs1))\n",
    "print('average 0,01% fee', np.mean(np.sort([all_results[s][6] for s in all_results])[:-6])*0.01/100)\n",
    "print('average nb of trades', np.nanmean([all_results[s][13] for s in all_results]))\n",
    "\n",
    "print('****** TWAP strategy : ')\n",
    "print('average pnl:', np.nanmean(vwapPNLs))\n",
    "print('std pnl:', np.nanstd(vwapPNLs))\n",
    "print('average 0,01% fee', np.mean(np.sort([all_results[s][7] for s in all_results])[:-4] )*0.01/100)\n",
    "print('average nb of trades', np.nanmean([all_results[s][13] for s in all_results]))\n",
    "\n",
    "print('****** oneGO strategy : ')\n",
    "print('average pnl:', np.nanmean(onegoPNLs))\n",
    "print('std pnl:', np.nanstd(onegoPNLs))\n",
    "print('average 0,01% fee', np.mean(np.sort([all_results[s][8] for s in all_results]))*0.01/100)"
   ]
  },
  {
   "cell_type": "code",
   "execution_count": 54,
   "metadata": {},
   "outputs": [],
   "source": [
    "W = 3    # Figure width in inches, approximately A4-width - 2*1.25in margin\n",
    "\n",
    "plt.rcParams.update({\n",
    "    'figure.figsize': (W, W/(4/3)),     # 4:3 aspect ratio\n",
    "    'font.size' : 8,                   # Set font size to 11pt\n",
    "    'axes.labelsize': 8,               # -> axis labels\n",
    "    'legend.fontsize': 8,              # -> legends\n",
    "    'font.family': 'lmodern',\n",
    "    'text.usetex': True,\n",
    "    'text.latex.preamble': (            # LaTeX preamble\n",
    "        r'\\usepackage{lmodern}\\usepackage{icomma}'\n",
    "        # ... more packages if needed\n",
    "    )\n",
    "})"
   ]
  },
  {
   "cell_type": "code",
   "execution_count": 56,
   "metadata": {},
   "outputs": [
    {
     "name": "stderr",
     "output_type": "stream",
     "text": [
      "C:\\Users\\fayca\\AppData\\Local\\Temp\\ipykernel_24952\\4036332181.py:33: UserWarning: This figure was using constrained_layout, but that is incompatible with subplots_adjust and/or tight_layout; disabling constrained_layout.\n",
      "  plt.tight_layout()\n"
     ]
    },
    {
     "data": {
      "image/png": "[encoded data removed]",
      "text/plain": [
       "<Figure size 216x162 with 1 Axes>"
      ]
     },
     "metadata": {
      "needs_background": "light"
     },
     "output_type": "display_data"
    }
   ],
   "source": [
    "import seaborn as sns\n",
    "fig, ax = plt.subplots(1, 1, constrained_layout=True)\n",
    "\n",
    "kwargs = dict( kde_kws={'linewidth':3, \"bw_adjust\":0.001}, binwidth=20000)\n",
    "kwargs2 = dict(kde_kws={'linewidth':3, \"bw_adjust\":0.001}, binwidth=20000)\n",
    "kwargs3 = dict(kde_kws={'linewidth':3, \"bw_adjust\":0.001}, binwidth=20000)\n",
    "\n",
    "sns.histplot(onegoPNLs, color=\"lightcoral\", label=\"Compact\", ax=ax,  **kwargs)\n",
    "sns.histplot(vwapPNLs, color=\"darkblue\", label=\"Compact\", ax=ax,  **kwargs)\n",
    "sns.histplot(optimalPNLs1, color=\"tan\", label=\"Compact\", ax=ax,  **kwargs2)\n",
    "ax.yaxis.tick_right()\n",
    "\n",
    "ax.xaxis.set_major_formatter( mtick.StrMethodFormatter('$\\${x:,.0f}$'))\n",
    "ax.yaxis.set_major_formatter(normal)\n",
    "\n",
    "ax.yaxis.set_label_position(\"right\")\n",
    "ax.yaxis.tick_right()\n",
    "ax.set_ylabel('')\n",
    "\n",
    "ax.grid(axis='y', color='gainsboro', linestyle='-', linewidth=0.5)\n",
    "# ax.set_ylabel('Density', fontsize=12)\n",
    "# ax.set_ylabel('Transaction size', fontsize=12)\n",
    "\n",
    "ax.legend(['Single order',\n",
    "           'TWAP',\n",
    "           'Liquidation'],  loc='upper right')\n",
    "\n",
    "ax.set_xlim(-1500000,1500000)\n",
    "# ax.set_ylim(0,1000)\n",
    "\n",
    "ax.set_xticks(ax.get_xticks()[::3])\n",
    "\n",
    "plt.tight_layout()\n",
    "plt.savefig('backtest_USDC_comparison.pdf', bbox_inches='tight')\n",
    "plt.show()"
   ]
  },
  {
   "cell_type": "code",
   "execution_count": 50,
   "metadata": {},
   "outputs": [
    {
     "data": {
      "text/plain": [
       "-956298.6175850088"
      ]
     },
     "execution_count": 50,
     "metadata": {},
     "output_type": "execute_result"
    }
   ],
   "source": [
    "pd.Series(onegoPNLs).sort_values().mean()"
   ]
  }
 ],
 "metadata": {
  "kernelspec": {
   "display_name": "Python 3 (ipykernel)",
   "language": "python",
   "name": "python3"
  },
  "language_info": {
   "codemirror_mode": {
    "name": "ipython",
    "version": 3
   },
   "file_extension": ".py",
   "mimetype": "text/x-python",
   "name": "python",
   "nbconvert_exporter": "python",
   "pygments_lexer": "ipython3",
   "version": "3.9.12"
  }
 },
 "nbformat": 4,
 "nbformat_minor": 4
}
