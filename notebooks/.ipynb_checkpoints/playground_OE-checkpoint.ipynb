{
 "cells": [
  {
   "cell_type": "code",
   "execution_count": 2,
   "id": "1e4d4ef2",
   "metadata": {},
   "outputs": [],
   "source": [
    "import gym\n",
    "import matplotlib.pyplot as plt\n",
    "import numpy as np"
   ]
  },
  {
   "cell_type": "code",
   "execution_count": 3,
   "id": "6614eb33",
   "metadata": {},
   "outputs": [],
   "source": [
    "import sys\n",
    "sys.path.append(\"../\")"
   ]
  },
  {
   "cell_type": "code",
   "execution_count": 4,
   "id": "404ae300",
   "metadata": {},
   "outputs": [],
   "source": [
    "%load_ext autoreload\n",
    "%autoreload 2"
   ]
  },
  {
   "cell_type": "code",
   "execution_count": 5,
   "id": "f4880cb8",
   "metadata": {},
   "outputs": [],
   "source": [
    "from mbt_gym.gym.TradingEnvironment import TradingEnvironment\n",
    "from mbt_gym.gym.Traders import TradinghWithSpeedTrader"
   ]
  },
  {
   "cell_type": "code",
   "execution_count": 9,
   "id": "8793dd2c",
   "metadata": {},
   "outputs": [],
   "source": [
    "from mbt_gym.agents.BaselineAgents import CarteaJaimungalMmAgent\n",
    "from mbt_gym.gym.helpers.generate_trajectory import generate_trajectory\n",
    "from mbt_gym.gym.StableBaselinesTradingEnvironment import StableBaselinesTradingEnvironment\n",
    "from mbt_gym.gym.wrappers import *\n",
    "from mbt_gym.rewards.RewardFunctions import CjCriterion, CjMmCriterion\n",
    "from mbt_gym.stochastic_processes.midprice_models import *\n",
    "from mbt_gym.stochastic_processes.price_impact_models import *"
   ]
  },
  {
   "cell_type": "code",
   "execution_count": 10,
   "id": "abb54504",
   "metadata": {},
   "outputs": [],
   "source": [
    "terminal_time = 1.0\n",
    "temporary_impact = 1e-3\n",
    "permanent_impact = 1e-3\n",
    "n_steps = int(100)\n",
    "phi = 0.5\n",
    "alpha = 0.001\n",
    "num_trajectories = 3"
   ]
  },
  {
   "cell_type": "code",
   "execution_count": 20,
   "id": "b77ae816",
   "metadata": {},
   "outputs": [],
   "source": [
    "sigma = 0.001\n",
    "initial_inventory = (-4,5)\n",
    "initial_price = 100\n",
    "step_size = terminal_time/n_steps\n",
    "midprice_model = BrownianMotionMidpriceModel(volatility=sigma, \n",
    "                                           terminal_time=terminal_time, \n",
    "                                           step_size=step_size, \n",
    "                                           initial_price=initial_price, \n",
    "                                           num_trajectories=num_trajectories)\n",
    "price_impact_model = TemporaryAndPermanentPriceImpact(temporary_impact_coefficient = temporary_impact,\n",
    "                            permanent_impact_coefficient = permanent_impact,\n",
    "                            n_steps = n_steps,\n",
    "                            terminal_time = terminal_time,\n",
    "                            num_trajectories = num_trajectories)\n",
    "Speedtrader = TradinghWithSpeedTrader(midprice_model = midprice_model, price_impact_model = price_impact_model, \n",
    "                            num_trajectories = num_trajectories)"
   ]
  },
  {
   "cell_type": "code",
   "execution_count": 21,
   "id": "fa4e9c2f",
   "metadata": {},
   "outputs": [
    {
     "data": {
      "text/plain": [
       "<mbt_gym.stochastic_processes.price_impact_models.TemporaryAndPermanentPriceImpact at 0x7fc86e19c460>"
      ]
     },
     "execution_count": 21,
     "metadata": {},
     "output_type": "execute_result"
    }
   ],
   "source": [
    "Speedtrader.price_impact_model"
   ]
  },
  {
   "cell_type": "code",
   "execution_count": 22,
   "id": "47eff14a",
   "metadata": {},
   "outputs": [],
   "source": [
    "def get_cj_env_OE(num_trajectories:int = 1):    \n",
    "    sigma = 0.001\n",
    "    initial_inventory = (-4,5)\n",
    "    initial_price = 100\n",
    "    step_size = terminal_time/n_steps\n",
    "    midprice_model = BrownianMotionMidpriceModel(volatility=sigma, \n",
    "                                                   terminal_time=terminal_time, \n",
    "                                                   step_size=step_size, \n",
    "                                                   initial_price=initial_price, \n",
    "                                                   num_trajectories=num_trajectories)\n",
    "    price_impact_model = TemporaryAndPermanentPriceImpact(temporary_impact_coefficient = temporary_impact,\n",
    "                                permanent_impact_coefficient = permanent_impact,\n",
    "                                n_steps = n_steps,\n",
    "                                terminal_time = terminal_time,\n",
    "                                num_trajectories = num_trajectories)\n",
    "    Speedtrader = TradinghWithSpeedTrader(midprice_model = midprice_model, price_impact_model = price_impact_model, \n",
    "                                num_trajectories = num_trajectories)\n",
    "   \n",
    "    env_params = dict(terminal_time=terminal_time, \n",
    "                      n_steps=n_steps,\n",
    "                      initial_inventory = initial_inventory,\n",
    "                      midprice_model = midprice_model,\n",
    "                      price_impact_model = price_impact_model.\n",
    "                      trader = Speedtrader,\n",
    "                      reward_function = CjMmCriterion(phi, alpha),\n",
    "                      max_inventory=n_steps,\n",
    "                      normalise_action_space = False,\n",
    "                      normalise_observation_space = False,\n",
    "                      num_trajectories=num_trajectories)\n",
    "    return TradingEnvironment(**env_params)"
   ]
  },
  {
   "cell_type": "code",
   "execution_count": 23,
   "id": "edf37972",
   "metadata": {},
   "outputs": [],
   "source": [
    "env = get_cj_env_OE(num_trajectories=num_trajectories)"
   ]
  },
  {
   "cell_type": "code",
   "execution_count": 24,
   "id": "6f055ada",
   "metadata": {},
   "outputs": [],
   "source": [
    "env.price_impact_model"
   ]
  },
  {
   "cell_type": "code",
   "execution_count": 14,
   "id": "47a0057d",
   "metadata": {
    "scrolled": true
   },
   "outputs": [
    {
     "data": {
      "text/plain": [
       "array([[  0.,   2.,   0., 100.],\n",
       "       [  0.,   4.,   0., 100.],\n",
       "       [  0.,  -3.,   0., 100.]])"
      ]
     },
     "execution_count": 14,
     "metadata": {},
     "output_type": "execute_result"
    }
   ],
   "source": [
    "env.reset()"
   ]
  },
  {
   "cell_type": "markdown",
   "id": "9152fae5",
   "metadata": {},
   "source": [
    "CASH_INDEX = 0\n",
    "INVENTORY_INDEX = 1\n",
    "TIME_INDEX = 2\n",
    "ASSET_PRICE_INDEX = 3"
   ]
  },
  {
   "cell_type": "code",
   "execution_count": 15,
   "id": "64062d73",
   "metadata": {},
   "outputs": [
    {
     "data": {
      "text/plain": [
       "array([[  0.,   2.,   0., 100.],\n",
       "       [  0.,   4.,   0., 100.],\n",
       "       [  0.,  -3.,   0., 100.]])"
      ]
     },
     "execution_count": 15,
     "metadata": {},
     "output_type": "execute_result"
    }
   ],
   "source": [
    "env.state"
   ]
  },
  {
   "cell_type": "code",
   "execution_count": 18,
   "id": "eb5b963d",
   "metadata": {},
   "outputs": [],
   "source": [
    "env.trader.price_impact_model"
   ]
  },
  {
   "cell_type": "code",
   "execution_count": 16,
   "id": "5dfe5ad3",
   "metadata": {},
   "outputs": [
    {
     "ename": "AttributeError",
     "evalue": "'NoneType' object has no attribute 'get_impact'",
     "output_type": "error",
     "traceback": [
      "\u001b[0;31m---------------------------------------------------------------------------\u001b[0m",
      "\u001b[0;31mAttributeError\u001b[0m                            Traceback (most recent call last)",
      "Input \u001b[0;32mIn [16]\u001b[0m, in \u001b[0;36m<cell line: 4>\u001b[0;34m()\u001b[0m\n\u001b[1;32m      1\u001b[0m action \u001b[38;5;241m=\u001b[39m np\u001b[38;5;241m.\u001b[39marray([[\u001b[38;5;241m0.0\u001b[39m], \n\u001b[1;32m      2\u001b[0m                     [\u001b[38;5;241m1.0\u001b[39m], \n\u001b[1;32m      3\u001b[0m                      [\u001b[38;5;241m-\u001b[39m\u001b[38;5;241m10\u001b[39m]])\n\u001b[0;32m----> 4\u001b[0m \u001b[43menv\u001b[49m\u001b[38;5;241;43m.\u001b[39;49m\u001b[43mstep\u001b[49m\u001b[43m(\u001b[49m\u001b[43maction\u001b[49m\u001b[43m \u001b[49m\u001b[38;5;241;43m=\u001b[39;49m\u001b[43m \u001b[49m\u001b[43maction\u001b[49m\u001b[43m)\u001b[49m\n",
      "File \u001b[0;32m~/Documents/GitHub/mbt_gym/notebooks/../mbt_gym/gym/TradingEnvironment.py:120\u001b[0m, in \u001b[0;36mTradingEnvironment.step\u001b[0;34m(self, action)\u001b[0m\n\u001b[1;32m    118\u001b[0m action \u001b[38;5;241m=\u001b[39m \u001b[38;5;28mself\u001b[39m\u001b[38;5;241m.\u001b[39mnormalise_action(action, inverse\u001b[38;5;241m=\u001b[39m\u001b[38;5;28;01mTrue\u001b[39;00m)\n\u001b[1;32m    119\u001b[0m current_state \u001b[38;5;241m=\u001b[39m \u001b[38;5;28mself\u001b[39m\u001b[38;5;241m.\u001b[39mstate\u001b[38;5;241m.\u001b[39mcopy()\n\u001b[0;32m--> 120\u001b[0m next_state \u001b[38;5;241m=\u001b[39m \u001b[38;5;28;43mself\u001b[39;49m\u001b[38;5;241;43m.\u001b[39;49m\u001b[43m_update_state\u001b[49m\u001b[43m(\u001b[49m\u001b[43maction\u001b[49m\u001b[43m)\u001b[49m\n\u001b[1;32m    121\u001b[0m done \u001b[38;5;241m=\u001b[39m \u001b[38;5;28mself\u001b[39m\u001b[38;5;241m.\u001b[39mstate[\u001b[38;5;241m0\u001b[39m, TIME_INDEX] \u001b[38;5;241m>\u001b[39m\u001b[38;5;241m=\u001b[39m \u001b[38;5;28mself\u001b[39m\u001b[38;5;241m.\u001b[39mterminal_time \u001b[38;5;241m-\u001b[39m \u001b[38;5;28mself\u001b[39m\u001b[38;5;241m.\u001b[39mstep_size \u001b[38;5;241m/\u001b[39m \u001b[38;5;241m2\u001b[39m\n\u001b[1;32m    122\u001b[0m dones \u001b[38;5;241m=\u001b[39m np\u001b[38;5;241m.\u001b[39mfull((\u001b[38;5;28mself\u001b[39m\u001b[38;5;241m.\u001b[39mnum_trajectories,), done, dtype\u001b[38;5;241m=\u001b[39m\u001b[38;5;28mbool\u001b[39m)\n",
      "File \u001b[0;32m~/Documents/GitHub/mbt_gym/notebooks/../mbt_gym/gym/TradingEnvironment.py:217\u001b[0m, in \u001b[0;36mTradingEnvironment._update_state\u001b[0;34m(self, action)\u001b[0m\n\u001b[1;32m    215\u001b[0m \u001b[38;5;28;01mif\u001b[39;00m fills \u001b[38;5;129;01mis\u001b[39;00m \u001b[38;5;129;01mnot\u001b[39;00m \u001b[38;5;28;01mNone\u001b[39;00m:\n\u001b[1;32m    216\u001b[0m     fills \u001b[38;5;241m=\u001b[39m \u001b[38;5;28mself\u001b[39m\u001b[38;5;241m.\u001b[39m_remove_max_inventory_fills(fills)\n\u001b[0;32m--> 217\u001b[0m \u001b[38;5;28;43mself\u001b[39;49m\u001b[38;5;241;43m.\u001b[39;49m\u001b[43m_update_agent_state\u001b[49m\u001b[43m(\u001b[49m\u001b[43marrivals\u001b[49m\u001b[43m,\u001b[49m\u001b[43m \u001b[49m\u001b[43mfills\u001b[49m\u001b[43m,\u001b[49m\u001b[43m \u001b[49m\u001b[43maction\u001b[49m\u001b[43m)\u001b[49m\n\u001b[1;32m    218\u001b[0m \u001b[38;5;28mself\u001b[39m\u001b[38;5;241m.\u001b[39m_update_market_state(arrivals, fills, action)\n\u001b[1;32m    219\u001b[0m \u001b[38;5;28;01mreturn\u001b[39;00m \u001b[38;5;28mself\u001b[39m\u001b[38;5;241m.\u001b[39mstate\n",
      "File \u001b[0;32m~/Documents/GitHub/mbt_gym/notebooks/../mbt_gym/gym/TradingEnvironment.py:229\u001b[0m, in \u001b[0;36mTradingEnvironment._update_agent_state\u001b[0;34m(self, arrivals, fills, action)\u001b[0m\n\u001b[1;32m    228\u001b[0m \u001b[38;5;28;01mdef\u001b[39;00m \u001b[38;5;21m_update_agent_state\u001b[39m(\u001b[38;5;28mself\u001b[39m, arrivals: np\u001b[38;5;241m.\u001b[39mndarray, fills: np\u001b[38;5;241m.\u001b[39mndarray, action: np\u001b[38;5;241m.\u001b[39mndarray):\n\u001b[0;32m--> 229\u001b[0m     \u001b[38;5;28;43mself\u001b[39;49m\u001b[38;5;241;43m.\u001b[39;49m\u001b[43mtrader\u001b[49m\u001b[38;5;241;43m.\u001b[39;49m\u001b[43mupdate_state\u001b[49m\u001b[43m(\u001b[49m\u001b[38;5;28;43mself\u001b[39;49m\u001b[38;5;241;43m.\u001b[39;49m\u001b[43mstate\u001b[49m\u001b[43m,\u001b[49m\u001b[43m \u001b[49m\u001b[43marrivals\u001b[49m\u001b[43m,\u001b[49m\u001b[43m \u001b[49m\u001b[43mfills\u001b[49m\u001b[43m,\u001b[49m\u001b[43m \u001b[49m\u001b[43maction\u001b[49m\u001b[43m)\u001b[49m\n\u001b[1;32m    230\u001b[0m     \u001b[38;5;28mself\u001b[39m\u001b[38;5;241m.\u001b[39m_clip_inventory_and_cash()\n\u001b[1;32m    231\u001b[0m     \u001b[38;5;28mself\u001b[39m\u001b[38;5;241m.\u001b[39mstate[:, TIME_INDEX] \u001b[38;5;241m+\u001b[39m\u001b[38;5;241m=\u001b[39m \u001b[38;5;28mself\u001b[39m\u001b[38;5;241m.\u001b[39mstep_size\n",
      "File \u001b[0;32m~/Documents/GitHub/mbt_gym/notebooks/../mbt_gym/gym/Traders.py:269\u001b[0m, in \u001b[0;36mTradinghWithSpeedTrader.update_state\u001b[0;34m(self, state, arrivals, fills, action)\u001b[0m\n\u001b[1;32m    268\u001b[0m \u001b[38;5;28;01mdef\u001b[39;00m \u001b[38;5;21mupdate_state\u001b[39m(\u001b[38;5;28mself\u001b[39m, state: np\u001b[38;5;241m.\u001b[39mndarray, arrivals: np\u001b[38;5;241m.\u001b[39mndarray, fills: np\u001b[38;5;241m.\u001b[39mndarray, action: np\u001b[38;5;241m.\u001b[39mndarray):\n\u001b[0;32m--> 269\u001b[0m     price_impact \u001b[38;5;241m=\u001b[39m \u001b[38;5;28;43mself\u001b[39;49m\u001b[38;5;241;43m.\u001b[39;49m\u001b[43mprice_impact_model\u001b[49m\u001b[38;5;241;43m.\u001b[39;49m\u001b[43mget_impact\u001b[49m(action)\n\u001b[1;32m    270\u001b[0m     execution_price \u001b[38;5;241m=\u001b[39m \u001b[38;5;28mself\u001b[39m\u001b[38;5;241m.\u001b[39mmidprice \u001b[38;5;241m+\u001b[39m price_impact\n\u001b[1;32m    271\u001b[0m     volume \u001b[38;5;241m=\u001b[39m action \u001b[38;5;241m*\u001b[39m \u001b[38;5;28mself\u001b[39m\u001b[38;5;241m.\u001b[39mstep_size\n",
      "\u001b[0;31mAttributeError\u001b[0m: 'NoneType' object has no attribute 'get_impact'"
     ]
    }
   ],
   "source": [
    "action = np.array([[0.0], \n",
    "                    [1.0], \n",
    "                     [-10]])\n",
    "env.step(action = action)"
   ]
  },
  {
   "cell_type": "code",
   "execution_count": null,
   "id": "953f2412",
   "metadata": {},
   "outputs": [],
   "source": [
    "    "
   ]
  },
  {
   "cell_type": "code",
   "execution_count": null,
   "id": "bdd36790",
   "metadata": {},
   "outputs": [],
   "source": []
  },
  {
   "cell_type": "code",
   "execution_count": null,
   "id": "7e8c5c7a",
   "metadata": {},
   "outputs": [],
   "source": []
  }
 ],
 "metadata": {
  "kernelspec": {
   "display_name": "Python 3 (ipykernel)",
   "language": "python",
   "name": "python3"
  },
  "language_info": {
   "codemirror_mode": {
    "name": "ipython",
    "version": 3
   },
   "file_extension": ".py",
   "mimetype": "text/x-python",
   "name": "python",
   "nbconvert_exporter": "python",
   "pygments_lexer": "ipython3",
   "version": "3.9.7"
  }
 },
 "nbformat": 4,
 "nbformat_minor": 5
}
