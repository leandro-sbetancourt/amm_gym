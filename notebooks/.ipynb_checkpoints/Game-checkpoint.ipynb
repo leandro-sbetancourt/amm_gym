{
 "cells": [
  {
   "cell_type": "code",
   "execution_count": 1,
   "id": "eb2d1939",
   "metadata": {},
   "outputs": [],
   "source": [
    "import sys\n",
    "sys.path.append(\"../\") # This version of the notebook is in the subfolder \"notebooks\" of the repo\n",
    "\n",
    "import gym\n",
    "import matplotlib.pyplot as plt\n",
    "import numpy as np\n",
    "import pandas as pd\n",
    "import seaborn as sns\n",
    "\n",
    "from copy import deepcopy\n",
    "\n",
    "from mbt_gym.gym.TradingEnvironment import TradingEnvironment, ASSET_PRICE_INDEX, INVENTORY_INDEX\n",
    "from mbt_gym.gym.Traders import AmmTrader, MarketOrderTrader\n",
    "\n",
    "from mbt_gym.agents.BaselineAgents import *\n",
    "from mbt_gym.gym.helpers.generate_trajectory import generate_trajectory\n",
    "from mbt_gym.gym.helpers.plotting import *\n",
    "from mbt_gym.agents.BaselineAgents import CarteaJaimungalMmAgent\n",
    "from mbt_gym.gym.helpers.generate_trajectory import generate_trajectory\n",
    "from mbt_gym.gym.StableBaselinesTradingEnvironment import StableBaselinesTradingEnvironment\n",
    "from mbt_gym.gym.wrappers import *\n",
    "from mbt_gym.rewards.RewardFunctions import CjCriterion, CjMmCriterion, RunningTargetInventoryPenalty\n",
    "from mbt_gym.stochastic_processes.midprice_models import *\n",
    "from mbt_gym.stochastic_processes.fill_probability_models import *\n",
    "from mbt_gym.stochastic_processes.arrival_models import *\n",
    "import torch"
   ]
  },
  {
   "cell_type": "code",
   "execution_count": 2,
   "id": "813bce42-c3c2-4cb4-b1ef-5f45ded50dc6",
   "metadata": {},
   "outputs": [],
   "source": [
    "def rescale_plot(W=5, l=6, w=3, fontsize=10):\n",
    "    plt.rcParams.update({\n",
    "            'figure.figsize': (W, W/(l/w)),     # 6:3 aspect ratio\n",
    "            'font.size' : fontsize,                   # Set font size to 11pt\n",
    "            'axes.labelsize': fontsize,               # -> axis labels\n",
    "            'legend.fontsize': fontsize,              # -> legends\n",
    "            'font.family': 'lmodern',\n",
    "            'text.usetex': True,\n",
    "            'text.latex.preamble':             # LaTeX preamble\n",
    "                r\"\\usepackage{amssymb}\\usepackage{lmodern}\\usepackage{amsfonts}\\usepackage{amsmath}\"\n",
    "                # ... more packages if needed\n",
    "            \n",
    "        })"
   ]
  },
  {
   "cell_type": "code",
   "execution_count": 3,
   "id": "09f6c2b9-5150-43e7-be7f-6f8555103d44",
   "metadata": {},
   "outputs": [],
   "source": [
    "import matplotlib.ticker as mtick\n",
    "import matplotlib.dates as md\n",
    "\n",
    "percc = mtick.StrMethodFormatter('\\%{x:,.1f}')\n"
   ]
  },
  {
   "cell_type": "code",
   "execution_count": 4,
   "id": "f50e2996",
   "metadata": {},
   "outputs": [],
   "source": [
    "%load_ext autoreload\n",
    "%autoreload 2"
   ]
  },
  {
   "cell_type": "markdown",
   "id": "a8001cf4-d13d-4b25-9b06-1d4009b981b5",
   "metadata": {},
   "source": [
    "# Functions and methods"
   ]
  },
  {
   "cell_type": "code",
   "execution_count": 5,
   "id": "7a391e2d-26d6-43f0-b8df-4e715d381b5e",
   "metadata": {},
   "outputs": [],
   "source": [
    "def run_simulation(arb_env, arb_agent):\n",
    "    obs_space_dim    = arb_env.observation_space.shape[0]\n",
    "    action_space_dim = arb_env.action_space.shape[0]\n",
    "    observations     = np.zeros((arb_env.num_trajectories, obs_space_dim, arb_env.n_steps + 1))\n",
    "    actions          = np.zeros((arb_env.num_trajectories, action_space_dim, arb_env.n_steps))\n",
    "    rewards          = np.zeros((arb_env.num_trajectories, 1, arb_env.n_steps))\n",
    "\n",
    "    obs                   = arb_env.reset()\n",
    "    observations[:, :, 0] = obs\n",
    "    count                 = 0\n",
    "\n",
    "    for _i in range(n_steps):\n",
    "        action                        = arb_agent.get_action(obs)\n",
    "        obs,  reward, done, _         = arb_env.step(action)\n",
    "\n",
    "        actions[:, :, count]          = action\n",
    "        observations[:, :, count + 1] = obs\n",
    "        rewards[:, :, count]          = reward.reshape(-1, 1)\n",
    "\n",
    "        if (pool_agent.env.num_trajectories > 1 and done[0]) or (pool_agent.env.num_trajectories == 1 and done):\n",
    "            break\n",
    "\n",
    "        count += 1\n",
    "    \n",
    "    return observations\n",
    "\n",
    "def getSimulationData(arb_agent, observations, initial_pool_value):\n",
    "    Z          = [s[1][0][0] for s in arb_agent.historical_pool_prices]\n",
    "    timesIndex = [np.round(s[0], 3) for s in arb_agent.historical_pool_prices]\n",
    "    bids       = [s[1][0][0] for s in arb_agent.historical_ba]\n",
    "    asks       = [s[1][0][1] for s in arb_agent.historical_ba]\n",
    "    historical_pool_inventory      = [s[1][0] for s in arb_agent.historical_pool_inventory]\n",
    "    pool_earnings_history          = [s[1][0] if type(s[1])==np.ndarray else s[1]  for s in arb_agent.pool_earnings_history]\n",
    "    historical_pool_inventory_cash = [0] + [-qtty * Zi for (qtty, Zi) in zip(np.diff(historical_pool_inventory), Z[1:])]\n",
    "\n",
    "    allData = pd.DataFrame(index = timesIndex)\n",
    "    allData['Z']    = Z\n",
    "    allData['bids'] = bids\n",
    "    allData['asks'] = asks\n",
    "    allData['pool_inv_y']    = historical_pool_inventory\n",
    "    allData['pool_inv_x']    = np.cumsum(historical_pool_inventory_cash)\n",
    "    allData['pool_earnings'] = pool_earnings_history\n",
    "\n",
    "    pool_earnings_history = allData[[\"pool_earnings\"]].groupby(allData.index).sum()\n",
    "    bids_history          = allData[[\"bids\"]].groupby(allData.index).sum()\n",
    "    asks_history          = allData[[\"asks\"]].groupby(allData.index).sum()\n",
    "\n",
    "    allData = allData.groupby(allData.index).first()\n",
    "    allData['S'] = observations[0, ASSET_PRICE_INDEX, :-1]\n",
    "    allData['pool_earnings'] = pool_earnings_history\n",
    "    allData['pool_earnings'] = allData['pool_earnings'].cumsum()\n",
    "    \n",
    "    ImpermanentLoss = allData.pool_inv_x+allData.pool_inv_y*allData.Z - initial_inventory_pool*allData.Z\n",
    "    allData['ImpermanentLoss'] = ImpermanentLoss\n",
    "\n",
    "    allData.loc[allData[allData.bids>9000].index, \"bids\"] = np.nan\n",
    "\n",
    "    bid_history = (allData['Z'] - allData['bids'])\n",
    "    ask_history = (allData['Z'] + allData['asks'])\n",
    "    \n",
    "    allData['poolValue'] = (allData.pool_inv_x+allData.pool_inv_y*allData.Z)/initial_pool_value - 1\n",
    "    allData['Hodl'] = (initial_inventory_pool*allData.Z)/initial_pool_value - 1\n",
    "    allData['LPWealth'] = allData.pool_earnings/initial_pool_value + (allData.pool_inv_x+allData.pool_inv_y*allData.Z)/initial_pool_value - 1\n",
    "\n",
    "    return allData, bid_history, ask_history"
   ]
  },
  {
   "cell_type": "code",
   "execution_count": 6,
   "id": "201493a2-b579-487c-a44e-98863bd4485c",
   "metadata": {},
   "outputs": [],
   "source": [
    "def get_pool_agent(_arrival_rate, _phi, _alpha, _fill_exponent, \n",
    "                    _initial_inventory_pool, _target_inventory, _jump_size_L, _unit_size, _min_inventory_pool, _max_inventory_pool,\n",
    "                    _initial_price, _max_depth,\n",
    "                    _terminal_time, _step_size,\n",
    "                    _seed, _n_steps, _num_trajectories, _verbose):\n",
    "\n",
    "    _midprice_model_internal = AmmSelfContainedMidpriceModel(jump_size_L      = _jump_size_L, \n",
    "                                                             unit_size        = _unit_size,\n",
    "                                                             terminal_time    = _terminal_time, \n",
    "                                                             step_size        = _step_size, \n",
    "                                                             initial_price    = _initial_price, \n",
    "                                                             num_trajectories = _num_trajectories, \n",
    "                                                             seed             = _seed)\n",
    "#,\n",
    "#                                                             eta_ask          = lambda y, Delta, L: 0.01,\n",
    "#                                                             eta_bid          = lambda y, Delta, L: 0.01\n",
    "\n",
    "    _arrival_model = PoissonArrivalModel(intensity = np.array([_arrival_rate, _arrival_rate]), \n",
    "                                        step_size = _step_size, \n",
    "                                        seed      = _seed)\n",
    "\n",
    "    _fill_probability_model = ExponentialFillFunction(fill_exponent    = _fill_exponent, \n",
    "                                                     step_size        = _step_size, \n",
    "                                                     num_trajectories = _num_trajectories, \n",
    "                                                     seed             = _seed)\n",
    "\n",
    "    _AMMtrader = AmmTrader(midprice_model        = _midprice_model_internal, \n",
    "                          arrival_model          = _arrival_model, \n",
    "                          fill_probability_model = _fill_probability_model,\n",
    "                          num_trajectories       = _num_trajectories, \n",
    "                          max_depth              = _max_depth, \n",
    "                          unit_size              = _unit_size,\n",
    "                          seed                   = _seed)\n",
    "\n",
    "    _env_params_pool = dict(  terminal_time     = _terminal_time, \n",
    "                              n_steps           = _n_steps,\n",
    "                              initial_inventory = _initial_inventory_pool,\n",
    "                              midprice_model    = _midprice_model_internal,\n",
    "                              arrival_model     = _arrival_model,\n",
    "                              fill_probability_model = _fill_probability_model,\n",
    "                              trader            = _AMMtrader,\n",
    "                              reward_function   = RunningTargetInventoryPenalty(_phi, _alpha, 2, _initial_inventory_pool),\n",
    "                              normalise_action_space      = False,\n",
    "                              normalise_observation_space = False,\n",
    "                              num_trajectories  = _num_trajectories, \n",
    "                              min_inventory     = _min_inventory_pool,\n",
    "                              max_inventory     = _max_inventory_pool,\n",
    "                              max_cash          = 1e15,\n",
    "                              seed              = _seed)\n",
    "\n",
    "    return PoolInterpGEtaMmAgent(env               = TradingEnvironment(**_env_params_pool), \n",
    "                       target_inventory  = _target_inventory, \n",
    "                       min_inventory     = _min_inventory_pool,\n",
    "                       max_inventory     = _max_inventory_pool,\n",
    "                       verbose           = _verbose)"
   ]
  },
  {
   "cell_type": "code",
   "execution_count": 7,
   "id": "ac9f8c59-53f6-4daa-a7d7-2c19fc4012c4",
   "metadata": {},
   "outputs": [],
   "source": [
    "def get_arb_env(sigma, drift, initial_price):\n",
    "    initial_inventory_arb   = 0\n",
    "    midprice_model_external = BrownianMotionMidpriceModel(volatility     = sigma,\n",
    "                                                          drift          = drift,\n",
    "                                                          initial_price    = initial_price,\n",
    "                                                          terminal_time    = terminal_time,\n",
    "                                                          step_size        = step_size,\n",
    "                                                          num_trajectories = num_trajectories,\n",
    "                                                          seed             = seed)\n",
    "\n",
    "    ArbTrader = MarketOrderTrader(num_trajectories  = 1,\n",
    "                                  min_size          = -1e15,\n",
    "                                  max_size          = 1e15,\n",
    "                                  seed              = seed)\n",
    "\n",
    "    env_params_arb = dict(terminal_time      = terminal_time, \n",
    "                          n_steps            = n_steps,\n",
    "                          initial_inventory  = initial_inventory_arb,\n",
    "                          midprice_model     = midprice_model_external,\n",
    "                          trader             = ArbTrader,\n",
    "                          reward_function    = CjMmCriterion(phi, alpha),\n",
    "                          normalise_action_space      = False,\n",
    "                          normalise_observation_space = False,\n",
    "                          num_trajectories   = num_trajectories,\n",
    "                          min_inventory      = -1e15,\n",
    "                          max_inventory      = 1e15,\n",
    "                          max_cash           = 1e15,\n",
    "                          seed               = seed)\n",
    "\n",
    "    arb_env   = TradingEnvironment(**env_params_arb)\n",
    "    arb_agent = ArbitrageurAmmAgent(env           = TradingEnvironment(**env_params_arb),\n",
    "                                     agent         = pool_agent,\n",
    "                                     min_inventory = -1e14,\n",
    "                                     max_inventory = 1e14,\n",
    "                                     verbose       = False)\n",
    "    return arb_agent, arb_env"
   ]
  },
  {
   "cell_type": "markdown",
   "id": "ad96d84f",
   "metadata": {},
   "source": [
    "# Pool envrionement and agent"
   ]
  },
  {
   "cell_type": "markdown",
   "id": "0033a49d-eaeb-430e-b94c-ae2ae405f867",
   "metadata": {},
   "source": [
    "#### Example"
   ]
  },
  {
   "cell_type": "code",
   "execution_count": 8,
   "id": "c7076956-82e6-4be5-9baa-5c223d8d7d80",
   "metadata": {},
   "outputs": [],
   "source": [
    "############################\n",
    "# LP strategy parameters\n",
    "############################\n",
    "fill_exponent          = 30\n",
    "jump_size_L            = 10 #np.nan  #/initial_price  #20\n",
    "arrival_rate           = 10.0\n",
    "phi                    = 3e-4 #1e-15\n",
    "alpha                  = 0 #.001 #01 #001\n",
    "\n",
    "############################\n",
    "# Pool liquidity parameters\n",
    "############################\n",
    "initial_inventory_pool = 3000\n",
    "target_inventory       = 1000\n",
    "min_inventory_pool     = 100\n",
    "max_inventory_pool     = 20000\n",
    "unit_size              = 100\n",
    "\n",
    "############################\n",
    "# Price parameters\n",
    "############################\n",
    "initial_price          = 10\n",
    "sigma                  = 5 * initial_price / 100\n",
    "\n",
    "############################\n",
    "# Others\n",
    "############################\n",
    "max_depth              = 5*1/fill_exponent\n",
    "terminal_time          = 1.0\n",
    "n_steps                = int(20 * terminal_time * arrival_rate)\n",
    "step_size              = terminal_time/n_steps\n",
    "seed                   = 1\n",
    "num_trajectories       = 1\n",
    "verbose                = False\n",
    "\n",
    "############################\n",
    "# Others\n",
    "############################\n",
    "pool_agent = get_pool_agent(arrival_rate, phi, alpha, fill_exponent, \n",
    "                            initial_inventory_pool, target_inventory, \n",
    "                            jump_size_L, unit_size, min_inventory_pool, max_inventory_pool,\n",
    "                            initial_price, max_depth,\n",
    "                            terminal_time, step_size,\n",
    "                            seed, n_steps, num_trajectories, \n",
    "                            verbose)"
   ]
  },
  {
   "cell_type": "code",
   "execution_count": 9,
   "id": "0c4bb027-864e-4804-9d21-deb7a77c70e3",
   "metadata": {},
   "outputs": [
    {
     "data": {
      "text/plain": [
       "<AxesSubplot:>"
      ]
     },
     "execution_count": 9,
     "metadata": {},
     "output_type": "execute_result"
    },
    {
     "data": {
      "image/png": "[encoded data removed]",
      "text/plain": [
       "<Figure size 432x288 with 1 Axes>"
      ]
     },
     "metadata": {
      "needs_background": "light"
     },
     "output_type": "display_data"
    }
   ],
   "source": [
    "pd.DataFrame(pool_agent.omegas[5,:,:]).plot()"
   ]
  },
  {
   "cell_type": "code",
   "execution_count": 10,
   "id": "3a4e2e55-2a9b-4be9-91c8-ccdb11d11b1f",
   "metadata": {},
   "outputs": [
    {
     "name": "stderr",
     "output_type": "stream",
     "text": [
      "/Users/faycaldrissi/Library/CloudStorage/OneDrive-Personal/Documents/PhD/Main/AMM/NASH/ammgymnew/notebooks/../mbt_gym/agents/BaselineAgents.py:739: RuntimeWarning: divide by zero encountered in log\n",
      "  return (1/ self.kappa) * np.log(self.omegas[int((self.terminal_time - current_time)/self.env.step_size)-1, :, :])\n"
     ]
    },
    {
     "data": {
      "text/plain": [
       "array([[0.   , 0.076]])"
      ]
     },
     "execution_count": 10,
     "metadata": {},
     "output_type": "execute_result"
    }
   ],
   "source": [
    "np.round(pool_agent._calculate_deltas(current_time=0., \n",
    "                                      inventories=initial_inventory_pool), 3)"
   ]
  },
  {
   "cell_type": "code",
   "execution_count": 11,
   "id": "f11ac7da-014b-44b0-a90a-5e558c16bda7",
   "metadata": {},
   "outputs": [
    {
     "data": {
      "text/plain": [
       "array([[0.018, 0.051]])"
      ]
     },
     "execution_count": 11,
     "metadata": {},
     "output_type": "execute_result"
    }
   ],
   "source": [
    "np.round(pool_agent._calculate_deltas(current_time = 0., \n",
    "                                      inventories  = initial_inventory_pool+1000), 3)"
   ]
  },
  {
   "cell_type": "code",
   "execution_count": 12,
   "id": "d7a22a40-2e5e-4365-a31c-7dca2d015eaf",
   "metadata": {},
   "outputs": [
    {
     "data": {
      "text/plain": [
       "array([[0.   , 0.119]])"
      ]
     },
     "execution_count": 12,
     "metadata": {},
     "output_type": "execute_result"
    }
   ],
   "source": [
    "np.round(pool_agent._calculate_deltas(current_time=0., inventories=initial_inventory_pool-1000), 3)"
   ]
  },
  {
   "cell_type": "markdown",
   "id": "557ebcb0-25b7-420a-854b-5c8a39917eb1",
   "metadata": {},
   "source": [
    "# Pool versus Arbitrageur"
   ]
  },
  {
   "cell_type": "markdown",
   "id": "3d6f8d01",
   "metadata": {},
   "source": [
    "# Simulation"
   ]
  },
  {
   "cell_type": "code",
   "execution_count": 13,
   "id": "bce45e4e",
   "metadata": {},
   "outputs": [],
   "source": [
    "import gym\n",
    "import numpy as np\n",
    "import torch\n",
    "from mbt_gym.agents.Agent import Agent\n",
    "\n",
    "############################\n",
    "# LP strategy parameters\n",
    "############################\n",
    "fill_exponent          = 30\n",
    "jump_size_L            = 10 #np.nan  #/initial_price  #20\n",
    "arrival_rate           = 10.0\n",
    "phi                    = 5e-4 #1e-15\n",
    "alpha                  = 0 #.001 #01 #001\n",
    "\n",
    "############################\n",
    "# Pool liquidity parameters\n",
    "############################\n",
    "initial_inventory_pool = 5000\n",
    "target_inventory       = initial_inventory_pool/2\n",
    "min_inventory_pool     = 1\n",
    "max_inventory_pool     = 15000\n",
    "unit_size              = 100\n",
    "\n",
    "############################\n",
    "# Price parameters\n",
    "############################\n",
    "initial_price          = 20\n",
    "sigma                  = 0.7 * initial_price / 100\n",
    "drift                  = 0.4 * initial_price / 100\n",
    "\n",
    "############################\n",
    "# Others\n",
    "############################\n",
    "max_depth              = 5*1/fill_exponent\n",
    "terminal_time          = 1.0\n",
    "n_steps                = int(10 * terminal_time * arrival_rate)\n",
    "step_size              = terminal_time/n_steps\n",
    "seed                   = 24 # (22 for down)\n",
    "num_trajectories       = 1\n",
    "verbose                = False\n",
    "initial_pool_value     = initial_inventory_pool*initial_price\n",
    "\n",
    "############################\n",
    "# Agents\n",
    "############################\n",
    "pool_agent             = get_pool_agent(arrival_rate, phi, alpha, fill_exponent, \n",
    "                            initial_inventory_pool, target_inventory, \n",
    "                            jump_size_L, unit_size, min_inventory_pool, max_inventory_pool,\n",
    "                            initial_price, max_depth,\n",
    "                            terminal_time, step_size,\n",
    "                            seed, n_steps, num_trajectories, \n",
    "                            verbose)\n",
    "arb_agent, arb_env     = get_arb_env(sigma, drift, initial_price)\n",
    "\n",
    "############################\n",
    "# Random\n",
    "############################\n",
    "np.random.seed(seed)\n",
    "pool_agent.env.seed(seed)\n",
    "arb_agent.env.seed(seed)\n",
    "\n",
    "\n",
    "############################\n",
    "# Simulation\n",
    "############################\n",
    "observations = run_simulation(arb_env, arb_agent)"
   ]
  },
  {
   "cell_type": "markdown",
   "id": "89b6fec6-139f-47e5-ac17-99053d8ad74f",
   "metadata": {},
   "source": [
    "## Gather data"
   ]
  },
  {
   "cell_type": "code",
   "execution_count": 14,
   "id": "99d20d18-68a5-4fd8-8f52-8f8bea567c8b",
   "metadata": {},
   "outputs": [
    {
     "data": {
      "text/html": [
       "<div>\n",
       "<style scoped>\n",
       "    .dataframe tbody tr th:only-of-type {\n",
       "        vertical-align: middle;\n",
       "    }\n",
       "\n",
       "    .dataframe tbody tr th {\n",
       "        vertical-align: top;\n",
       "    }\n",
       "\n",
       "    .dataframe thead th {\n",
       "        text-align: right;\n",
       "    }\n",
       "</style>\n",
       "<table border=\"1\" class=\"dataframe\">\n",
       "  <thead>\n",
       "    <tr style=\"text-align: right;\">\n",
       "      <th></th>\n",
       "      <th>Z</th>\n",
       "      <th>bids</th>\n",
       "      <th>asks</th>\n",
       "      <th>pool_inv_y</th>\n",
       "      <th>pool_inv_x</th>\n",
       "      <th>pool_earnings</th>\n",
       "      <th>S</th>\n",
       "      <th>ImpermanentLoss</th>\n",
       "      <th>poolValue</th>\n",
       "      <th>Hodl</th>\n",
       "      <th>LPWealth</th>\n",
       "    </tr>\n",
       "  </thead>\n",
       "  <tbody>\n",
       "    <tr>\n",
       "      <th>0.93</th>\n",
       "      <td>20.116164</td>\n",
       "      <td>0.0</td>\n",
       "      <td>0.184645</td>\n",
       "      <td>1600.0</td>\n",
       "      <td>68166.780189</td>\n",
       "      <td>491.038569</td>\n",
       "      <td>20.313487</td>\n",
       "      <td>-228.178444</td>\n",
       "      <td>0.003526</td>\n",
       "      <td>0.005808</td>\n",
       "      <td>0.008437</td>\n",
       "    </tr>\n",
       "    <tr>\n",
       "      <th>0.94</th>\n",
       "      <td>20.129964</td>\n",
       "      <td>0.0</td>\n",
       "      <td>0.182065</td>\n",
       "      <td>1400.0</td>\n",
       "      <td>72192.059271</td>\n",
       "      <td>509.245113</td>\n",
       "      <td>20.318714</td>\n",
       "      <td>-275.812165</td>\n",
       "      <td>0.003740</td>\n",
       "      <td>0.006498</td>\n",
       "      <td>0.008833</td>\n",
       "    </tr>\n",
       "    <tr>\n",
       "      <th>0.95</th>\n",
       "      <td>20.137651</td>\n",
       "      <td>0.0</td>\n",
       "      <td>0.172743</td>\n",
       "      <td>1300.0</td>\n",
       "      <td>74205.824339</td>\n",
       "      <td>509.245113</td>\n",
       "      <td>20.306458</td>\n",
       "      <td>-303.483187</td>\n",
       "      <td>0.003848</td>\n",
       "      <td>0.006883</td>\n",
       "      <td>0.008940</td>\n",
       "    </tr>\n",
       "    <tr>\n",
       "      <th>0.96</th>\n",
       "      <td>20.137651</td>\n",
       "      <td>0.0</td>\n",
       "      <td>0.159468</td>\n",
       "      <td>1300.0</td>\n",
       "      <td>74205.824339</td>\n",
       "      <td>541.337554</td>\n",
       "      <td>20.311934</td>\n",
       "      <td>-303.483187</td>\n",
       "      <td>0.003848</td>\n",
       "      <td>0.006883</td>\n",
       "      <td>0.009261</td>\n",
       "    </tr>\n",
       "    <tr>\n",
       "      <th>0.97</th>\n",
       "      <td>20.155060</td>\n",
       "      <td>0.0</td>\n",
       "      <td>0.148257</td>\n",
       "      <td>1100.0</td>\n",
       "      <td>78235.928020</td>\n",
       "      <td>556.163224</td>\n",
       "      <td>20.304303</td>\n",
       "      <td>-368.804925</td>\n",
       "      <td>0.004065</td>\n",
       "      <td>0.007753</td>\n",
       "      <td>0.009627</td>\n",
       "    </tr>\n",
       "  </tbody>\n",
       "</table>\n",
       "</div>"
      ],
      "text/plain": [
       "              Z  bids      asks  pool_inv_y    pool_inv_x  pool_earnings  \\\n",
       "0.93  20.116164   0.0  0.184645      1600.0  68166.780189     491.038569   \n",
       "0.94  20.129964   0.0  0.182065      1400.0  72192.059271     509.245113   \n",
       "0.95  20.137651   0.0  0.172743      1300.0  74205.824339     509.245113   \n",
       "0.96  20.137651   0.0  0.159468      1300.0  74205.824339     541.337554   \n",
       "0.97  20.155060   0.0  0.148257      1100.0  78235.928020     556.163224   \n",
       "\n",
       "              S  ImpermanentLoss  poolValue      Hodl  LPWealth  \n",
       "0.93  20.313487      -228.178444   0.003526  0.005808  0.008437  \n",
       "0.94  20.318714      -275.812165   0.003740  0.006498  0.008833  \n",
       "0.95  20.306458      -303.483187   0.003848  0.006883  0.008940  \n",
       "0.96  20.311934      -303.483187   0.003848  0.006883  0.009261  \n",
       "0.97  20.304303      -368.804925   0.004065  0.007753  0.009627  "
      ]
     },
     "execution_count": 14,
     "metadata": {},
     "output_type": "execute_result"
    }
   ],
   "source": [
    "allData, bid_history, ask_history = getSimulationData(arb_agent, observations, initial_pool_value)\n",
    "\n",
    "allData = allData.iloc[:-2, :]\n",
    "bid_history = bid_history.iloc[:-2]\n",
    "ask_history = ask_history.iloc[:-2]\n",
    "\n",
    "allData.tail()"
   ]
  },
  {
   "cell_type": "markdown",
   "id": "3b07c684-5100-4963-a0ba-ec6fafbf9d9e",
   "metadata": {},
   "source": [
    "## Plots"
   ]
  },
  {
   "cell_type": "code",
   "execution_count": 15,
   "id": "25dfd6c2",
   "metadata": {},
   "outputs": [
    {
     "data": {
      "image/png": "[encoded data removed]",
      "text/plain": [
       "<Figure size 288x288 with 2 Axes>"
      ]
     },
     "metadata": {
      "needs_background": "light"
     },
     "output_type": "display_data"
    }
   ],
   "source": [
    "rescale_plot(W = 4, \n",
    "             l = 6, \n",
    "             w = 6, \n",
    "             fontsize = 10)\n",
    "\n",
    "fig, (ax1, ax2) = plt.subplots(2, 1, sharex=True, constrained_layout=True)\n",
    "\n",
    "ax1.plot(allData.index, allData['Z'], lw=3, color='k')\n",
    "ax1.plot(allData.index, allData['S'], lw=3, color='grey')\n",
    "\n",
    "ax1.fill_between(bid_history.index, bid_history.values, ask_history.values, alpha=0.4, \n",
    "                 facecolor='tan', hatch=\"ooo\", edgecolor=\"grey\")\n",
    "\n",
    "ax1.plot(allData[allData['pool_inv_y'].diff(1).shift(-1)>0].index ,\n",
    "         allData[allData['pool_inv_y'].diff(1).shift(-1)>0].Z+0.005, \n",
    "         marker = 'v', linestyle = 'None', \n",
    "         markerfacecolor='None', markeredgecolor='r')\n",
    "\n",
    "ax1.plot(allData[allData['pool_inv_y'].diff(1).shift(-1)<0].index ,\n",
    "         allData[allData['pool_inv_y'].diff(1).shift(-1)<0].Z-0.005, \n",
    "         marker = '^', linestyle = 'None', \n",
    "         markerfacecolor='None', markeredgecolor='green')\n",
    "\n",
    "ax1.legend([r'$Z_t$',  r'$S_t$', r'$[Z_t - \\delta_t^b, Z_t + \\delta_t^a]$', 'Sell', 'Buy'], \n",
    "           fancybox=True, framealpha=0.2, handlelength=0.4, ncol=3, loc='best' )\n",
    "\n",
    "ax1.yaxis.set_major_formatter(mtick.StrMethodFormatter('\\${x:,.2f}'))\n",
    "ax1.set_xlabel('Time')\n",
    "ax1.set_ylabel('Price')\n",
    "\n",
    "for ax in (ax1, ): \n",
    "    ax.grid('both')\n",
    "    ax.yaxis.tick_right()\n",
    "    ax.yaxis.set_label_position(\"left\")\n",
    "    ax.set_axisbelow(True)\n",
    "\n",
    "ax2.plot(allData.index , allData['poolValue']*initial_pool_value, color='grey', lw=3)\n",
    "ax2.plot(allData.index , allData['Hodl']*initial_pool_value, color='b', lw=3)\n",
    "ax2.plot(allData.index , allData['LPWealth']*initial_pool_value, color='k', lw=3)\n",
    "\n",
    "ax2.fill_between(allData.index, \n",
    "                 allData['Hodl']*initial_pool_value,\n",
    "                 allData['poolValue']*initial_pool_value, \n",
    "                 alpha=0.4, facecolor='lightcoral', hatch=\"ooo\", edgecolor=\"grey\")\n",
    "\n",
    "ax2.legend(['Pool value', 'Hodl', 'LP wealth (pool + earnings)', 'Impermanent Loss'], \n",
    "           fancybox=True, framealpha=0.2, handlelength=0.5, ncol=2, )\n",
    "\n",
    "ax2.yaxis.set_major_formatter(mtick.StrMethodFormatter('\\${x:,.0f}'))\n",
    "ax2.set_xlabel('Time')\n",
    "ax2.set_ylabel('Performance')\n",
    "\n",
    "for ax in (ax2, ): \n",
    "    ax.grid('both')\n",
    "    ax.yaxis.tick_right()\n",
    "    ax.yaxis.set_label_position(\"left\")\n",
    "    ax.set_axisbelow(True)\n",
    "\n",
    "plt.savefig('plots/pathUp.pdf', bbox_inches='tight')\n",
    "plt.show()"
   ]
  },
  {
   "cell_type": "markdown",
   "id": "872cd633-8aa9-47ca-a110-f4365f811e23",
   "metadata": {},
   "source": [
    "# Wealth distributions"
   ]
  },
  {
   "cell_type": "code",
   "execution_count": 16,
   "id": "94a96e9d",
   "metadata": {},
   "outputs": [],
   "source": [
    "if True:\n",
    "    simresults = pd.read_pickle('plots/simresults.pkl')\n",
    "else:\n",
    "    nb_simulations = 1000\n",
    "\n",
    "    ImpermanentLoss = []\n",
    "    pool_earnings   = []\n",
    "    Hodl            = []\n",
    "    LPWealth        = []\n",
    "    poolValue       = []\n",
    "\n",
    "    for i in range(nb_simulations):\n",
    "        seed += 1\n",
    "        print('\\nSimulation ', i, '/', nb_simulations)\n",
    "        pool_agent             = get_pool_agent(arrival_rate, phi, alpha, fill_exponent, \n",
    "                                initial_inventory_pool, target_inventory, \n",
    "                                jump_size_L, unit_size, min_inventory_pool, max_inventory_pool,\n",
    "                                initial_price, max_depth,\n",
    "                                terminal_time, step_size,\n",
    "                                seed, n_steps, num_trajectories, \n",
    "                                verbose)\n",
    "        arb_agent, arb_env     = get_arb_env(sigma, drift, initial_price)\n",
    "\n",
    "        observations = run_simulation(arb_env, arb_agent)\n",
    "\n",
    "        allData, bid_history, ask_history = getSimulationData(arb_agent, observations, initial_pool_value)\n",
    "\n",
    "        ImpermanentLoss += [allData.iloc[-3].ImpermanentLoss]\n",
    "        pool_earnings   += [allData.iloc[-3].pool_earnings]\n",
    "        Hodl            += [allData.iloc[-3].Hodl* initial_pool_value]\n",
    "        LPWealth        += [allData.iloc[-3].LPWealth* initial_pool_value]\n",
    "        poolValue       += [allData.iloc[-3].poolValue* initial_pool_value]\n",
    "\n",
    "        simresults = pd.DataFrame.from_dict({'ImpermanentLoss':ImpermanentLoss,\n",
    "                           'pool_earnings':pool_earnings,\n",
    "                           'Hodl':Hodl,\n",
    "                           'LPWealth':LPWealth,\n",
    "                           'poolValue':poolValue})\n",
    "        simresults.to_pickle('plots/simresults.pkl')"
   ]
  },
  {
   "cell_type": "code",
   "execution_count": 19,
   "id": "48d01fee-b0ac-489d-bbb0-b81426a1248e",
   "metadata": {},
   "outputs": [
    {
     "data": {
      "image/png": "[encoded data removed]",
      "text/plain": [
       "<Figure size 288x172.8 with 2 Axes>"
      ]
     },
     "metadata": {
      "needs_background": "light"
     },
     "output_type": "display_data"
    }
   ],
   "source": [
    "import seaborn as sns\n",
    "\n",
    "rescale_plot(W = 4, \n",
    "             l = 5, \n",
    "             w = 3, \n",
    "             fontsize = 10)\n",
    "\n",
    "fig, (ax, ax2) = plt.subplots(1, 2, constrained_layout=True, sharey=True)\n",
    "\n",
    "sns.histplot(simresults.ImpermanentLoss, \n",
    "             color = \"lightcoral\", \n",
    "             label = \"Compact\", \n",
    "             ax    = ax, lw=2, \n",
    "             binwidth=60,\n",
    "             line_kws=dict(color='k', lw=3),\n",
    "             kde=True)\n",
    "\n",
    "sns.histplot(simresults.pool_earnings, \n",
    "             color = \"grey\", \n",
    "             label = \"Compact\", \n",
    "             ax    = ax2, lw=2, \n",
    "             binwidth=70,\n",
    "             line_kws=dict(color='grey', lw=3),\n",
    "             kde=True)\n",
    "\n",
    "for x in (ax, ax2):\n",
    "    x.yaxis.tick_right()\n",
    "    x.xaxis.set_major_formatter( mtick.StrMethodFormatter('$\\${x:,.0f}$'))\n",
    "    #ax.yaxis.set_major_formatter(normal)\n",
    "\n",
    "    x.yaxis.set_label_position(\"left\")\n",
    "    x.yaxis.tick_left()\n",
    "    x.set_ylabel('')\n",
    "\n",
    "    x.grid(axis='both', color='gainsboro', linestyle='-', linewidth=1)\n",
    "    # ax.set_ylabel('Density', fontsize=12)\n",
    "    # ax.set_ylabel('Transaction size', fontsize=12)\n",
    "ax.yaxis.set_label_position(\"left\")\n",
    "ax.set_ylabel('count')\n",
    "\n",
    "ax.legend(['Impermanent Loss',\n",
    "               ''],  loc='upper right', fancybox=True, framealpha=0.2, handlelength=0.4, ncol=1)\n",
    "ax2.legend(['Pool earnings',\n",
    "               ''],  loc='upper right', fancybox=True, framealpha=0.2, handlelength=0.4, ncol=1)\n",
    "\n",
    "plt.savefig('plots/dist.pdf', bbox_inches='tight')\n",
    "plt.show()"
   ]
  },
  {
   "cell_type": "code",
   "execution_count": 21,
   "id": "70988ac7-d160-4db9-85e7-31447282d4de",
   "metadata": {},
   "outputs": [
    {
     "data": {
      "image/png": "[encoded data removed]",
      "text/plain": [
       "<Figure size 288x172.8 with 1 Axes>"
      ]
     },
     "metadata": {
      "needs_background": "light"
     },
     "output_type": "display_data"
    }
   ],
   "source": [
    "import seaborn as sns\n",
    "\n",
    "rescale_plot(W = 4, \n",
    "             l = 5, \n",
    "             w = 3, \n",
    "             fontsize = 10)\n",
    "\n",
    "fig, ax = plt.subplots(1, 1, constrained_layout=True)\n",
    "\n",
    "sns.histplot(simresults.LPWealth, \n",
    "             color = \"lightcoral\", \n",
    "             label = \"Compact\", \n",
    "             ax    = ax, lw=2, \n",
    "             line_kws=dict(color='k', lw=3),\n",
    "             kde=True)\n",
    "\n",
    "ax.grid('both')\n",
    "ax.yaxis.tick_right()\n",
    "ax.yaxis.set_label_position(\"left\")\n",
    "ax.set_axisbelow(True)\n",
    "ax.set_ylabel('Count')\n",
    "ax.legend(['LP wealth'],  loc='upper right', fancybox=True, framealpha=0.2, handlelength=0.4, ncol=1)\n",
    "ax.xaxis.set_major_formatter( mtick.StrMethodFormatter('$\\${x:,.0f}$'))\n",
    "ax.set_xticks(ax.get_xticks()[::2])\n",
    "\n",
    "plt.savefig('plots/distLPwealth.pdf', bbox_inches='tight')\n",
    "plt.show()"
   ]
  }
 ],
 "metadata": {
  "kernelspec": {
   "display_name": "Python 3 (ipykernel)",
   "language": "python",
   "name": "python3"
  },
  "language_info": {
   "codemirror_mode": {
    "name": "ipython",
    "version": 3
   },
   "file_extension": ".py",
   "mimetype": "text/x-python",
   "name": "python",
   "nbconvert_exporter": "python",
   "pygments_lexer": "ipython3",
   "version": "3.9.12"
  }
 },
 "nbformat": 4,
 "nbformat_minor": 5
}
