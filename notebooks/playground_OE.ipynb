{
 "cells": [
  {
   "cell_type": "code",
   "execution_count": 1,
   "id": "1e4d4ef2",
   "metadata": {},
   "outputs": [],
   "source": [
    "import gym\n",
    "import matplotlib.pyplot as plt\n",
    "import numpy as np"
   ]
  },
  {
   "cell_type": "code",
   "execution_count": 2,
   "id": "6614eb33",
   "metadata": {},
   "outputs": [],
   "source": [
    "import sys\n",
    "sys.path.append(\"../\")"
   ]
  },
  {
   "cell_type": "code",
   "execution_count": 3,
   "id": "404ae300",
   "metadata": {},
   "outputs": [],
   "source": [
    "%load_ext autoreload\n",
    "%autoreload 2"
   ]
  },
  {
   "cell_type": "code",
   "execution_count": 4,
   "id": "f4880cb8",
   "metadata": {},
   "outputs": [],
   "source": [
    "from mbt_gym.gym.TradingEnvironment import TradingEnvironment\n",
    "from mbt_gym.gym.Traders import TradinghWithSpeedTrader"
   ]
  },
  {
   "cell_type": "code",
   "execution_count": 5,
   "id": "8793dd2c",
   "metadata": {},
   "outputs": [],
   "source": [
    "from mbt_gym.agents.BaselineAgents import CarteaJaimungalMmAgent\n",
    "from mbt_gym.gym.helpers.generate_trajectory import generate_trajectory\n",
    "from mbt_gym.gym.StableBaselinesTradingEnvironment import StableBaselinesTradingEnvironment\n",
    "from mbt_gym.gym.wrappers import *\n",
    "from mbt_gym.rewards.RewardFunctions import CjCriterion, CjMmCriterion\n",
    "from mbt_gym.stochastic_processes.midprice_models import *\n",
    "from mbt_gym.stochastic_processes.price_impact_models import *"
   ]
  },
  {
   "cell_type": "code",
   "execution_count": 6,
   "id": "abb54504",
   "metadata": {},
   "outputs": [],
   "source": [
    "terminal_time = 1.0\n",
    "temporary_impact = 1e-3\n",
    "permanent_impact = 1e-3\n",
    "n_steps = int(100)\n",
    "phi = 0.5\n",
    "alpha = 0.001\n",
    "num_trajectories = 3"
   ]
  },
  {
   "cell_type": "code",
   "execution_count": 7,
   "id": "6e416127",
   "metadata": {},
   "outputs": [],
   "source": [
    "sigma = 0.001\n",
    "initial_inventory = (-4,5)\n",
    "initial_price = 100\n",
    "step_size = terminal_time/n_steps\n",
    "midprice_model = BrownianMotionMidpriceModel(volatility=sigma, \n",
    "                                           terminal_time=terminal_time, \n",
    "                                           step_size=step_size, \n",
    "                                           initial_price=initial_price, \n",
    "                                           num_trajectories=num_trajectories)\n",
    "price_impact_model = TemporaryAndPermanentPriceImpact(temporary_impact_coefficient = temporary_impact,\n",
    "                            permanent_impact_coefficient = permanent_impact,\n",
    "                            n_steps = n_steps,\n",
    "                            terminal_time = terminal_time,\n",
    "                            num_trajectories = num_trajectories)\n",
    "Speedtrader = TradinghWithSpeedTrader(midprice_model = midprice_model, price_impact_model = price_impact_model, \n",
    "                            num_trajectories = num_trajectories)"
   ]
  },
  {
   "cell_type": "code",
   "execution_count": 8,
   "id": "a6bfaa95",
   "metadata": {},
   "outputs": [
    {
     "data": {
      "text/plain": [
       "<mbt_gym.stochastic_processes.price_impact_models.TemporaryAndPermanentPriceImpact at 0x7fd94576f130>"
      ]
     },
     "execution_count": 8,
     "metadata": {},
     "output_type": "execute_result"
    }
   ],
   "source": [
    "Speedtrader.price_impact_model"
   ]
  },
  {
   "cell_type": "code",
   "execution_count": 9,
   "id": "47eff14a",
   "metadata": {},
   "outputs": [],
   "source": [
    "def get_cj_env_OE(num_trajectories:int = 1):    \n",
    "    sigma = 0.001\n",
    "    initial_inventory = (-4,5)\n",
    "    initial_price = 100\n",
    "    step_size = terminal_time/n_steps\n",
    "    midprice_model = BrownianMotionMidpriceModel(volatility=sigma, \n",
    "                                                   terminal_time=terminal_time, \n",
    "                                                   step_size=step_size, \n",
    "                                                   initial_price=initial_price, \n",
    "                                                   num_trajectories=num_trajectories)\n",
    "    price_impact_model = TemporaryAndPermanentPriceImpact(temporary_impact_coefficient = temporary_impact,\n",
    "                                permanent_impact_coefficient = permanent_impact,\n",
    "                                n_steps = n_steps,\n",
    "                                terminal_time = terminal_time,\n",
    "                                num_trajectories = num_trajectories)\n",
    "    Speedtrader = TradinghWithSpeedTrader(midprice_model = midprice_model, price_impact_model = price_impact_model, \n",
    "                                num_trajectories = num_trajectories)\n",
    "   \n",
    "    env_params = dict(terminal_time=terminal_time, \n",
    "                      n_steps=n_steps,\n",
    "                      initial_inventory = initial_inventory,\n",
    "                      midprice_model = midprice_model,\n",
    "                      price_impact_model = price_impact_model,\n",
    "                      trader = Speedtrader,\n",
    "                      reward_function = CjMmCriterion(phi, alpha),\n",
    "                      max_inventory=n_steps,\n",
    "                      normalise_action_space = False,\n",
    "                      normalise_observation_space = False,\n",
    "                      num_trajectories=num_trajectories)\n",
    "    return TradingEnvironment(**env_params)"
   ]
  },
  {
   "cell_type": "code",
   "execution_count": 10,
   "id": "edf37972",
   "metadata": {},
   "outputs": [],
   "source": [
    "env = get_cj_env_OE(num_trajectories=num_trajectories)"
   ]
  },
  {
   "cell_type": "code",
   "execution_count": 11,
   "id": "47a0057d",
   "metadata": {
    "scrolled": true
   },
   "outputs": [
    {
     "data": {
      "text/plain": [
       "array([[  0.,   4.,   0., 100.,   0.],\n",
       "       [  0.,   0.,   0., 100.,   0.],\n",
       "       [  0.,   3.,   0., 100.,   0.]])"
      ]
     },
     "execution_count": 11,
     "metadata": {},
     "output_type": "execute_result"
    }
   ],
   "source": [
    "env.reset()"
   ]
  },
  {
   "cell_type": "markdown",
   "id": "9152fae5",
   "metadata": {},
   "source": [
    "CASH_INDEX = 0\n",
    "INVENTORY_INDEX = 1\n",
    "TIME_INDEX = 2\n",
    "ASSET_PRICE_INDEX = 3"
   ]
  },
  {
   "cell_type": "code",
   "execution_count": 12,
   "id": "64062d73",
   "metadata": {},
   "outputs": [
    {
     "data": {
      "text/plain": [
       "array([[  0.,   4.,   0., 100.,   0.],\n",
       "       [  0.,   0.,   0., 100.,   0.],\n",
       "       [  0.,   3.,   0., 100.,   0.]])"
      ]
     },
     "execution_count": 12,
     "metadata": {},
     "output_type": "execute_result"
    }
   ],
   "source": [
    "env.state"
   ]
  },
  {
   "cell_type": "code",
   "execution_count": 13,
   "id": "f73d90cb",
   "metadata": {},
   "outputs": [
    {
     "data": {
      "text/plain": [
       "<mbt_gym.stochastic_processes.price_impact_models.TemporaryAndPermanentPriceImpact at 0x7fd94576f820>"
      ]
     },
     "execution_count": 13,
     "metadata": {},
     "output_type": "execute_result"
    }
   ],
   "source": [
    "env.trader.price_impact_model"
   ]
  },
  {
   "cell_type": "code",
   "execution_count": 14,
   "id": "ad582779",
   "metadata": {},
   "outputs": [
    {
     "data": {
      "text/plain": [
       "0.001"
      ]
     },
     "execution_count": 14,
     "metadata": {},
     "output_type": "execute_result"
    }
   ],
   "source": [
    "env.trader.price_impact_model.temporary_impact_coefficient"
   ]
  },
  {
   "cell_type": "code",
   "execution_count": 15,
   "id": "5dfe5ad3",
   "metadata": {},
   "outputs": [
    {
     "data": {
      "text/plain": [
       "(array([[ 0.00000000e+00,  4.00000000e+00,  1.00000000e-02,\n",
       "          1.00000119e+02,  0.00000000e+00],\n",
       "        [-1.00001000e+00,  1.00000000e-02,  1.00000000e-02,\n",
       "          9.99998929e+01,  1.00000000e-05],\n",
       "        [ 9.99900000e+00,  2.90000000e+00,  1.00000000e-02,\n",
       "          9.99999712e+01, -1.00000000e-04]]),\n",
       " array([-7.96824546e-02, -1.16712792e-05, -4.26334953e-02]),\n",
       " array([False, False, False]),\n",
       " [{}, {}, {}])"
      ]
     },
     "execution_count": 15,
     "metadata": {},
     "output_type": "execute_result"
    }
   ],
   "source": [
    "action = np.array([[0.0], \n",
    "                    [1.0], \n",
    "                     [-10]])\n",
    "env.step(action = action)"
   ]
  },
  {
   "cell_type": "code",
   "execution_count": null,
   "id": "953f2412",
   "metadata": {},
   "outputs": [],
   "source": [
    "    "
   ]
  },
  {
   "cell_type": "code",
   "execution_count": null,
   "id": "bdd36790",
   "metadata": {},
   "outputs": [],
   "source": []
  },
  {
   "cell_type": "code",
   "execution_count": null,
   "id": "7e8c5c7a",
   "metadata": {},
   "outputs": [],
   "source": []
  }
 ],
 "metadata": {
  "kernelspec": {
   "display_name": "Python 3 (ipykernel)",
   "language": "python",
   "name": "python3"
  },
  "language_info": {
   "codemirror_mode": {
    "name": "ipython",
    "version": 3
   },
   "file_extension": ".py",
   "mimetype": "text/x-python",
   "name": "python",
   "nbconvert_exporter": "python",
   "pygments_lexer": "ipython3",
   "version": "3.9.7"
  }
 },
 "nbformat": 4,
 "nbformat_minor": 5
}
