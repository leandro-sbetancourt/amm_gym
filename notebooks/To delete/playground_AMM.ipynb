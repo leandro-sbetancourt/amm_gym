{
 "cells": [
  {
   "cell_type": "code",
   "execution_count": 1,
   "id": "1e4d4ef2",
   "metadata": {},
   "outputs": [],
   "source": [
    "import gym\n",
    "import matplotlib.pyplot as plt\n",
    "import numpy as np"
   ]
  },
  {
   "cell_type": "code",
   "execution_count": null,
   "id": "c931ed5b",
   "metadata": {},
   "outputs": [],
   "source": []
  },
  {
   "cell_type": "code",
   "execution_count": 2,
   "id": "6614eb33",
   "metadata": {},
   "outputs": [],
   "source": [
    "import sys\n",
    "sys.path.append(\"../\")"
   ]
  },
  {
   "cell_type": "code",
   "execution_count": 3,
   "id": "404ae300",
   "metadata": {},
   "outputs": [],
   "source": [
    "%load_ext autoreload\n",
    "%autoreload 2"
   ]
  },
  {
   "cell_type": "code",
   "execution_count": 4,
   "id": "f4880cb8",
   "metadata": {},
   "outputs": [],
   "source": [
    "from mbt_gym.gym.TradingEnvironment import TradingEnvironment\n",
    "from mbt_gym.gym.Traders import AmmTrader"
   ]
  },
  {
   "cell_type": "code",
   "execution_count": 5,
   "id": "8793dd2c",
   "metadata": {},
   "outputs": [],
   "source": [
    "from mbt_gym.agents.BaselineAgents import CarteaJaimungalMmAgent\n",
    "from mbt_gym.gym.helpers.generate_trajectory import generate_trajectory\n",
    "from mbt_gym.gym.StableBaselinesTradingEnvironment import StableBaselinesTradingEnvironment\n",
    "from mbt_gym.gym.wrappers import *\n",
    "from mbt_gym.rewards.RewardFunctions import CjCriterion, CjMmCriterion\n",
    "from mbt_gym.stochastic_processes.midprice_models import *\n",
    "from mbt_gym.stochastic_processes.fill_probability_models import *\n",
    "from mbt_gym.stochastic_processes.arrival_models import *"
   ]
  },
  {
   "cell_type": "code",
   "execution_count": 6,
   "id": "abb54504",
   "metadata": {},
   "outputs": [],
   "source": [
    "terminal_time = 1.0\n",
    "arrival_rate = 10.0\n",
    "n_steps = int(10 * terminal_time * arrival_rate)\n",
    "phi = 0.5\n",
    "alpha = 0.001\n",
    "\n",
    "num_trajectories = 3"
   ]
  },
  {
   "cell_type": "code",
   "execution_count": 7,
   "id": "47eff14a",
   "metadata": {},
   "outputs": [],
   "source": [
    "def get_amm_env_Poisson(num_trajectories:int = 1):    \n",
    "    fill_exponent = 1\n",
    "    sigma = 0.001\n",
    "    initial_inventory = 1_000\n",
    "    initial_price = 100\n",
    "    unit_size = 1.0\n",
    "    max_depth = 5*1/fill_exponent\n",
    "    step_size = terminal_time/n_steps\n",
    "    midprice_model = AmmSelfContainedMidpriceModel(jump_size_L=1.0, \n",
    "                                                   unit_size = unit_size,\n",
    "                                                   terminal_time=terminal_time, \n",
    "                                                       step_size=step_size, \n",
    "                                                       initial_price=initial_price, \n",
    "                                                       num_trajectories=num_trajectories)\n",
    "    arrival_model = PoissonArrivalModel(intensity=np.array([arrival_rate, arrival_rate]), step_size=step_size)\n",
    "    fill_probability_model = ExponentialFillFunction(fill_exponent=fill_exponent, \n",
    "                                                                       step_size=step_size, \n",
    "                                                                       num_trajectories=num_trajectories)\n",
    "    AMMtrader = AmmTrader(midprice_model = midprice_model, arrival_model = arrival_model, \n",
    "                                fill_probability_model = fill_probability_model,\n",
    "                                num_trajectories = num_trajectories, max_depth = max_depth, unit_size = unit_size)\n",
    "    \n",
    "    env_params = dict(terminal_time=terminal_time, \n",
    "                      n_steps=n_steps,\n",
    "                      initial_inventory = initial_inventory,\n",
    "                      midprice_model = midprice_model,\n",
    "                      arrival_model = arrival_model,\n",
    "                      fill_probability_model = fill_probability_model,\n",
    "                      trader = AMMtrader,\n",
    "                      reward_function = CjMmCriterion(phi, alpha),\n",
    "                      normalise_action_space = False,\n",
    "                      normalise_observation_space = False,\n",
    "                      num_trajectories=num_trajectories)\n",
    "    return TradingEnvironment(**env_params)"
   ]
  },
  {
   "cell_type": "code",
   "execution_count": 8,
   "id": "edf37972",
   "metadata": {},
   "outputs": [],
   "source": [
    "env = get_amm_env_Poisson(num_trajectories=num_trajectories)"
   ]
  },
  {
   "cell_type": "code",
   "execution_count": 9,
   "id": "a00f8a77",
   "metadata": {},
   "outputs": [
    {
     "data": {
      "text/plain": [
       "<mbt_gym.stochastic_processes.midprice_models.AmmSelfContainedMidpriceModel at 0x7fccdbfc5eb0>"
      ]
     },
     "execution_count": 9,
     "metadata": {},
     "output_type": "execute_result"
    }
   ],
   "source": [
    "env.trader.midprice_model"
   ]
  },
  {
   "cell_type": "code",
   "execution_count": 10,
   "id": "47a0057d",
   "metadata": {
    "scrolled": true
   },
   "outputs": [
    {
     "data": {
      "text/plain": [
       "array([[   0., 1000.,    0.,  100.],\n",
       "       [   0., 1000.,    0.,  100.],\n",
       "       [   0., 1000.,    0.,  100.]])"
      ]
     },
     "execution_count": 10,
     "metadata": {},
     "output_type": "execute_result"
    }
   ],
   "source": [
    "env.reset()"
   ]
  },
  {
   "cell_type": "markdown",
   "id": "9152fae5",
   "metadata": {},
   "source": [
    "CASH_INDEX = 0\n",
    "INVENTORY_INDEX = 1\n",
    "TIME_INDEX = 2\n",
    "ASSET_PRICE_INDEX = 3"
   ]
  },
  {
   "cell_type": "code",
   "execution_count": 11,
   "id": "64062d73",
   "metadata": {},
   "outputs": [
    {
     "data": {
      "text/plain": [
       "array([[   0., 1000.,    0.,  100.],\n",
       "       [   0., 1000.,    0.,  100.],\n",
       "       [   0., 1000.,    0.,  100.]])"
      ]
     },
     "execution_count": 11,
     "metadata": {},
     "output_type": "execute_result"
    }
   ],
   "source": [
    "env.state"
   ]
  },
  {
   "cell_type": "code",
   "execution_count": 12,
   "id": "51db2f3c",
   "metadata": {},
   "outputs": [
    {
     "data": {
      "text/plain": [
       "array([10., 10.])"
      ]
     },
     "execution_count": 12,
     "metadata": {},
     "output_type": "execute_result"
    }
   ],
   "source": [
    "env.arrival_model.intensity"
   ]
  },
  {
   "cell_type": "code",
   "execution_count": 13,
   "id": "bc71a4f6",
   "metadata": {},
   "outputs": [
    {
     "data": {
      "text/plain": [
       "array([[False, False],\n",
       "       [False, False],\n",
       "       [False, False]])"
      ]
     },
     "execution_count": 13,
     "metadata": {},
     "output_type": "execute_result"
    }
   ],
   "source": [
    "env.arrival_model.get_arrivals()"
   ]
  },
  {
   "cell_type": "code",
   "execution_count": 49,
   "id": "5dfe5ad3",
   "metadata": {},
   "outputs": [
    {
     "data": {
      "text/plain": [
       "(array([[ 1.19699900e+00,  1.00000000e+03,  3.60000000e-01,\n",
       "          1.00000003e+02],\n",
       "        [-4.98192018e+02,  1.00500000e+03,  3.60000000e-01,\n",
       "          9.99950169e+01],\n",
       "        [ 2.01198999e+02,  9.98000000e+02,  3.60000000e-01,\n",
       "          1.00002005e+02]]),\n",
       " array([-5012.799, -5060.125, -4990.02 ]),\n",
       " array([False, False, False]),\n",
       " [{}, {}, {}])"
      ]
     },
     "execution_count": 49,
     "metadata": {},
     "output_type": "execute_result"
    }
   ],
   "source": [
    "action = np.array([[0.2,0.2], \n",
    "                    [0.2,0.2], \n",
    "                     [0.2,0.2]])\n",
    "env.step(action = action)"
   ]
  },
  {
   "cell_type": "code",
   "execution_count": null,
   "id": "953f2412",
   "metadata": {},
   "outputs": [],
   "source": [
    "    "
   ]
  },
  {
   "cell_type": "code",
   "execution_count": null,
   "id": "bdd36790",
   "metadata": {},
   "outputs": [],
   "source": []
  },
  {
   "cell_type": "code",
   "execution_count": null,
   "id": "7e8c5c7a",
   "metadata": {},
   "outputs": [],
   "source": []
  }
 ],
 "metadata": {
  "kernelspec": {
   "display_name": "Python 3 (ipykernel)",
   "language": "python",
   "name": "python3"
  },
  "language_info": {
   "codemirror_mode": {
    "name": "ipython",
    "version": 3
   },
   "file_extension": ".py",
   "mimetype": "text/x-python",
   "name": "python",
   "nbconvert_exporter": "python",
   "pygments_lexer": "ipython3",
   "version": "3.9.12"
  }
 },
 "nbformat": 4,
 "nbformat_minor": 5
}
