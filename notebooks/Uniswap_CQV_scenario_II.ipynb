{
 "cells": [
  {
   "cell_type": "code",
   "execution_count": 1,
   "id": "eb2d1939",
   "metadata": {},
   "outputs": [],
   "source": [
    "from nb_utils import rescale_plot, mtick, md, run_simulation,\\\n",
    "                     getSimulationData, get_pool_agent, get_arb_env,\\\n",
    "                     get_LT_LP_Binance_data, pd, plt, np, ASSET_PRICE_INDEX,\\\n",
    "                     datetime, get_binance_month_data, plot_impact_curves,\\\n",
    "                     runOneSimulation, getOneSimulationData, plot_one_sim_result"
   ]
  },
  {
   "cell_type": "code",
   "execution_count": 2,
   "id": "f50e2996",
   "metadata": {},
   "outputs": [],
   "source": [
    "%load_ext autoreload\n",
    "%autoreload 2"
   ]
  },
  {
   "cell_type": "code",
   "execution_count": 3,
   "id": "f0c12396",
   "metadata": {},
   "outputs": [
    {
     "data": {
      "text/html": [
       "<style>.container { width:100% !important; }</style>"
      ],
      "text/plain": [
       "<IPython.core.display.HTML object>"
      ]
     },
     "metadata": {},
     "output_type": "display_data"
    }
   ],
   "source": [
    "from   IPython.display import display, HTML\n",
    "display(HTML(\"<style>.container { width:100% !important; }</style>\"))"
   ]
  },
  {
   "cell_type": "markdown",
   "id": "3657acd9-08d8-43fb-9461-591ee1c6729f",
   "metadata": {},
   "source": [
    "# Load data"
   ]
  },
  {
   "cell_type": "code",
   "execution_count": 4,
   "id": "f9524618-e0b8-45f7-a096-c1f43532f1a2",
   "metadata": {},
   "outputs": [],
   "source": [
    "LPdata      = pd.read_pickle(\"data/LPdata.pkl\")\n",
    "LTdata      = pd.read_pickle(\"data/LTdata.pkl\")\n",
    "BinanceData = pd.read_pickle(\"data/BinanceData.pkl\")"
   ]
  },
  {
   "cell_type": "markdown",
   "id": "872cd633-8aa9-47ca-a110-f4365f811e23",
   "metadata": {},
   "source": [
    "# Wealth distribution:\n",
    "### CQV / Uniswap : 100% arbitrageurs"
   ]
  },
  {
   "cell_type": "code",
   "execution_count": 5,
   "id": "09f3c52d-6aad-40a5-b6ba-f55bcf2063f8",
   "metadata": {},
   "outputs": [],
   "source": [
    "def eta_func_bid(y, Delta, L):\n",
    "    if 0.5 *y-Delta==0: return -L\n",
    "    if 0.5 *y-Delta>0: return L * Delta  / (0.5 * y - Delta)\n",
    "    if 0.5 *y-Delta<0: return -L * Delta / (0.5 * y - Delta)\n",
    "\n",
    "def eta_func_ask(y, Delta, L):\n",
    "    if 0.5 * y + Delta==0: return -L\n",
    "    if 0.5 * y + Delta>0: return L * Delta  / (0.5 * y + Delta)\n",
    "    if 0.5 * y + Delta<0: return -L * Delta / (0.5 * y + Delta)"
   ]
  },
  {
   "cell_type": "code",
   "execution_count": 6,
   "id": "00eb9305-c268-48d0-a3c8-61b2915f4de5",
   "metadata": {},
   "outputs": [],
   "source": [
    "############################\n",
    "# LP strategy parameters\n",
    "############################\n",
    "jump_size_L            = 0.3\n",
    "phi                    = 1e-2\n",
    "alpha                  = 1e-4\n",
    "fill_exponent          = 0.1\n",
    "initial_inventory_pool = 0\n",
    "\n",
    "############################\n",
    "# Pool liquidity parameters\n",
    "############################\n",
    "target_inventory       = initial_inventory_pool\n",
    "min_inventory_pool     = initial_inventory_pool - 500.\n",
    "max_inventory_pool     = initial_inventory_pool + 500.\n",
    "\n",
    "############################\n",
    "# Others\n",
    "############################\n",
    "max_depth              = 0\n",
    "seed                   = 200\n",
    "num_trajectories       = 1\n",
    "verbose                = False\n",
    "\n",
    "dict_results           = {}\n",
    "np.random.seed(seed)"
   ]
  },
  {
   "cell_type": "code",
   "execution_count": 9,
   "id": "f60fa804-5f33-4ba7-920b-28e90de3dc57",
   "metadata": {},
   "outputs": [
    {
     "name": "stderr",
     "output_type": "stream",
     "text": [
      "/var/folders/h3/cyxpytps41d3jmsv99t0x7ww0000gn/T/ipykernel_6488/2421357592.py:22: RuntimeWarning: invalid value encountered in double_scalars\n",
      "  pnls = [dict_results[k].LPWealth.iloc[-1] / (dict_results[k].pool_inv_y.abs().mean() * dict_results[k].Z.iloc[0]) for k in dict_results.keys()]\n",
      "/var/folders/h3/cyxpytps41d3jmsv99t0x7ww0000gn/T/ipykernel_6488/2421357592.py:22: RuntimeWarning: divide by zero encountered in double_scalars\n",
      "  pnls = [dict_results[k].LPWealth.iloc[-1] / (dict_results[k].pool_inv_y.abs().mean() * dict_results[k].Z.iloc[0]) for k in dict_results.keys()]\n"
     ]
    },
    {
     "name": "stdout",
     "output_type": "stream",
     "text": [
      "Number of points :  4692\n",
      "Last pnl :  0.3098877778596798\n",
      "Pnls: 0.8492392057338282  /  2.0646787408929583\n",
      "\n",
      "\n",
      "Trading from  2021-09-01 06:30:00  to  2021-09-01 07:00:00\n",
      "Average frequency          : 0 days 00:00:21.313253012\n",
      "Average trading size       : 1\n",
      "Initial inventory          : 0\n",
      "Permanent impact param (L) : 0.3\n",
      "Fill exponent              : 0.1\n",
      "Price increment            : 0.3\n",
      "Arrival rate               : 562.3972369924581\n",
      "pool agent: <mbt_gym.agents.BaselineAgents.PoolInterpGEtaMmAgent object at 0x7fd3d06e2f70>\n"
     ]
    },
    {
     "ename": "KeyboardInterrupt",
     "evalue": "",
     "output_type": "error",
     "traceback": [
      "\u001b[0;31m---------------------------------------------------------------------------\u001b[0m",
      "\u001b[0;31mKeyboardInterrupt\u001b[0m                         Traceback (most recent call last)",
      "Input \u001b[0;32mIn [9]\u001b[0m, in \u001b[0;36m<cell line: 6>\u001b[0;34m()\u001b[0m\n\u001b[1;32m     76\u001b[0m \u001b[38;5;66;03m############################################\u001b[39;00m\n\u001b[1;32m     77\u001b[0m \u001b[38;5;66;03m# Run and store simulation result\u001b[39;00m\n\u001b[1;32m     78\u001b[0m \u001b[38;5;66;03m############################################\u001b[39;00m\n\u001b[1;32m     79\u001b[0m \u001b[38;5;28;01mtry\u001b[39;00m:\n\u001b[1;32m     80\u001b[0m     pool_earnings_history, arb_earnings_history, historical_pool_prices, historical_oracle_prices,\\\n\u001b[1;32m     81\u001b[0m     historical_ba, historical_pool_inventory, historical_pool_cash, historical_pool_value_adjustments\\\n\u001b[0;32m---> 82\u001b[0m             \u001b[38;5;241m=\u001b[39m \u001b[43mrunOneSimulation\u001b[49m\u001b[43m(\u001b[49m\u001b[43mpool_agent\u001b[49m\u001b[43m,\u001b[49m\u001b[43m \u001b[49m\u001b[43mbothPrices\u001b[49m\u001b[43m,\u001b[49m\u001b[43m \u001b[49m\u001b[43munit_size\u001b[49m\u001b[43m,\u001b[49m\u001b[43m \u001b[49m\n\u001b[1;32m     83\u001b[0m \u001b[43m                       \u001b[49m\u001b[43mmin_inventory_pool\u001b[49m\u001b[43m,\u001b[49m\u001b[43m \u001b[49m\u001b[43mmax_inventory_pool\u001b[49m\u001b[43m,\u001b[49m\u001b[43m \u001b[49m\u001b[43mtarget_inventory\u001b[49m\u001b[43m,\u001b[49m\n\u001b[1;32m     84\u001b[0m \u001b[43m                       \u001b[49m\u001b[43meta_func_bid\u001b[49m\u001b[43m,\u001b[49m\u001b[43m \u001b[49m\u001b[43meta_func_ask\u001b[49m\u001b[43m,\u001b[49m\u001b[43m \u001b[49m\u001b[43mjump_size_L\u001b[49m\u001b[43m,\u001b[49m\u001b[43m \u001b[49m\u001b[38;5;241;43m2\u001b[39;49m\u001b[43m)\u001b[49m\n\u001b[1;32m     86\u001b[0m     \u001b[38;5;28mprint\u001b[39m(\u001b[38;5;124m'\u001b[39m\u001b[38;5;124mgetting data\u001b[39m\u001b[38;5;124m'\u001b[39m)\n\u001b[1;32m     87\u001b[0m     initial_pool_value \u001b[38;5;241m=\u001b[39m \u001b[38;5;241m0\u001b[39m\n",
      "File \u001b[0;32m~/Library/CloudStorage/OneDrive-Personal/Documents/Scholar/PhD/Main/AMM/CQV/ammgymnew/notebooks/nb_utils.py:346\u001b[0m, in \u001b[0;36mrunOneSimulation\u001b[0;34m(pool_agent, bothPrices, unit_size, min_inventory_pool, max_inventory_pool, target_inventory, eta_func_bid, eta_func_ask, jump_size_L, add_noise)\u001b[0m\n\u001b[1;32m    343\u001b[0m indicator_sell \u001b[38;5;241m=\u001b[39m (current_inventory \u001b[38;5;241m-\u001b[39m unit_size \u001b[38;5;241m>\u001b[39m min_inventory_pool)\n\u001b[1;32m    345\u001b[0m \u001b[38;5;66;03m# get current information\u001b[39;00m\n\u001b[0;32m--> 346\u001b[0m price_S \u001b[38;5;241m=\u001b[39m \u001b[43mbothPrices\u001b[49m\u001b[38;5;241;43m.\u001b[39;49m\u001b[43miloc\u001b[49m\u001b[43m[\u001b[49m\u001b[43mi_time\u001b[49m\u001b[43m]\u001b[49m\u001b[38;5;241m.\u001b[39mBinance \u001b[38;5;66;03m# binance\u001b[39;00m\n\u001b[1;32m    348\u001b[0m \u001b[38;5;66;03m# if one hits max or min inventory, stop / recalibrate parameters\u001b[39;00m\n\u001b[1;32m    349\u001b[0m \u001b[38;5;28;01mif\u001b[39;00m ((\u001b[38;5;129;01mnot\u001b[39;00m indicator_buy) \u001b[38;5;129;01mor\u001b[39;00m (\u001b[38;5;129;01mnot\u001b[39;00m indicator_sell)):\n\u001b[1;32m    350\u001b[0m \n\u001b[1;32m    351\u001b[0m     \u001b[38;5;66;03m# here the LP liquidates her inventory and keeps the cash as additional pnl\u001b[39;00m\n",
      "File \u001b[0;32m~/opt/anaconda3/lib/python3.9/site-packages/pandas/core/indexing.py:967\u001b[0m, in \u001b[0;36m_LocationIndexer.__getitem__\u001b[0;34m(self, key)\u001b[0m\n\u001b[1;32m    964\u001b[0m axis \u001b[38;5;241m=\u001b[39m \u001b[38;5;28mself\u001b[39m\u001b[38;5;241m.\u001b[39maxis \u001b[38;5;129;01mor\u001b[39;00m \u001b[38;5;241m0\u001b[39m\n\u001b[1;32m    966\u001b[0m maybe_callable \u001b[38;5;241m=\u001b[39m com\u001b[38;5;241m.\u001b[39mapply_if_callable(key, \u001b[38;5;28mself\u001b[39m\u001b[38;5;241m.\u001b[39mobj)\n\u001b[0;32m--> 967\u001b[0m \u001b[38;5;28;01mreturn\u001b[39;00m \u001b[38;5;28;43mself\u001b[39;49m\u001b[38;5;241;43m.\u001b[39;49m\u001b[43m_getitem_axis\u001b[49m\u001b[43m(\u001b[49m\u001b[43mmaybe_callable\u001b[49m\u001b[43m,\u001b[49m\u001b[43m \u001b[49m\u001b[43maxis\u001b[49m\u001b[38;5;241;43m=\u001b[39;49m\u001b[43maxis\u001b[49m\u001b[43m)\u001b[49m\n",
      "File \u001b[0;32m~/opt/anaconda3/lib/python3.9/site-packages/pandas/core/indexing.py:1522\u001b[0m, in \u001b[0;36m_iLocIndexer._getitem_axis\u001b[0;34m(self, key, axis)\u001b[0m\n\u001b[1;32m   1519\u001b[0m \u001b[38;5;66;03m# validate the location\u001b[39;00m\n\u001b[1;32m   1520\u001b[0m \u001b[38;5;28mself\u001b[39m\u001b[38;5;241m.\u001b[39m_validate_integer(key, axis)\n\u001b[0;32m-> 1522\u001b[0m \u001b[38;5;28;01mreturn\u001b[39;00m \u001b[38;5;28;43mself\u001b[39;49m\u001b[38;5;241;43m.\u001b[39;49m\u001b[43mobj\u001b[49m\u001b[38;5;241;43m.\u001b[39;49m\u001b[43m_ixs\u001b[49m\u001b[43m(\u001b[49m\u001b[43mkey\u001b[49m\u001b[43m,\u001b[49m\u001b[43m \u001b[49m\u001b[43maxis\u001b[49m\u001b[38;5;241;43m=\u001b[39;49m\u001b[43maxis\u001b[49m\u001b[43m)\u001b[49m\n",
      "File \u001b[0;32m~/opt/anaconda3/lib/python3.9/site-packages/pandas/core/frame.py:3428\u001b[0m, in \u001b[0;36mDataFrame._ixs\u001b[0;34m(self, i, axis)\u001b[0m\n\u001b[1;32m   3426\u001b[0m \u001b[38;5;66;03m# if we are a copy, mark as such\u001b[39;00m\n\u001b[1;32m   3427\u001b[0m copy \u001b[38;5;241m=\u001b[39m \u001b[38;5;28misinstance\u001b[39m(new_values, np\u001b[38;5;241m.\u001b[39mndarray) \u001b[38;5;129;01mand\u001b[39;00m new_values\u001b[38;5;241m.\u001b[39mbase \u001b[38;5;129;01mis\u001b[39;00m \u001b[38;5;28;01mNone\u001b[39;00m\n\u001b[0;32m-> 3428\u001b[0m result \u001b[38;5;241m=\u001b[39m \u001b[38;5;28;43mself\u001b[39;49m\u001b[38;5;241;43m.\u001b[39;49m\u001b[43m_constructor_sliced\u001b[49m\u001b[43m(\u001b[49m\n\u001b[1;32m   3429\u001b[0m \u001b[43m    \u001b[49m\u001b[43mnew_values\u001b[49m\u001b[43m,\u001b[49m\n\u001b[1;32m   3430\u001b[0m \u001b[43m    \u001b[49m\u001b[43mindex\u001b[49m\u001b[38;5;241;43m=\u001b[39;49m\u001b[38;5;28;43mself\u001b[39;49m\u001b[38;5;241;43m.\u001b[39;49m\u001b[43mcolumns\u001b[49m\u001b[43m,\u001b[49m\n\u001b[1;32m   3431\u001b[0m \u001b[43m    \u001b[49m\u001b[43mname\u001b[49m\u001b[38;5;241;43m=\u001b[39;49m\u001b[38;5;28;43mself\u001b[39;49m\u001b[38;5;241;43m.\u001b[39;49m\u001b[43mindex\u001b[49m\u001b[43m[\u001b[49m\u001b[43mi\u001b[49m\u001b[43m]\u001b[49m\u001b[43m,\u001b[49m\n\u001b[1;32m   3432\u001b[0m \u001b[43m    \u001b[49m\u001b[43mdtype\u001b[49m\u001b[38;5;241;43m=\u001b[39;49m\u001b[43mnew_values\u001b[49m\u001b[38;5;241;43m.\u001b[39;49m\u001b[43mdtype\u001b[49m\u001b[43m,\u001b[49m\n\u001b[1;32m   3433\u001b[0m \u001b[43m\u001b[49m\u001b[43m)\u001b[49m\n\u001b[1;32m   3434\u001b[0m result\u001b[38;5;241m.\u001b[39m_set_is_copy(\u001b[38;5;28mself\u001b[39m, copy\u001b[38;5;241m=\u001b[39mcopy)\n\u001b[1;32m   3435\u001b[0m \u001b[38;5;28;01mreturn\u001b[39;00m result\n",
      "File \u001b[0;32m~/opt/anaconda3/lib/python3.9/site-packages/pandas/core/series.py:451\u001b[0m, in \u001b[0;36mSeries.__init__\u001b[0;34m(self, data, index, dtype, name, copy, fastpath)\u001b[0m\n\u001b[1;32m    449\u001b[0m         data \u001b[38;5;241m=\u001b[39m data\u001b[38;5;241m.\u001b[39mcopy()\n\u001b[1;32m    450\u001b[0m \u001b[38;5;28;01melse\u001b[39;00m:\n\u001b[0;32m--> 451\u001b[0m     data \u001b[38;5;241m=\u001b[39m \u001b[43msanitize_array\u001b[49m\u001b[43m(\u001b[49m\u001b[43mdata\u001b[49m\u001b[43m,\u001b[49m\u001b[43m \u001b[49m\u001b[43mindex\u001b[49m\u001b[43m,\u001b[49m\u001b[43m \u001b[49m\u001b[43mdtype\u001b[49m\u001b[43m,\u001b[49m\u001b[43m \u001b[49m\u001b[43mcopy\u001b[49m\u001b[43m)\u001b[49m\n\u001b[1;32m    453\u001b[0m     manager \u001b[38;5;241m=\u001b[39m get_option(\u001b[38;5;124m\"\u001b[39m\u001b[38;5;124mmode.data_manager\u001b[39m\u001b[38;5;124m\"\u001b[39m)\n\u001b[1;32m    454\u001b[0m     \u001b[38;5;28;01mif\u001b[39;00m manager \u001b[38;5;241m==\u001b[39m \u001b[38;5;124m\"\u001b[39m\u001b[38;5;124mblock\u001b[39m\u001b[38;5;124m\"\u001b[39m:\n",
      "File \u001b[0;32m~/opt/anaconda3/lib/python3.9/site-packages/pandas/core/construction.py:470\u001b[0m, in \u001b[0;36msanitize_array\u001b[0;34m(data, index, dtype, copy, raise_cast_failure, allow_2d)\u001b[0m\n\u001b[1;32m    466\u001b[0m         data \u001b[38;5;241m=\u001b[39m data\u001b[38;5;241m.\u001b[39mcopy()\n\u001b[1;32m    467\u001b[0m     \u001b[38;5;28;01mreturn\u001b[39;00m data\n\u001b[0;32m--> 470\u001b[0m \u001b[38;5;28;01mdef\u001b[39;00m \u001b[38;5;21msanitize_array\u001b[39m(\n\u001b[1;32m    471\u001b[0m     data,\n\u001b[1;32m    472\u001b[0m     index: Index \u001b[38;5;241m|\u001b[39m \u001b[38;5;28;01mNone\u001b[39;00m,\n\u001b[1;32m    473\u001b[0m     dtype: DtypeObj \u001b[38;5;241m|\u001b[39m \u001b[38;5;28;01mNone\u001b[39;00m \u001b[38;5;241m=\u001b[39m \u001b[38;5;28;01mNone\u001b[39;00m,\n\u001b[1;32m    474\u001b[0m     copy: \u001b[38;5;28mbool\u001b[39m \u001b[38;5;241m=\u001b[39m \u001b[38;5;28;01mFalse\u001b[39;00m,\n\u001b[1;32m    475\u001b[0m     raise_cast_failure: \u001b[38;5;28mbool\u001b[39m \u001b[38;5;241m=\u001b[39m \u001b[38;5;28;01mTrue\u001b[39;00m,\n\u001b[1;32m    476\u001b[0m     \u001b[38;5;241m*\u001b[39m,\n\u001b[1;32m    477\u001b[0m     allow_2d: \u001b[38;5;28mbool\u001b[39m \u001b[38;5;241m=\u001b[39m \u001b[38;5;28;01mFalse\u001b[39;00m,\n\u001b[1;32m    478\u001b[0m ) \u001b[38;5;241m-\u001b[39m\u001b[38;5;241m>\u001b[39m ArrayLike:\n\u001b[1;32m    479\u001b[0m     \u001b[38;5;124;03m\"\"\"\u001b[39;00m\n\u001b[1;32m    480\u001b[0m \u001b[38;5;124;03m    Sanitize input data to an ndarray or ExtensionArray, copy if specified,\u001b[39;00m\n\u001b[1;32m    481\u001b[0m \u001b[38;5;124;03m    coerce to the dtype if specified.\u001b[39;00m\n\u001b[0;32m   (...)\u001b[0m\n\u001b[1;32m    501\u001b[0m \u001b[38;5;124;03m    applying to a subset of columns, see GH#24435.\u001b[39;00m\n\u001b[1;32m    502\u001b[0m \u001b[38;5;124;03m    \"\"\"\u001b[39;00m\n\u001b[1;32m    503\u001b[0m     \u001b[38;5;28;01mif\u001b[39;00m \u001b[38;5;28misinstance\u001b[39m(data, ma\u001b[38;5;241m.\u001b[39mMaskedArray):\n",
      "\u001b[0;31mKeyboardInterrupt\u001b[0m: "
     ]
    }
   ],
   "source": [
    "from IPython.display import clear_output\n",
    "\n",
    "allData_    = None\n",
    "trade_dates = list(BinanceData.resample('d').last().dropna().index)\n",
    "\n",
    "for td in trade_dates[20:]:\n",
    "    from_dt_is = td - datetime.timedelta(minutes = 60)\n",
    "    from_dt    = td\n",
    "    to_dt      = td + datetime.timedelta(minutes = 30)\n",
    "    end_of_day = False\n",
    "    \n",
    "    while not end_of_day:\n",
    "        trade_date       = str(td).split(' ')[0]\n",
    "        from_datetime    = str(from_dt)\n",
    "        to_datetime      = str(to_dt)\n",
    "        from_dt_insample = str(from_dt_is)\n",
    "        \n",
    "        if to_datetime not in dict_results.keys():\n",
    "            clear_output(wait=True)\n",
    "            # Some verbose\n",
    "            if len(dict_results) > 0:\n",
    "                pnls = [dict_results[k].LPWealth.iloc[-1] / (dict_results[k].pool_inv_y.abs().mean() * dict_results[k].Z.iloc[0]) for k in dict_results.keys()]\n",
    "                print('Number of points : ', len(pnls))\n",
    "                print('Last pnl : ', pnls[-1])\n",
    "                print('Pnls:', np.mean(np.array(pnls)[np.isfinite(np.array(pnls))]), ' / ', np.std(np.array(pnls)[np.isfinite(np.array(pnls))]))\n",
    "                print('\\n')\n",
    "\n",
    "            print('Trading from ', from_datetime, ' to ', to_datetime)\n",
    "\n",
    "            #try:\n",
    "            ############################################\n",
    "            # load data\n",
    "            ############################################\n",
    "            oneDayLTdata, oneDayLPdata, oneDaybinanceLTdata,\\\n",
    "            fill_exponents, pool_sizes, hist_prices,\\\n",
    "            initial_convexity, trade_sizes, bothPrices = get_LT_LP_Binance_data(LTdata, LPdata, BinanceData, trade_date, \n",
    "                                                                                from_datetime, to_datetime)\n",
    "            \n",
    "            # we need a minimum amount of data:\n",
    "            if initial_convexity is not None: # this is set in get_LT_LP_Binance_data\n",
    "                bothPrices.columns = ['Binance', 'Uniswap']\n",
    "                in_sample_data = BinanceData[ ((BinanceData.index<=from_datetime) &\n",
    "                                                (BinanceData.index>from_dt_insample))]\n",
    "\n",
    "                ############################################\n",
    "                # estimate in-sample parameters\n",
    "                ############################################\n",
    "                initial_price          = hist_prices[0]\n",
    "                n_steps                = len(oneDayLTdata)\n",
    "                arrival_rate           = trade_sizes.mean() / (in_sample_data.reset_index().time.diff(1).mean().seconds/60 + in_sample_data.reset_index().time.diff(1).mean().microseconds /1000000/60)\n",
    "                unit_size              = 1 #oneDaybinanceLTdata.qty.mean() #10 #(max_inventory_pool - min_inventory_pool) / 100 # matrix of size 1000\n",
    "                terminal_time          = (bothPrices.index[-1] - bothPrices.index[0]).total_seconds()/60/60/24\n",
    "                \n",
    "                # if arrival rate is too large\n",
    "                if arrival_rate > 1000: arrival_rate = 1000\n",
    "                \n",
    "                print('Average frequency          :',  oneDayLTdata.reset_index().timestamp.diff(1).mean())\n",
    "                print('Average trading size       :',  unit_size)\n",
    "                print('Initial inventory          :',  initial_inventory_pool)\n",
    "                print('Permanent impact param (L) :',  jump_size_L)\n",
    "                print('Fill exponent              :',  fill_exponent)\n",
    "                print('Price increment            :',  jump_size_L)\n",
    "                print('Arrival rate               :',  arrival_rate)\n",
    "                \n",
    "                try:\n",
    "                    pool_agent = get_pool_agent(arrival_rate, phi, alpha, fill_exponent, \n",
    "                                                initial_inventory_pool, target_inventory, \n",
    "                                                jump_size_L, unit_size, min_inventory_pool, max_inventory_pool,\n",
    "                                                initial_price, max_depth,\n",
    "                                                terminal_time, terminal_time/n_steps,\n",
    "                                                seed, n_steps, num_trajectories, \n",
    "                                                eta_func_bid, eta_func_ask,\n",
    "                                                verbose)\n",
    "                    print('pool agent:', pool_agent)\n",
    "\n",
    "                    ############################################\n",
    "                    # Run and store simulation result\n",
    "                    ############################################\n",
    "                    try:\n",
    "                        pool_earnings_history, arb_earnings_history, historical_pool_prices, historical_oracle_prices,\\\n",
    "                        historical_ba, historical_pool_inventory, historical_pool_cash, historical_pool_value_adjustments\\\n",
    "                                = runOneSimulation(pool_agent, bothPrices, unit_size, \n",
    "                                           min_inventory_pool, max_inventory_pool, target_inventory,\n",
    "                                           eta_func_bid, eta_func_ask, jump_size_L, 2)\n",
    "                        \n",
    "                        print('getting data')\n",
    "                        initial_pool_value = 0\n",
    "                        \n",
    "                        try:\n",
    "                            allData_, bid_history, ask_history = getOneSimulationData(initial_pool_value, initial_inventory_pool,\n",
    "                                                                                      historical_pool_prices,  historical_ba, \n",
    "                                                                                      historical_pool_inventory, pool_earnings_history, \n",
    "                                                                                      historical_oracle_prices, historical_pool_cash, \n",
    "                                                                                      historical_pool_value_adjustments)\n",
    "\n",
    "\n",
    "                            uniswapindex  = allData_.reset_index().dropna().index\n",
    "                            allData       = allData_.dropna()\n",
    "                            bid_history   = bid_history.loc[allData.index]\n",
    "                            ask_history   = ask_history.loc[allData.index]\n",
    "                            allData.index = bothPrices.iloc[uniswapindex].index\n",
    "\n",
    "                            dict_results[to_datetime] = allData\n",
    "                        except Exception as e:\n",
    "                            print('Error while getting data from simulation :', str(e))\n",
    "                    except Exception as e:\n",
    "                        print('Error while running simulation :', str(e))                    \n",
    "                except Exception as e:\n",
    "                    print('Error while creating pool agent :', str(e))\n",
    "                \n",
    "                \n",
    "                #except Exception as e:\n",
    "                #    print('ERROR : ', str(e))\n",
    "            else:\n",
    "                print('Not enough Uniswap data')\n",
    "        if to_datetime == f'{trade_date} 23:30': end_of_day = True\n",
    "        from_dt     += datetime.timedelta(minutes = 30)\n",
    "        to_dt       += datetime.timedelta(minutes = 30)\n",
    "        from_dt_is  += datetime.timedelta(minutes = 30)"
   ]
  },
  {
   "cell_type": "code",
   "execution_count": 8,
   "id": "54f70a2c",
   "metadata": {},
   "outputs": [
    {
     "name": "stdout",
     "output_type": "stream",
     "text": [
      "Number of points :  2627\n",
      "Last pnl :  nan\n",
      "Pnls: 0.9801876257734208  /  2.3049906614607614\n",
      "\n",
      "\n"
     ]
    }
   ],
   "source": [
    "print('Number of points : ', len(pnls))\n",
    "print('Last pnl : ', pnls[-1])\n",
    "print('Pnls:', np.mean(np.array(pnls)[np.isfinite(np.array(pnls))]), ' / ', np.std(np.array(pnls)[np.isfinite(np.array(pnls))]))\n",
    "print('\\n')"
   ]
  },
  {
   "cell_type": "code",
   "execution_count": null,
   "id": "a167f999",
   "metadata": {},
   "outputs": [],
   "source": []
  }
 ],
 "metadata": {
  "kernelspec": {
   "display_name": "Python 3 (ipykernel)",
   "language": "python",
   "name": "python3"
  },
  "language_info": {
   "codemirror_mode": {
    "name": "ipython",
    "version": 3
   },
   "file_extension": ".py",
   "mimetype": "text/x-python",
   "name": "python",
   "nbconvert_exporter": "python",
   "pygments_lexer": "ipython3",
   "version": "3.9.12"
  }
 },
 "nbformat": 4,
 "nbformat_minor": 5
}
