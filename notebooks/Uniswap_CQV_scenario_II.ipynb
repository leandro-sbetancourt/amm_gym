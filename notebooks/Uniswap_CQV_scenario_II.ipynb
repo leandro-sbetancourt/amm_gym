{
 "cells": [
  {
   "cell_type": "code",
   "execution_count": 1,
   "id": "eb2d1939",
   "metadata": {},
   "outputs": [],
   "source": [
    "from nb_utils import rescale_plot, mtick, md, run_simulation,\\\n",
    "                     getSimulationData, get_pool_agent, get_arb_env,\\\n",
    "                     get_LT_LP_Binance_data, pd, plt, np, ASSET_PRICE_INDEX,\\\n",
    "                     datetime, get_binance_month_data, plot_impact_curves,\\\n",
    "                     runOneSimulation, getOneSimulationData, plot_one_sim_result"
   ]
  },
  {
   "cell_type": "code",
   "execution_count": 2,
   "id": "f50e2996",
   "metadata": {},
   "outputs": [],
   "source": [
    "%load_ext autoreload\n",
    "%autoreload 2"
   ]
  },
  {
   "cell_type": "markdown",
   "id": "3657acd9-08d8-43fb-9461-591ee1c6729f",
   "metadata": {},
   "source": [
    "# Load data"
   ]
  },
  {
   "cell_type": "code",
   "execution_count": 3,
   "id": "f9524618-e0b8-45f7-a096-c1f43532f1a2",
   "metadata": {},
   "outputs": [],
   "source": [
    "LPdata      = pd.read_pickle(\"data/LPdata.pkl\")\n",
    "LTdata      = pd.read_pickle(\"data/LTdata.pkl\")\n",
    "BinanceData = pd.read_pickle(\"data/BinanceData.pkl\")"
   ]
  },
  {
   "cell_type": "markdown",
   "id": "872cd633-8aa9-47ca-a110-f4365f811e23",
   "metadata": {},
   "source": [
    "# Wealth distribution:\n",
    "### CQV / Uniswap : 100% arbitrageurs"
   ]
  },
  {
   "cell_type": "code",
   "execution_count": 4,
   "id": "09f3c52d-6aad-40a5-b6ba-f55bcf2063f8",
   "metadata": {},
   "outputs": [],
   "source": [
    "def eta_func_bid(y, Delta, L):\n",
    "    if y-Delta==0: return -L\n",
    "    if y-Delta>0: return L * Delta  / (y - Delta)\n",
    "    if y-Delta<0: return -L * Delta / (y - Delta)\n",
    "\n",
    "def eta_func_ask(y, Delta, L):\n",
    "    if y+Delta==0: return -L\n",
    "    if y+Delta>0: return L * Delta  / (y + Delta)\n",
    "    if y+Delta<0: return -L * Delta / (y + Delta)"
   ]
  },
  {
   "cell_type": "code",
   "execution_count": 7,
   "id": "00eb9305-c268-48d0-a3c8-61b2915f4de5",
   "metadata": {},
   "outputs": [],
   "source": [
    "############################\n",
    "# LP strategy parameters\n",
    "############################\n",
    "jump_size_L            = 0.2\n",
    "phi                    = 1e-2\n",
    "alpha                  = 1e-2\n",
    "fill_exponent          = 0.2\n",
    "initial_inventory_pool = 0\n",
    "\n",
    "############################\n",
    "# Pool liquidity parameters\n",
    "############################\n",
    "target_inventory       = initial_inventory_pool\n",
    "min_inventory_pool     = initial_inventory_pool - 500.\n",
    "max_inventory_pool     = initial_inventory_pool + 500.\n",
    "\n",
    "############################\n",
    "# Others\n",
    "############################\n",
    "max_depth              = 0\n",
    "seed                   = 200\n",
    "num_trajectories       = 1\n",
    "verbose                = False"
   ]
  },
  {
   "cell_type": "code",
   "execution_count": 8,
   "id": "f60fa804-5f33-4ba7-920b-28e90de3dc57",
   "metadata": {},
   "outputs": [
    {
     "name": "stdout",
     "output_type": "stream",
     "text": [
      "Number of points :  70\n",
      "Last pnl :  0.48446211023649693\n",
      "Pnls: 0.4021712485635507  /  0.36255444833454237\n",
      "\n",
      "\n",
      "Trading from  2021-05-22 16:00:00  to  2021-05-22 16:30:00\n",
      "Average frequency          : 0 days 00:05:10\n",
      "Average trading size       : 1\n",
      "Initial inventory          : 0\n",
      "Permanent impact param (L) : 0.2\n",
      "Fill exponent              : 0.2\n",
      "Price increment            : 0.2\n",
      "pool agent: <mbt_gym.agents.BaselineAgents.PoolInterpGEtaMmAgent object at 0x7fda9abc5b20>\n"
     ]
    },
    {
     "ename": "KeyboardInterrupt",
     "evalue": "",
     "output_type": "error",
     "traceback": [
      "\u001b[0;31m---------------------------------------------------------------------------\u001b[0m",
      "\u001b[0;31mKeyboardInterrupt\u001b[0m                         Traceback (most recent call last)",
      "Input \u001b[0;32mIn [8]\u001b[0m, in \u001b[0;36m<cell line: 8>\u001b[0;34m()\u001b[0m\n\u001b[1;32m     69\u001b[0m \u001b[38;5;28mprint\u001b[39m(\u001b[38;5;124m'\u001b[39m\u001b[38;5;124mpool agent:\u001b[39m\u001b[38;5;124m'\u001b[39m, pool_agent)\n\u001b[1;32m     71\u001b[0m \u001b[38;5;66;03m############################################\u001b[39;00m\n\u001b[1;32m     72\u001b[0m \u001b[38;5;66;03m# Run and store simulation result\u001b[39;00m\n\u001b[1;32m     73\u001b[0m \u001b[38;5;66;03m############################################\u001b[39;00m\n\u001b[1;32m     74\u001b[0m pool_earnings_history, arb_earnings_history, historical_pool_prices, historical_oracle_prices,\\\n\u001b[1;32m     75\u001b[0m historical_ba, historical_pool_inventory, historical_pool_cash, historical_pool_value_adjustments\\\n\u001b[0;32m---> 76\u001b[0m         \u001b[38;5;241m=\u001b[39m \u001b[43mrunOneSimulation\u001b[49m\u001b[43m(\u001b[49m\u001b[43mpool_agent\u001b[49m\u001b[43m,\u001b[49m\u001b[43m \u001b[49m\u001b[43mbothPrices\u001b[49m\u001b[43m,\u001b[49m\u001b[43m \u001b[49m\u001b[43munit_size\u001b[49m\u001b[43m,\u001b[49m\u001b[43m \u001b[49m\n\u001b[1;32m     77\u001b[0m \u001b[43m                   \u001b[49m\u001b[43mmin_inventory_pool\u001b[49m\u001b[43m,\u001b[49m\u001b[43m \u001b[49m\u001b[43mmax_inventory_pool\u001b[49m\u001b[43m,\u001b[49m\u001b[43m \u001b[49m\u001b[43mtarget_inventory\u001b[49m\u001b[43m,\u001b[49m\n\u001b[1;32m     78\u001b[0m \u001b[43m                   \u001b[49m\u001b[43meta_func_bid\u001b[49m\u001b[43m,\u001b[49m\u001b[43m \u001b[49m\u001b[43meta_func_ask\u001b[49m\u001b[43m,\u001b[49m\u001b[43m \u001b[49m\u001b[43mjump_size_L\u001b[49m\u001b[43m,\u001b[49m\u001b[43m \u001b[49m\u001b[38;5;241;43m2\u001b[39;49m\u001b[43m)\u001b[49m\n\u001b[1;32m     80\u001b[0m \u001b[38;5;28mprint\u001b[39m(\u001b[38;5;124m'\u001b[39m\u001b[38;5;124mgetting data\u001b[39m\u001b[38;5;124m'\u001b[39m)\n\u001b[1;32m     81\u001b[0m initial_pool_value \u001b[38;5;241m=\u001b[39m \u001b[38;5;241m0\u001b[39m\n",
      "File \u001b[0;32m~/Library/CloudStorage/OneDrive-Personal/Documents/PhD/Main/AMM/CQV/ammgymnew/notebooks/nb_utils.py:434\u001b[0m, in \u001b[0;36mrunOneSimulation\u001b[0;34m(pool_agent, bothPrices, unit_size, min_inventory_pool, max_inventory_pool, target_inventory, eta_func_bid, eta_func_ask, jump_size_L, add_noise)\u001b[0m\n\u001b[1;32m    431\u001b[0m     additional_pnl    \u001b[38;5;241m=\u001b[39m \u001b[38;5;241m0\u001b[39m\n\u001b[1;32m    433\u001b[0m \u001b[38;5;66;03m# get the LP's quotes for unit_size\u001b[39;00m\n\u001b[0;32m--> 434\u001b[0m deltas \u001b[38;5;241m=\u001b[39m np\u001b[38;5;241m.\u001b[39mround(\u001b[43mpool_agent\u001b[49m\u001b[38;5;241;43m.\u001b[39;49m\u001b[43m_calculate_deltas\u001b[49m\u001b[43m(\u001b[49m\u001b[43mcurrent_time\u001b[49m\u001b[43m \u001b[49m\u001b[38;5;241;43m=\u001b[39;49m\u001b[43m \u001b[49m\u001b[38;5;241;43m0.\u001b[39;49m\u001b[43m,\u001b[49m\u001b[43m \u001b[49m\n\u001b[1;32m    435\u001b[0m \u001b[43m                                               \u001b[49m\u001b[43minventories\u001b[49m\u001b[43m  \u001b[49m\u001b[38;5;241;43m=\u001b[39;49m\u001b[43m \u001b[49m\u001b[43mcurrent_inventory\u001b[49m\u001b[43m)\u001b[49m, \u001b[38;5;241m3\u001b[39m)[\u001b[38;5;241m0\u001b[39m]\n\u001b[1;32m    436\u001b[0m delta_bid, delta_ask \u001b[38;5;241m=\u001b[39m deltas[\u001b[38;5;241m0\u001b[39m], deltas[\u001b[38;5;241m1\u001b[39m]\n\u001b[1;32m    438\u001b[0m \u001b[38;5;66;03m# store the LP's inventory and the oracle price\u001b[39;00m\n",
      "File \u001b[0;32m~/Library/CloudStorage/OneDrive-Personal/Documents/PhD/Main/AMM/CQV/ammgymnew/notebooks/../mbt_gym/agents/BaselineAgents.py:189\u001b[0m, in \u001b[0;36mPoolInterpGEtaMmAgent._calculate_deltas\u001b[0;34m(self, current_time, inventories)\u001b[0m\n\u001b[1;32m    186\u001b[0m \u001b[38;5;28;01mif\u001b[39;00m \u001b[38;5;28mself\u001b[39m\u001b[38;5;241m.\u001b[39mverbose: \u001b[38;5;28mprint\u001b[39m(\u001b[38;5;124m'\u001b[39m\u001b[38;5;124mpool index = \u001b[39m\u001b[38;5;124m'\u001b[39m, indices)\n\u001b[1;32m    188\u001b[0m indices_minus_one \u001b[38;5;241m=\u001b[39m np\u001b[38;5;241m.\u001b[39mclip(indices \u001b[38;5;241m-\u001b[39m \u001b[38;5;241m1\u001b[39m, \u001b[38;5;241m0\u001b[39m, \u001b[38;5;28mself\u001b[39m\u001b[38;5;241m.\u001b[39mmax_index\u001b[38;5;241m-\u001b[39m\u001b[38;5;241m1\u001b[39m)\n\u001b[0;32m--> 189\u001b[0m indices_plus_one  \u001b[38;5;241m=\u001b[39m \u001b[43mnp\u001b[49m\u001b[38;5;241;43m.\u001b[39;49m\u001b[43mclip\u001b[49m\u001b[43m(\u001b[49m\u001b[43mindices\u001b[49m\u001b[43m \u001b[49m\u001b[38;5;241;43m+\u001b[39;49m\u001b[43m \u001b[49m\u001b[38;5;241;43m1\u001b[39;49m\u001b[43m,\u001b[49m\u001b[43m \u001b[49m\u001b[38;5;241;43m0\u001b[39;49m\u001b[43m,\u001b[49m\u001b[43m \u001b[49m\u001b[38;5;28;43mself\u001b[39;49m\u001b[38;5;241;43m.\u001b[39;49m\u001b[43mmax_index\u001b[49m\u001b[38;5;241;43m-\u001b[39;49m\u001b[38;5;241;43m1\u001b[39;49m\u001b[43m)\u001b[49m\n\u001b[1;32m    190\u001b[0m h_0               \u001b[38;5;241m=\u001b[39m h_t[indices]\n\u001b[1;32m    191\u001b[0m h_plus_one        \u001b[38;5;241m=\u001b[39m h_t[indices_plus_one]\n",
      "File \u001b[0;32m<__array_function__ internals>:5\u001b[0m, in \u001b[0;36mclip\u001b[0;34m(*args, **kwargs)\u001b[0m\n",
      "File \u001b[0;32m~/opt/anaconda3/lib/python3.9/site-packages/numpy/core/fromnumeric.py:2115\u001b[0m, in \u001b[0;36mclip\u001b[0;34m(a, a_min, a_max, out, **kwargs)\u001b[0m\n\u001b[1;32m   2046\u001b[0m \u001b[38;5;129m@array_function_dispatch\u001b[39m(_clip_dispatcher)\n\u001b[1;32m   2047\u001b[0m \u001b[38;5;28;01mdef\u001b[39;00m \u001b[38;5;21mclip\u001b[39m(a, a_min, a_max, out\u001b[38;5;241m=\u001b[39m\u001b[38;5;28;01mNone\u001b[39;00m, \u001b[38;5;241m*\u001b[39m\u001b[38;5;241m*\u001b[39mkwargs):\n\u001b[1;32m   2048\u001b[0m     \u001b[38;5;124;03m\"\"\"\u001b[39;00m\n\u001b[1;32m   2049\u001b[0m \u001b[38;5;124;03m    Clip (limit) the values in an array.\u001b[39;00m\n\u001b[1;32m   2050\u001b[0m \n\u001b[0;32m   (...)\u001b[0m\n\u001b[1;32m   2113\u001b[0m \n\u001b[1;32m   2114\u001b[0m \u001b[38;5;124;03m    \"\"\"\u001b[39;00m\n\u001b[0;32m-> 2115\u001b[0m     \u001b[38;5;28;01mreturn\u001b[39;00m \u001b[43m_wrapfunc\u001b[49m\u001b[43m(\u001b[49m\u001b[43ma\u001b[49m\u001b[43m,\u001b[49m\u001b[43m \u001b[49m\u001b[38;5;124;43m'\u001b[39;49m\u001b[38;5;124;43mclip\u001b[39;49m\u001b[38;5;124;43m'\u001b[39;49m\u001b[43m,\u001b[49m\u001b[43m \u001b[49m\u001b[43ma_min\u001b[49m\u001b[43m,\u001b[49m\u001b[43m \u001b[49m\u001b[43ma_max\u001b[49m\u001b[43m,\u001b[49m\u001b[43m \u001b[49m\u001b[43mout\u001b[49m\u001b[38;5;241;43m=\u001b[39;49m\u001b[43mout\u001b[49m\u001b[43m,\u001b[49m\u001b[43m \u001b[49m\u001b[38;5;241;43m*\u001b[39;49m\u001b[38;5;241;43m*\u001b[39;49m\u001b[43mkwargs\u001b[49m\u001b[43m)\u001b[49m\n",
      "File \u001b[0;32m~/opt/anaconda3/lib/python3.9/site-packages/numpy/core/fromnumeric.py:57\u001b[0m, in \u001b[0;36m_wrapfunc\u001b[0;34m(obj, method, *args, **kwds)\u001b[0m\n\u001b[1;32m     54\u001b[0m     \u001b[38;5;28;01mreturn\u001b[39;00m _wrapit(obj, method, \u001b[38;5;241m*\u001b[39margs, \u001b[38;5;241m*\u001b[39m\u001b[38;5;241m*\u001b[39mkwds)\n\u001b[1;32m     56\u001b[0m \u001b[38;5;28;01mtry\u001b[39;00m:\n\u001b[0;32m---> 57\u001b[0m     \u001b[38;5;28;01mreturn\u001b[39;00m \u001b[43mbound\u001b[49m\u001b[43m(\u001b[49m\u001b[38;5;241;43m*\u001b[39;49m\u001b[43margs\u001b[49m\u001b[43m,\u001b[49m\u001b[43m \u001b[49m\u001b[38;5;241;43m*\u001b[39;49m\u001b[38;5;241;43m*\u001b[39;49m\u001b[43mkwds\u001b[49m\u001b[43m)\u001b[49m\n\u001b[1;32m     58\u001b[0m \u001b[38;5;28;01mexcept\u001b[39;00m \u001b[38;5;167;01mTypeError\u001b[39;00m:\n\u001b[1;32m     59\u001b[0m     \u001b[38;5;66;03m# A TypeError occurs if the object does have such a method in its\u001b[39;00m\n\u001b[1;32m     60\u001b[0m     \u001b[38;5;66;03m# class, but its signature is not identical to that of NumPy's. This\u001b[39;00m\n\u001b[0;32m   (...)\u001b[0m\n\u001b[1;32m     64\u001b[0m     \u001b[38;5;66;03m# Call _wrapit from within the except clause to ensure a potential\u001b[39;00m\n\u001b[1;32m     65\u001b[0m     \u001b[38;5;66;03m# exception has a traceback chain.\u001b[39;00m\n\u001b[1;32m     66\u001b[0m     \u001b[38;5;28;01mreturn\u001b[39;00m _wrapit(obj, method, \u001b[38;5;241m*\u001b[39margs, \u001b[38;5;241m*\u001b[39m\u001b[38;5;241m*\u001b[39mkwds)\n",
      "File \u001b[0;32m~/opt/anaconda3/lib/python3.9/site-packages/numpy/core/_methods.py:134\u001b[0m, in \u001b[0;36m_clip\u001b[0;34m(a, min, max, out, casting, **kwargs)\u001b[0m\n\u001b[1;32m    132\u001b[0m \u001b[38;5;28;01mif\u001b[39;00m \u001b[38;5;129;01mnot\u001b[39;00m _clip_dep_is_byte_swapped(a) \u001b[38;5;129;01mand\u001b[39;00m \u001b[38;5;129;01mnot\u001b[39;00m _clip_dep_is_byte_swapped(out):\n\u001b[1;32m    133\u001b[0m     using_deprecated_nan \u001b[38;5;241m=\u001b[39m \u001b[38;5;28;01mFalse\u001b[39;00m\n\u001b[0;32m--> 134\u001b[0m     \u001b[38;5;28;01mif\u001b[39;00m \u001b[43m_clip_dep_is_scalar_nan\u001b[49m\u001b[43m(\u001b[49m\u001b[38;5;28;43mmin\u001b[39;49m\u001b[43m)\u001b[49m:\n\u001b[1;32m    135\u001b[0m         \u001b[38;5;28mmin\u001b[39m \u001b[38;5;241m=\u001b[39m \u001b[38;5;241m-\u001b[39m\u001b[38;5;28mfloat\u001b[39m(\u001b[38;5;124m'\u001b[39m\u001b[38;5;124minf\u001b[39m\u001b[38;5;124m'\u001b[39m)\n\u001b[1;32m    136\u001b[0m         using_deprecated_nan \u001b[38;5;241m=\u001b[39m \u001b[38;5;28;01mTrue\u001b[39;00m\n",
      "File \u001b[0;32m~/opt/anaconda3/lib/python3.9/site-packages/numpy/core/_methods.py:97\u001b[0m, in \u001b[0;36m_clip_dep_is_scalar_nan\u001b[0;34m(a)\u001b[0m\n\u001b[1;32m     95\u001b[0m     \u001b[38;5;28;01mreturn\u001b[39;00m \u001b[38;5;28;01mFalse\u001b[39;00m\n\u001b[1;32m     96\u001b[0m \u001b[38;5;28;01mtry\u001b[39;00m:\n\u001b[0;32m---> 97\u001b[0m     \u001b[38;5;28;01mreturn\u001b[39;00m \u001b[43mum\u001b[49m\u001b[38;5;241;43m.\u001b[39;49m\u001b[43misnan\u001b[49m\u001b[43m(\u001b[49m\u001b[43ma\u001b[49m\u001b[43m)\u001b[49m\n\u001b[1;32m     98\u001b[0m \u001b[38;5;28;01mexcept\u001b[39;00m \u001b[38;5;167;01mTypeError\u001b[39;00m:\n\u001b[1;32m     99\u001b[0m     \u001b[38;5;28;01mreturn\u001b[39;00m \u001b[38;5;28;01mFalse\u001b[39;00m\n",
      "\u001b[0;31mKeyboardInterrupt\u001b[0m: "
     ]
    }
   ],
   "source": [
    "from IPython.display import clear_output\n",
    "\n",
    "np.random.seed(seed)\n",
    "dict_results  = {}\n",
    "allData_ = None\n",
    "trade_dates = list(BinanceData.resample('d').last().dropna().index)\n",
    "\n",
    "for td in trade_dates[20:]:\n",
    "    from_dt_is = td - datetime.timedelta(minutes = 60)\n",
    "    from_dt = td\n",
    "    to_dt   = td + datetime.timedelta(minutes = 30)\n",
    "    end_of_day = False\n",
    "    \n",
    "    while not end_of_day:\n",
    "        trade_date    = str(td).split(' ')[0]\n",
    "        from_datetime = str(from_dt)\n",
    "        to_datetime   = str(to_dt)\n",
    "        from_dt_insample = str(from_dt_is)\n",
    "        clear_output(wait=True)\n",
    "        \n",
    "        # Some verbose\n",
    "        if len(dict_results) > 0:\n",
    "            pnls = [dict_results[k].LPWealth.iloc[-1] / (dict_results[k].pool_inv_y.abs().mean() * dict_results[k].Z.iloc[0]) for k in dict_results.keys()]\n",
    "            print('Number of points : ', len(pnls))\n",
    "            print('Last pnl : ', pnls[-1])\n",
    "            print('Pnls:', np.mean(pnls), ' / ', np.std(pnls))\n",
    "            print('\\n')\n",
    "\n",
    "        print('Trading from ', from_datetime, ' to ', to_datetime)\n",
    "        \n",
    "        try:\n",
    "            ############################################\n",
    "            # load data\n",
    "            ############################################\n",
    "            oneDayLTdata, oneDayLPdata, oneDaybinanceLTdata,\\\n",
    "            fill_exponents, pool_sizes, hist_prices,\\\n",
    "            initial_convexity, trade_sizes, bothPrices = get_LT_LP_Binance_data(LTdata, LPdata, BinanceData, trade_date, \n",
    "                                                                                from_datetime, to_datetime)\n",
    "            bothPrices.columns = ['Binance', 'Uniswap']\n",
    "\n",
    "\n",
    "            in_sample_data = BinanceData[ ((BinanceData.index<=from_datetime) &\n",
    "                                            (BinanceData.index>from_dt_insample))]\n",
    "\n",
    "            ############################################\n",
    "            # estimate in-sample parameters\n",
    "            ############################################\n",
    "            initial_price          = hist_prices[0]\n",
    "            n_steps                = len(oneDayLTdata)\n",
    "            arrival_rate           = trade_sizes.mean() / (in_sample_data.reset_index().time.diff(1).mean().seconds/60 + in_sample_data.reset_index().time.diff(1).mean().microseconds // 1000000/60)\n",
    "            unit_size              = 1 #oneDaybinanceLTdata.qty.mean() #10 #(max_inventory_pool - min_inventory_pool) / 100 # matrix of size 1000\n",
    "            terminal_time          = (bothPrices.index[-1] - bothPrices.index[0]).total_seconds()/60/60/24\n",
    "            \n",
    "            print('Average frequency          :',  oneDayLTdata.reset_index().timestamp.diff(1).mean())\n",
    "            print('Average trading size       :',  unit_size)\n",
    "            print('Initial inventory          :',  initial_inventory_pool)\n",
    "            print('Permanent impact param (L) :',  jump_size_L)\n",
    "            print('Fill exponent              :',  fill_exponent)\n",
    "            print('Price increment            :',  jump_size_L)\n",
    "            \n",
    "            pool_agent = get_pool_agent(arrival_rate, phi, alpha, fill_exponent, \n",
    "                                        initial_inventory_pool, target_inventory, \n",
    "                                        jump_size_L, unit_size, min_inventory_pool, max_inventory_pool,\n",
    "                                        initial_price, max_depth,\n",
    "                                        terminal_time, terminal_time/n_steps,\n",
    "                                        seed, n_steps, num_trajectories, \n",
    "                                        eta_func_bid, eta_func_ask,\n",
    "                                        verbose)\n",
    "            print('pool agent:', pool_agent)\n",
    "            \n",
    "            ############################################\n",
    "            # Run and store simulation result\n",
    "            ############################################\n",
    "            pool_earnings_history, arb_earnings_history, historical_pool_prices, historical_oracle_prices,\\\n",
    "            historical_ba, historical_pool_inventory, historical_pool_cash, historical_pool_value_adjustments\\\n",
    "                    = runOneSimulation(pool_agent, bothPrices, unit_size, \n",
    "                               min_inventory_pool, max_inventory_pool, target_inventory,\n",
    "                               eta_func_bid, eta_func_ask, jump_size_L, 2)\n",
    "            \n",
    "            print('getting data')\n",
    "            initial_pool_value = 0\n",
    "            allData_, bid_history, ask_history = getOneSimulationData(initial_pool_value, initial_inventory_pool,\n",
    "                                                                      historical_pool_prices,  historical_ba, \n",
    "                                                                      historical_pool_inventory, pool_earnings_history, \n",
    "                                                                      historical_oracle_prices, historical_pool_cash, \n",
    "                                                                      historical_pool_value_adjustments)\n",
    "\n",
    "\n",
    "            uniswapindex  = allData_.reset_index().dropna().index\n",
    "            allData       = allData_.dropna()\n",
    "            bid_history   = bid_history.loc[allData.index]\n",
    "            ask_history   = ask_history.loc[allData.index]\n",
    "            allData.index = bothPrices.iloc[uniswapindex].index\n",
    "\n",
    "            dict_results[to_datetime] = allData\n",
    "        except Exception as e:\n",
    "            print('ERROR : ', str(e))\n",
    "        \n",
    "        if to_datetime == f'{trade_date} 23:30': end_of_day = True\n",
    "        from_dt     += datetime.timedelta(minutes = 30)\n",
    "        to_dt       += datetime.timedelta(minutes = 30)\n",
    "        from_dt_is  += datetime.timedelta(minutes = 30)"
   ]
  },
  {
   "cell_type": "code",
   "execution_count": null,
   "id": "31a9da8f-43ab-41fe-a5b1-67d37930b7ed",
   "metadata": {},
   "outputs": [],
   "source": []
  }
 ],
 "metadata": {
  "kernelspec": {
   "display_name": "Python 3 (ipykernel)",
   "language": "python",
   "name": "python3"
  },
  "language_info": {
   "codemirror_mode": {
    "name": "ipython",
    "version": 3
   },
   "file_extension": ".py",
   "mimetype": "text/x-python",
   "name": "python",
   "nbconvert_exporter": "python",
   "pygments_lexer": "ipython3",
   "version": "3.9.12"
  }
 },
 "nbformat": 4,
 "nbformat_minor": 5
}
