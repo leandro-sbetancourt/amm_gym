{
 "cells": [
  {
   "cell_type": "code",
   "execution_count": 1,
   "id": "eb2d1939",
   "metadata": {},
   "outputs": [],
   "source": [
    "from nb_utils import rescale_plot, mtick, md, run_simulation,\\\n",
    "                     getSimulationData, get_pool_agent, get_arb_env,\\\n",
    "                     get_LT_LP_Binance_data, pd, plt, np, ASSET_PRICE_INDEX,\\\n",
    "                     datetime, get_binance_month_data, plot_impact_curves,\\\n",
    "                     runOneSimulation, getOneSimulationData, plot_one_sim_result"
   ]
  },
  {
   "cell_type": "code",
   "execution_count": 2,
   "id": "f50e2996",
   "metadata": {},
   "outputs": [],
   "source": [
    "%load_ext autoreload\n",
    "%autoreload 2"
   ]
  },
  {
   "cell_type": "code",
   "execution_count": 3,
   "id": "7146bb2a",
   "metadata": {},
   "outputs": [
    {
     "data": {
      "text/html": [
       "<style>.container { width:100% !important; }</style>"
      ],
      "text/plain": [
       "<IPython.core.display.HTML object>"
      ]
     },
     "metadata": {},
     "output_type": "display_data"
    }
   ],
   "source": [
    "from   IPython.display import display, HTML\n",
    "display(HTML(\"<style>.container { width:100% !important; }</style>\"))"
   ]
  },
  {
   "cell_type": "markdown",
   "id": "3657acd9-08d8-43fb-9461-591ee1c6729f",
   "metadata": {},
   "source": [
    "# Load data"
   ]
  },
  {
   "cell_type": "code",
   "execution_count": 4,
   "id": "f9524618-e0b8-45f7-a096-c1f43532f1a2",
   "metadata": {},
   "outputs": [],
   "source": [
    "LPdata      = pd.read_pickle(\"data/LPdata.pkl\")\n",
    "LTdata      = pd.read_pickle(\"data/LTdata.pkl\")\n",
    "BinanceData = pd.read_pickle(\"data/BinanceData.pkl\")"
   ]
  },
  {
   "cell_type": "markdown",
   "id": "872cd633-8aa9-47ca-a110-f4365f811e23",
   "metadata": {},
   "source": [
    "# Wealth distribution:\n",
    "### CQV / Uniswap : 100% arbitrageurs"
   ]
  },
  {
   "cell_type": "code",
   "execution_count": 5,
   "id": "09f3c52d-6aad-40a5-b6ba-f55bcf2063f8",
   "metadata": {},
   "outputs": [],
   "source": [
    "def eta_func_bid(y, Delta, L):\n",
    "    if 0.5 *y-Delta==0: return -L\n",
    "    if 0.5 *y-Delta>0: return L * Delta  / (0.5 * y - Delta)\n",
    "    if 0.5 *y-Delta<0: return -L * Delta / (0.5 * y - Delta)\n",
    "\n",
    "def eta_func_ask(y, Delta, L):\n",
    "    if 0.5 *y+Delta==0: return -L\n",
    "    if 0.5 *y+Delta>0: return L * Delta  / (0.5 * y + Delta)\n",
    "    if 0.5 *y+Delta<0: return -L * Delta / (0.5 * y + Delta)"
   ]
  },
  {
   "cell_type": "code",
   "execution_count": null,
   "id": "fbad47fb",
   "metadata": {},
   "outputs": [],
   "source": [
    "2/0.05"
   ]
  },
  {
   "cell_type": "code",
   "execution_count": 6,
   "id": "00eb9305-c268-48d0-a3c8-61b2915f4de5",
   "metadata": {},
   "outputs": [],
   "source": [
    "############################\n",
    "# LP strategy parameters\n",
    "############################\n",
    "jump_size_L            = 0.3\n",
    "phi                    = 1e-2\n",
    "alpha                  = 1e-4\n",
    "fill_exponent          = 0.05\n",
    "initial_inventory_pool = 0\n",
    "\n",
    "############################\n",
    "# Pool liquidity parameters\n",
    "############################\n",
    "target_inventory       = initial_inventory_pool\n",
    "min_inventory_pool     = initial_inventory_pool - 500.\n",
    "max_inventory_pool     = initial_inventory_pool + 500.\n",
    "\n",
    "############################\n",
    "# Others\n",
    "############################\n",
    "max_depth              = 0\n",
    "seed                   = 200\n",
    "num_trajectories       = 1\n",
    "verbose                = False\n",
    "\n",
    "dict_results           = {}\n",
    "np.random.seed(seed)"
   ]
  },
  {
   "cell_type": "code",
   "execution_count": null,
   "id": "a115d16b",
   "metadata": {},
   "outputs": [],
   "source": []
  },
  {
   "cell_type": "code",
   "execution_count": 8,
   "id": "f60fa804-5f33-4ba7-920b-28e90de3dc57",
   "metadata": {},
   "outputs": [
    {
     "name": "stderr",
     "output_type": "stream",
     "text": [
      "/var/folders/h3/cyxpytps41d3jmsv99t0x7ww0000gn/T/ipykernel_5838/2026143829.py:22: RuntimeWarning: invalid value encountered in double_scalars\n",
      "  pnls = [dict_results[k].LPWealth.iloc[-1] / (dict_results[k].pool_inv_y.abs().mean() * dict_results[k].Z.iloc[0]) for k in dict_results.keys()]\n",
      "/var/folders/h3/cyxpytps41d3jmsv99t0x7ww0000gn/T/ipykernel_5838/2026143829.py:22: RuntimeWarning: divide by zero encountered in double_scalars\n",
      "  pnls = [dict_results[k].LPWealth.iloc[-1] / (dict_results[k].pool_inv_y.abs().mean() * dict_results[k].Z.iloc[0]) for k in dict_results.keys()]\n"
     ]
    },
    {
     "name": "stdout",
     "output_type": "stream",
     "text": [
      "Number of points :  12213\n",
      "Last pnl :  nan\n",
      "Pnls: -0.003969087306319629  /  0.7892227031136315\n",
      "\n",
      "\n",
      "Trading from  2022-02-05 02:00:00  to  2022-02-05 02:30:00\n",
      "Average frequency          : 0 days 00:00:15.548672566\n",
      "Average trading size       : 1\n",
      "Initial inventory          : 0\n",
      "Permanent impact param (L) : 0.3\n",
      "Fill exponent              : 0.05\n",
      "Price increment            : 0.3\n",
      "Arrival rate               : 543.6367632466189\n"
     ]
    },
    {
     "ename": "KeyboardInterrupt",
     "evalue": "",
     "output_type": "error",
     "traceback": [
      "\u001b[0;31m---------------------------------------------------------------------------\u001b[0m",
      "\u001b[0;31mKeyboardInterrupt\u001b[0m                         Traceback (most recent call last)",
      "Input \u001b[0;32mIn [8]\u001b[0m, in \u001b[0;36m<cell line: 6>\u001b[0;34m()\u001b[0m\n\u001b[1;32m     63\u001b[0m \u001b[38;5;28mprint\u001b[39m(\u001b[38;5;124m'\u001b[39m\u001b[38;5;124mArrival rate               :\u001b[39m\u001b[38;5;124m'\u001b[39m,  arrival_rate)\n\u001b[1;32m     65\u001b[0m \u001b[38;5;28;01mtry\u001b[39;00m:\n\u001b[0;32m---> 66\u001b[0m     pool_agent \u001b[38;5;241m=\u001b[39m \u001b[43mget_pool_agent\u001b[49m\u001b[43m(\u001b[49m\u001b[43marrival_rate\u001b[49m\u001b[43m,\u001b[49m\u001b[43m \u001b[49m\u001b[43mphi\u001b[49m\u001b[43m,\u001b[49m\u001b[43m \u001b[49m\u001b[43malpha\u001b[49m\u001b[43m,\u001b[49m\u001b[43m \u001b[49m\u001b[43mfill_exponent\u001b[49m\u001b[43m,\u001b[49m\u001b[43m \u001b[49m\n\u001b[1;32m     67\u001b[0m \u001b[43m                                \u001b[49m\u001b[43minitial_inventory_pool\u001b[49m\u001b[43m,\u001b[49m\u001b[43m \u001b[49m\u001b[43mtarget_inventory\u001b[49m\u001b[43m,\u001b[49m\u001b[43m \u001b[49m\n\u001b[1;32m     68\u001b[0m \u001b[43m                                \u001b[49m\u001b[43mjump_size_L\u001b[49m\u001b[43m,\u001b[49m\u001b[43m \u001b[49m\u001b[43munit_size\u001b[49m\u001b[43m,\u001b[49m\u001b[43m \u001b[49m\u001b[43mmin_inventory_pool\u001b[49m\u001b[43m,\u001b[49m\u001b[43m \u001b[49m\u001b[43mmax_inventory_pool\u001b[49m\u001b[43m,\u001b[49m\n\u001b[1;32m     69\u001b[0m \u001b[43m                                \u001b[49m\u001b[43minitial_price\u001b[49m\u001b[43m,\u001b[49m\u001b[43m \u001b[49m\u001b[43mmax_depth\u001b[49m\u001b[43m,\u001b[49m\n\u001b[1;32m     70\u001b[0m \u001b[43m                                \u001b[49m\u001b[43mterminal_time\u001b[49m\u001b[43m,\u001b[49m\u001b[43m \u001b[49m\u001b[43mterminal_time\u001b[49m\u001b[38;5;241;43m/\u001b[39;49m\u001b[43mn_steps\u001b[49m\u001b[43m,\u001b[49m\n\u001b[1;32m     71\u001b[0m \u001b[43m                                \u001b[49m\u001b[43mseed\u001b[49m\u001b[43m,\u001b[49m\u001b[43m \u001b[49m\u001b[43mn_steps\u001b[49m\u001b[43m,\u001b[49m\u001b[43m \u001b[49m\u001b[43mnum_trajectories\u001b[49m\u001b[43m,\u001b[49m\u001b[43m \u001b[49m\n\u001b[1;32m     72\u001b[0m \u001b[43m                                \u001b[49m\u001b[43meta_func_bid\u001b[49m\u001b[43m,\u001b[49m\u001b[43m \u001b[49m\u001b[43meta_func_ask\u001b[49m\u001b[43m,\u001b[49m\n\u001b[1;32m     73\u001b[0m \u001b[43m                                \u001b[49m\u001b[43mverbose\u001b[49m\u001b[43m)\u001b[49m\n\u001b[1;32m     74\u001b[0m     \u001b[38;5;28mprint\u001b[39m(\u001b[38;5;124m'\u001b[39m\u001b[38;5;124mpool agent:\u001b[39m\u001b[38;5;124m'\u001b[39m, pool_agent)\n\u001b[1;32m     76\u001b[0m     \u001b[38;5;66;03m############################################\u001b[39;00m\n\u001b[1;32m     77\u001b[0m     \u001b[38;5;66;03m# Run and store simulation result\u001b[39;00m\n\u001b[1;32m     78\u001b[0m     \u001b[38;5;66;03m############################################\u001b[39;00m\n",
      "File \u001b[0;32m~/Library/CloudStorage/OneDrive-Personal/Documents/Scholar/PhD/Main/AMM/CQV/ammgymnew/notebooks/nb_utils.py:222\u001b[0m, in \u001b[0;36mget_pool_agent\u001b[0;34m(_arrival_rate, _phi, _alpha, _fill_exponent, _initial_inventory_pool, _target_inventory, _jump_size_L, _unit_size, _min_inventory_pool, _max_inventory_pool, _initial_price, _max_depth, _terminal_time, _step_size, _seed, _n_steps, _num_trajectories, _eta_func_bid, _eta_func_ask, _verbose)\u001b[0m\n\u001b[1;32m    198\u001b[0m _AMMtrader \u001b[38;5;241m=\u001b[39m AmmTrader(midprice_model        \u001b[38;5;241m=\u001b[39m _midprice_model_internal, \n\u001b[1;32m    199\u001b[0m                       arrival_model          \u001b[38;5;241m=\u001b[39m _arrival_model, \n\u001b[1;32m    200\u001b[0m                       fill_probability_model \u001b[38;5;241m=\u001b[39m _fill_probability_model,\n\u001b[0;32m   (...)\u001b[0m\n\u001b[1;32m    203\u001b[0m                       unit_size              \u001b[38;5;241m=\u001b[39m _unit_size,\n\u001b[1;32m    204\u001b[0m                       seed                   \u001b[38;5;241m=\u001b[39m _seed)\n\u001b[1;32m    206\u001b[0m _env_params_pool \u001b[38;5;241m=\u001b[39m \u001b[38;5;28mdict\u001b[39m(  terminal_time     \u001b[38;5;241m=\u001b[39m _terminal_time, \n\u001b[1;32m    207\u001b[0m                           n_steps           \u001b[38;5;241m=\u001b[39m _n_steps,\n\u001b[1;32m    208\u001b[0m                           initial_inventory \u001b[38;5;241m=\u001b[39m _initial_inventory_pool,\n\u001b[0;32m   (...)\u001b[0m\n\u001b[1;32m    219\u001b[0m                           max_cash          \u001b[38;5;241m=\u001b[39m \u001b[38;5;241m1e15\u001b[39m,\n\u001b[1;32m    220\u001b[0m                           seed              \u001b[38;5;241m=\u001b[39m _seed)\n\u001b[0;32m--> 222\u001b[0m \u001b[38;5;28;01mreturn\u001b[39;00m \u001b[43mPoolInterpGEtaMmAgent\u001b[49m\u001b[43m(\u001b[49m\u001b[43menv\u001b[49m\u001b[43m               \u001b[49m\u001b[38;5;241;43m=\u001b[39;49m\u001b[43m \u001b[49m\u001b[43mTradingEnvironment\u001b[49m\u001b[43m(\u001b[49m\u001b[38;5;241;43m*\u001b[39;49m\u001b[38;5;241;43m*\u001b[39;49m\u001b[43m_env_params_pool\u001b[49m\u001b[43m)\u001b[49m\u001b[43m,\u001b[49m\u001b[43m \u001b[49m\n\u001b[1;32m    223\u001b[0m \u001b[43m                               \u001b[49m\u001b[43mtarget_inventory\u001b[49m\u001b[43m  \u001b[49m\u001b[38;5;241;43m=\u001b[39;49m\u001b[43m \u001b[49m\u001b[43m_target_inventory\u001b[49m\u001b[43m,\u001b[49m\u001b[43m \u001b[49m\n\u001b[1;32m    224\u001b[0m \u001b[43m                               \u001b[49m\u001b[43mmin_inventory\u001b[49m\u001b[43m     \u001b[49m\u001b[38;5;241;43m=\u001b[39;49m\u001b[43m \u001b[49m\u001b[43m_min_inventory_pool\u001b[49m\u001b[43m,\u001b[49m\n\u001b[1;32m    225\u001b[0m \u001b[43m                               \u001b[49m\u001b[43mmax_inventory\u001b[49m\u001b[43m     \u001b[49m\u001b[38;5;241;43m=\u001b[39;49m\u001b[43m \u001b[49m\u001b[43m_max_inventory_pool\u001b[49m\u001b[43m,\u001b[49m\n\u001b[1;32m    226\u001b[0m \u001b[43m                               \u001b[49m\u001b[43mverbose\u001b[49m\u001b[43m           \u001b[49m\u001b[38;5;241;43m=\u001b[39;49m\u001b[43m \u001b[49m\u001b[43m_verbose\u001b[49m\u001b[43m)\u001b[49m\n",
      "File \u001b[0;32m~/Library/CloudStorage/OneDrive-Personal/Documents/Scholar/PhD/Main/AMM/CQV/ammgymnew/notebooks/../mbt_gym/agents/BaselineAgents.py:158\u001b[0m, in \u001b[0;36mPoolInterpGEtaMmAgent.__init__\u001b[0;34m(self, env, max_inventory, min_inventory, target_inventory, verbose)\u001b[0m\n\u001b[1;32m    156\u001b[0m \u001b[38;5;28mself\u001b[39m\u001b[38;5;241m.\u001b[39mmax_index  \u001b[38;5;241m=\u001b[39m  \u001b[38;5;28mround\u001b[39m((\u001b[38;5;28mself\u001b[39m\u001b[38;5;241m.\u001b[39mmax_inventory \u001b[38;5;241m-\u001b[39m \u001b[38;5;28mself\u001b[39m\u001b[38;5;241m.\u001b[39mmin_inventory)\u001b[38;5;241m/\u001b[39m\u001b[38;5;28mself\u001b[39m\u001b[38;5;241m.\u001b[39menv\u001b[38;5;241m.\u001b[39mtrader\u001b[38;5;241m.\u001b[39munit_size)\n\u001b[1;32m    157\u001b[0m \u001b[38;5;28mself\u001b[39m\u001b[38;5;241m.\u001b[39minventory_space \u001b[38;5;241m=\u001b[39m np\u001b[38;5;241m.\u001b[39mlinspace(\u001b[38;5;28mself\u001b[39m\u001b[38;5;241m.\u001b[39mmin_inventory, \u001b[38;5;28mself\u001b[39m\u001b[38;5;241m.\u001b[39mmax_inventory, \u001b[38;5;28mself\u001b[39m\u001b[38;5;241m.\u001b[39mmax_index\u001b[38;5;241m+\u001b[39m\u001b[38;5;241m1\u001b[39m)\n\u001b[0;32m--> 158\u001b[0m \u001b[38;5;28mself\u001b[39m\u001b[38;5;241m.\u001b[39ma_matrix, \u001b[38;5;28mself\u001b[39m\u001b[38;5;241m.\u001b[39mz_vector, \u001b[38;5;28mself\u001b[39m\u001b[38;5;241m.\u001b[39momegas \u001b[38;5;241m=\u001b[39m \u001b[38;5;28;43mself\u001b[39;49m\u001b[38;5;241;43m.\u001b[39;49m\u001b[43m_calculate_a_and_z\u001b[49m\u001b[43m(\u001b[49m\u001b[43m)\u001b[49m\n\u001b[1;32m    159\u001b[0m \u001b[38;5;28mself\u001b[39m\u001b[38;5;241m.\u001b[39mlarge_depth \u001b[38;5;241m=\u001b[39m \u001b[38;5;241m10_000\u001b[39m\n",
      "File \u001b[0;32m~/Library/CloudStorage/OneDrive-Personal/Documents/Scholar/PhD/Main/AMM/CQV/ammgymnew/notebooks/../mbt_gym/agents/BaselineAgents.py:245\u001b[0m, in \u001b[0;36mPoolInterpGEtaMmAgent._calculate_a_and_z\u001b[0;34m(self)\u001b[0m\n\u001b[1;32m    240\u001b[0m         Amatrix[i, i \u001b[38;5;241m-\u001b[39m \u001b[38;5;241m1\u001b[39m] \u001b[38;5;241m=\u001b[39m \u001b[38;5;28mself\u001b[39m\u001b[38;5;241m.\u001b[39mlambdas[BID_INDEX] \u001b[38;5;241m*\u001b[39m np\u001b[38;5;241m.\u001b[39mexp(\u001b[38;5;241m-\u001b[39m\u001b[38;5;241m1\u001b[39m) \u001b[38;5;241m*\u001b[39m np\u001b[38;5;241m.\u001b[39mexp(\u001b[38;5;241m-\u001b[39m \u001b[38;5;28mself\u001b[39m\u001b[38;5;241m.\u001b[39mkappa \u001b[38;5;241m*\u001b[39m (inventory \u001b[38;5;241m-\u001b[39m \u001b[38;5;28mself\u001b[39m\u001b[38;5;241m.\u001b[39menv\u001b[38;5;241m.\u001b[39mtrader\u001b[38;5;241m.\u001b[39munit_size) \u001b[38;5;241m*\u001b[39m\\\n\u001b[1;32m    241\u001b[0m                                              \u001b[38;5;28mself\u001b[39m\u001b[38;5;241m.\u001b[39menv\u001b[38;5;241m.\u001b[39mmidprice_model\u001b[38;5;241m.\u001b[39meta_bid(inventory, \n\u001b[1;32m    242\u001b[0m                                                                              \u001b[38;5;28mself\u001b[39m\u001b[38;5;241m.\u001b[39menv\u001b[38;5;241m.\u001b[39mtrader\u001b[38;5;241m.\u001b[39munit_size, \n\u001b[1;32m    243\u001b[0m                                                                              \u001b[38;5;28mself\u001b[39m\u001b[38;5;241m.\u001b[39menv\u001b[38;5;241m.\u001b[39mmidprice_model\u001b[38;5;241m.\u001b[39mjump_size_L)\u001b[38;5;241m/\u001b[39m\u001b[38;5;28mself\u001b[39m\u001b[38;5;241m.\u001b[39menv\u001b[38;5;241m.\u001b[39mtrader\u001b[38;5;241m.\u001b[39munit_size)\n\u001b[1;32m    244\u001b[0m \u001b[38;5;66;03m# Compute exp(A (T-t)) @ z for all values of t\u001b[39;00m\n\u001b[0;32m--> 245\u001b[0m omegas \u001b[38;5;241m=\u001b[39m \u001b[43mexpm_multiply\u001b[49m\u001b[43m(\u001b[49m\u001b[43mAmatrix\u001b[49m\u001b[43m,\u001b[49m\u001b[43m \u001b[49m\n\u001b[1;32m    246\u001b[0m \u001b[43m                       \u001b[49m\u001b[43mz_vector\u001b[49m\u001b[43m,\u001b[49m\u001b[43m \u001b[49m\n\u001b[1;32m    247\u001b[0m \u001b[43m                       \u001b[49m\u001b[43mstart\u001b[49m\u001b[43m \u001b[49m\u001b[38;5;241;43m=\u001b[39;49m\u001b[43m \u001b[49m\u001b[38;5;241;43m0\u001b[39;49m\u001b[43m,\u001b[49m\u001b[43m \u001b[49m\n\u001b[1;32m    248\u001b[0m \u001b[43m                       \u001b[49m\u001b[43mstop\u001b[49m\u001b[43m  \u001b[49m\u001b[38;5;241;43m=\u001b[39;49m\u001b[43m \u001b[49m\u001b[38;5;28;43mself\u001b[39;49m\u001b[38;5;241;43m.\u001b[39;49m\u001b[43menv\u001b[49m\u001b[38;5;241;43m.\u001b[39;49m\u001b[43mterminal_time\u001b[49m\u001b[43m,\u001b[49m\u001b[43m \u001b[49m\n\u001b[1;32m    249\u001b[0m \u001b[43m                       \u001b[49m\u001b[43mnum\u001b[49m\u001b[43m   \u001b[49m\u001b[38;5;241;43m=\u001b[39;49m\u001b[43m \u001b[49m\u001b[38;5;28;43mint\u001b[39;49m\u001b[43m(\u001b[49m\u001b[38;5;28;43mself\u001b[39;49m\u001b[38;5;241;43m.\u001b[39;49m\u001b[43menv\u001b[49m\u001b[38;5;241;43m.\u001b[39;49m\u001b[43mterminal_time\u001b[49m\u001b[38;5;241;43m/\u001b[39;49m\u001b[38;5;28;43mself\u001b[39;49m\u001b[38;5;241;43m.\u001b[39;49m\u001b[43menv\u001b[49m\u001b[38;5;241;43m.\u001b[39;49m\u001b[43mstep_size\u001b[49m\u001b[43m)\u001b[49m\u001b[43m,\u001b[49m\u001b[43m \u001b[49m\u001b[43mendpoint\u001b[49m\u001b[38;5;241;43m=\u001b[39;49m\u001b[38;5;28;43;01mTrue\u001b[39;49;00m\u001b[43m)\u001b[49m\n\u001b[1;32m    251\u001b[0m \u001b[38;5;28;01mreturn\u001b[39;00m Amatrix, z_vector, omegas\n",
      "File \u001b[0;32m~/opt/anaconda3/lib/python3.9/site-packages/scipy/sparse/linalg/_expm_multiply.py:141\u001b[0m, in \u001b[0;36mexpm_multiply\u001b[0;34m(A, B, start, stop, num, endpoint)\u001b[0m\n\u001b[1;32m    139\u001b[0m     X \u001b[38;5;241m=\u001b[39m _expm_multiply_simple(A, B)\n\u001b[1;32m    140\u001b[0m \u001b[38;5;28;01melse\u001b[39;00m:\n\u001b[0;32m--> 141\u001b[0m     X, status \u001b[38;5;241m=\u001b[39m \u001b[43m_expm_multiply_interval\u001b[49m\u001b[43m(\u001b[49m\u001b[43mA\u001b[49m\u001b[43m,\u001b[49m\u001b[43m \u001b[49m\u001b[43mB\u001b[49m\u001b[43m,\u001b[49m\u001b[43m \u001b[49m\u001b[43mstart\u001b[49m\u001b[43m,\u001b[49m\u001b[43m \u001b[49m\u001b[43mstop\u001b[49m\u001b[43m,\u001b[49m\u001b[43m \u001b[49m\u001b[43mnum\u001b[49m\u001b[43m,\u001b[49m\u001b[43m \u001b[49m\u001b[43mendpoint\u001b[49m\u001b[43m)\u001b[49m\n\u001b[1;32m    142\u001b[0m \u001b[38;5;28;01mreturn\u001b[39;00m X\n",
      "File \u001b[0;32m~/opt/anaconda3/lib/python3.9/site-packages/scipy/sparse/linalg/_expm_multiply.py:620\u001b[0m, in \u001b[0;36m_expm_multiply_interval\u001b[0;34m(A, B, start, stop, num, endpoint, balance, status_only)\u001b[0m\n\u001b[1;32m    618\u001b[0m         \u001b[38;5;28;01mreturn\u001b[39;00m \u001b[38;5;241m1\u001b[39m\n\u001b[1;32m    619\u001b[0m     \u001b[38;5;28;01melse\u001b[39;00m:\n\u001b[0;32m--> 620\u001b[0m         \u001b[38;5;28;01mreturn\u001b[39;00m \u001b[43m_expm_multiply_interval_core_1\u001b[49m\u001b[43m(\u001b[49m\u001b[43mA\u001b[49m\u001b[43m,\u001b[49m\u001b[43m \u001b[49m\u001b[43mX\u001b[49m\u001b[43m,\u001b[49m\n\u001b[1;32m    621\u001b[0m \u001b[43m                \u001b[49m\u001b[43mh\u001b[49m\u001b[43m,\u001b[49m\u001b[43m \u001b[49m\u001b[43mmu\u001b[49m\u001b[43m,\u001b[49m\u001b[43m \u001b[49m\u001b[43mm_star\u001b[49m\u001b[43m,\u001b[49m\u001b[43m \u001b[49m\u001b[43ms\u001b[49m\u001b[43m,\u001b[49m\u001b[43m \u001b[49m\u001b[43mq\u001b[49m\u001b[43m,\u001b[49m\u001b[43m \u001b[49m\u001b[43mtol\u001b[49m\u001b[43m)\u001b[49m\n\u001b[1;32m    622\u001b[0m \u001b[38;5;28;01melif\u001b[39;00m (q \u001b[38;5;241m%\u001b[39m s):\n\u001b[1;32m    623\u001b[0m     \u001b[38;5;28;01mif\u001b[39;00m status_only:\n",
      "File \u001b[0;32m~/opt/anaconda3/lib/python3.9/site-packages/scipy/sparse/linalg/_expm_multiply.py:668\u001b[0m, in \u001b[0;36m_expm_multiply_interval_core_1\u001b[0;34m(A, X, h, mu, m_star, s, q, tol)\u001b[0m\n\u001b[1;32m    666\u001b[0m \u001b[38;5;28;01mfor\u001b[39;00m p \u001b[38;5;129;01min\u001b[39;00m \u001b[38;5;28mrange\u001b[39m(\u001b[38;5;241m1\u001b[39m, m_star\u001b[38;5;241m+\u001b[39m\u001b[38;5;241m1\u001b[39m):\n\u001b[1;32m    667\u001b[0m     \u001b[38;5;28;01mif\u001b[39;00m p \u001b[38;5;241m>\u001b[39m high_p:\n\u001b[0;32m--> 668\u001b[0m         K[p] \u001b[38;5;241m=\u001b[39m h \u001b[38;5;241m*\u001b[39m \u001b[43mA\u001b[49m\u001b[38;5;241;43m.\u001b[39;49m\u001b[43mdot\u001b[49m\u001b[43m(\u001b[49m\u001b[43mK\u001b[49m\u001b[43m[\u001b[49m\u001b[43mp\u001b[49m\u001b[38;5;241;43m-\u001b[39;49m\u001b[38;5;241;43m1\u001b[39;49m\u001b[43m]\u001b[49m\u001b[43m)\u001b[49m \u001b[38;5;241m/\u001b[39m \u001b[38;5;28mfloat\u001b[39m(p)\n\u001b[1;32m    669\u001b[0m     coeff \u001b[38;5;241m=\u001b[39m \u001b[38;5;28mfloat\u001b[39m(\u001b[38;5;28mpow\u001b[39m(k, p))\n\u001b[1;32m    670\u001b[0m     F \u001b[38;5;241m=\u001b[39m F \u001b[38;5;241m+\u001b[39m coeff \u001b[38;5;241m*\u001b[39m K[p]\n",
      "\u001b[0;31mKeyboardInterrupt\u001b[0m: "
     ]
    }
   ],
   "source": [
    "from IPython.display import clear_output\n",
    "\n",
    "allData_    = None\n",
    "trade_dates = list(BinanceData.resample('d').last().dropna().index)\n",
    "\n",
    "for td in trade_dates[20:]:\n",
    "    from_dt_is = td - datetime.timedelta(minutes = 60)\n",
    "    from_dt    = td\n",
    "    to_dt      = td + datetime.timedelta(minutes = 30)\n",
    "    end_of_day = False\n",
    "    \n",
    "    while not end_of_day:\n",
    "        trade_date       = str(td).split(' ')[0]\n",
    "        from_datetime    = str(from_dt)\n",
    "        to_datetime      = str(to_dt)\n",
    "        from_dt_insample = str(from_dt_is)\n",
    "        \n",
    "        if to_datetime not in dict_results.keys():\n",
    "            clear_output(wait=True)\n",
    "            # Some verbose\n",
    "            if len(dict_results) > 0:\n",
    "                pnls = [dict_results[k].LPWealth.iloc[-1] / (dict_results[k].pool_inv_y.abs().mean() * dict_results[k].Z.iloc[0]) for k in dict_results.keys()]\n",
    "                print('Number of points : ', len(pnls))\n",
    "                print('Last pnl : ', pnls[-1])\n",
    "                print('Pnls:', np.mean(np.array(pnls)[np.isfinite(np.array(pnls))]), ' / ', np.std(np.array(pnls)[np.isfinite(np.array(pnls))]))\n",
    "                print('\\n')\n",
    "\n",
    "            print('Trading from ', from_datetime, ' to ', to_datetime)\n",
    "\n",
    "            #try:\n",
    "            ############################################\n",
    "            # load data\n",
    "            ############################################\n",
    "            oneDayLTdata, oneDayLPdata, oneDaybinanceLTdata,\\\n",
    "            fill_exponents, pool_sizes, hist_prices,\\\n",
    "            initial_convexity, trade_sizes, bothPrices = get_LT_LP_Binance_data(LTdata, LPdata, BinanceData, trade_date, \n",
    "                                                                                from_datetime, to_datetime)\n",
    "            \n",
    "            # we need a minimum amount of data:\n",
    "            if initial_convexity is not None: # this is set in get_LT_LP_Binance_data\n",
    "                bothPrices.columns = ['Binance', 'Uniswap']\n",
    "                in_sample_data = BinanceData[ ((BinanceData.index<=from_datetime) &\n",
    "                                                (BinanceData.index>from_dt_insample))]\n",
    "\n",
    "                ############################################\n",
    "                # estimate in-sample parameters\n",
    "                ############################################\n",
    "                initial_price          = hist_prices[0]\n",
    "                n_steps                = len(oneDayLTdata)\n",
    "                arrival_rate           = trade_sizes.mean() / (in_sample_data.reset_index().time.diff(1).mean().seconds/60 + in_sample_data.reset_index().time.diff(1).mean().microseconds /1000000/60)\n",
    "                unit_size              = 1 #oneDaybinanceLTdata.qty.mean() #10 #(max_inventory_pool - min_inventory_pool) / 100 # matrix of size 1000\n",
    "                terminal_time          = (bothPrices.index[-1] - bothPrices.index[0]).total_seconds()/60/60/24\n",
    "                \n",
    "                # if arrival rate is too large\n",
    "                if arrival_rate > 1000: arrival_rate = 1000\n",
    "                \n",
    "                print('Average frequency          :',  oneDayLTdata.reset_index().timestamp.diff(1).mean())\n",
    "                print('Average trading size       :',  unit_size)\n",
    "                print('Initial inventory          :',  initial_inventory_pool)\n",
    "                print('Permanent impact param (L) :',  jump_size_L)\n",
    "                print('Fill exponent              :',  fill_exponent)\n",
    "                print('Price increment            :',  jump_size_L)\n",
    "                print('Arrival rate               :',  arrival_rate)\n",
    "                \n",
    "                try:\n",
    "                    pool_agent = get_pool_agent(arrival_rate, phi, alpha, fill_exponent, \n",
    "                                                initial_inventory_pool, target_inventory, \n",
    "                                                jump_size_L, unit_size, min_inventory_pool, max_inventory_pool,\n",
    "                                                initial_price, max_depth,\n",
    "                                                terminal_time, terminal_time/n_steps,\n",
    "                                                seed, n_steps, num_trajectories, \n",
    "                                                eta_func_bid, eta_func_ask,\n",
    "                                                verbose)\n",
    "                    print('pool agent:', pool_agent)\n",
    "\n",
    "                    ############################################\n",
    "                    # Run and store simulation result\n",
    "                    ############################################\n",
    "                    try:\n",
    "                        pool_earnings_history, arb_earnings_history, historical_pool_prices, historical_oracle_prices,\\\n",
    "                        historical_ba, historical_pool_inventory, historical_pool_cash, historical_pool_value_adjustments\\\n",
    "                                = runOneSimulation(pool_agent, bothPrices, unit_size, \n",
    "                                           min_inventory_pool, max_inventory_pool, target_inventory,\n",
    "                                           eta_func_bid, eta_func_ask, jump_size_L, 0)\n",
    "                        \n",
    "                        print('getting data')\n",
    "                        initial_pool_value = 0\n",
    "                        \n",
    "                        try:\n",
    "                            allData_, bid_history, ask_history = getOneSimulationData(initial_pool_value, initial_inventory_pool,\n",
    "                                                                                      historical_pool_prices,  historical_ba, \n",
    "                                                                                      historical_pool_inventory, pool_earnings_history, \n",
    "                                                                                      historical_oracle_prices, historical_pool_cash, \n",
    "                                                                                      historical_pool_value_adjustments)\n",
    "\n",
    "\n",
    "                            uniswapindex  = allData_.reset_index().dropna().index\n",
    "                            allData       = allData_.dropna()\n",
    "                            bid_history   = bid_history.loc[allData.index]\n",
    "                            ask_history   = ask_history.loc[allData.index]\n",
    "                            allData.index = bothPrices.iloc[uniswapindex].index\n",
    "\n",
    "                            dict_results[to_datetime] = allData\n",
    "                        except Exception as e:\n",
    "                            print('Error while getting data from simulation :', str(e))\n",
    "                    except Exception as e:\n",
    "                        print('Error while running simulation :', str(e))                    \n",
    "                except Exception as e:\n",
    "                    print('Error while creating pool agent :', str(e))\n",
    "                \n",
    "                \n",
    "                #except Exception as e:\n",
    "                #    print('ERROR : ', str(e))\n",
    "            else:\n",
    "                print('Not enough Uniswap data')\n",
    "        if to_datetime == f'{trade_date} 23:30': end_of_day = True\n",
    "        from_dt     += datetime.timedelta(minutes = 30)\n",
    "        to_dt       += datetime.timedelta(minutes = 30)\n",
    "        from_dt_is  += datetime.timedelta(minutes = 30)"
   ]
  },
  {
   "cell_type": "code",
   "execution_count": null,
   "id": "3e116b96",
   "metadata": {},
   "outputs": [],
   "source": []
  }
 ],
 "metadata": {
  "kernelspec": {
   "display_name": "Python 3 (ipykernel)",
   "language": "python",
   "name": "python3"
  },
  "language_info": {
   "codemirror_mode": {
    "name": "ipython",
    "version": 3
   },
   "file_extension": ".py",
   "mimetype": "text/x-python",
   "name": "python",
   "nbconvert_exporter": "python",
   "pygments_lexer": "ipython3",
   "version": "3.9.12"
  }
 },
 "nbformat": 4,
 "nbformat_minor": 5
}
